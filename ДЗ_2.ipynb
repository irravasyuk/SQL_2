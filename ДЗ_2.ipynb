{
  "nbformat": 4,
  "nbformat_minor": 0,
  "metadata": {
    "colab": {
      "provenance": [],
      "toc_visible": true,
      "include_colab_link": true
    },
    "kernelspec": {
      "name": "python3",
      "display_name": "Python 3"
    },
    "language_info": {
      "name": "python"
    }
  },
  "cells": [
    {
      "cell_type": "markdown",
      "metadata": {
        "id": "view-in-github",
        "colab_type": "text"
      },
      "source": [
        "<a href=\"https://colab.research.google.com/github/irravasyuk/SQL_2/blob/master/%D0%94%D0%97_2.ipynb\" target=\"_parent\"><img src=\"https://colab.research.google.com/assets/colab-badge.svg\" alt=\"Open In Colab\"/></a>"
      ]
    },
    {
      "cell_type": "markdown",
      "source": [
        "Імпортуйте модуль numpy"
      ],
      "metadata": {
        "id": "tk2sNnUDkXK9"
      }
    },
    {
      "cell_type": "code",
      "source": [
        "import numpy as np"
      ],
      "metadata": {
        "id": "1QbCsQ62kUmZ"
      },
      "execution_count": 1,
      "outputs": []
    },
    {
      "cell_type": "markdown",
      "source": [
        "#Завдання 1\n",
        "\n",
        "Створіть масив з парними числами між 30 і 70"
      ],
      "metadata": {
        "id": "ZVC4Yb3JZFO1"
      }
    },
    {
      "cell_type": "code",
      "source": [
        "even_num = np.arange(30, 71, 2)\n",
        "print(\"Масив з парними числами між 30 і 70:\\n\", even_num)"
      ],
      "metadata": {
        "id": "aunm4Jm_hUkL",
        "outputId": "d8b31186-3137-450d-e9ee-2808e73d5190",
        "colab": {
          "base_uri": "https://localhost:8080/"
        }
      },
      "execution_count": 2,
      "outputs": [
        {
          "output_type": "stream",
          "name": "stdout",
          "text": [
            "Масив з парними числами між 30 і 70:\n",
            " [30 32 34 36 38 40 42 44 46 48 50 52 54 56 58 60 62 64 66 68 70]\n"
          ]
        }
      ]
    },
    {
      "cell_type": "markdown",
      "source": [
        "#Завдання 2\n",
        "Створіть масив з 10 числами між 0(включно) та 1(не включно) див документацію"
      ],
      "metadata": {
        "id": "UDSLr3f0b31r"
      }
    },
    {
      "cell_type": "code",
      "source": [
        "array = np.linspace(0, 1, num = 11, endpoint=False)\n",
        "print(array)"
      ],
      "metadata": {
        "id": "w7iNkGd_hUM-",
        "outputId": "850fef34-a285-4135-fab2-6aa8039b3917",
        "colab": {
          "base_uri": "https://localhost:8080/"
        }
      },
      "execution_count": 3,
      "outputs": [
        {
          "output_type": "stream",
          "name": "stdout",
          "text": [
            "[0.         0.09090909 0.18181818 0.27272727 0.36363636 0.45454545\n",
            " 0.54545455 0.63636364 0.72727273 0.81818182 0.90909091]\n"
          ]
        }
      ]
    },
    {
      "cell_type": "markdown",
      "source": [
        "#Завдання 4\n",
        "Напишіть функцію яка приймає матрицю розміру nxn та повертає матрицю розміру (n+2) x (n+2), на краях якої розміщенні 0."
      ],
      "metadata": {
        "id": "rtWKmLWhYi_j"
      }
    },
    {
      "cell_type": "code",
      "source": [
        "def matrix_zero(matrix):\n",
        "  n = matrix.shape[0]\n",
        "\n",
        "  new_matrix = np.zeros((n + 2, n + 2), dtype=matrix.dtype)\n",
        "\n",
        "  new_matrix[1:n+1, 1:n+1] = matrix\n",
        "\n",
        "  return new_matrix\n",
        "\n",
        "input_matrix = np.array([[1,2], [3,4]])\n",
        "output_matrix = matrix_zero(input_matrix)\n",
        "\n",
        "print(output_matrix)"
      ],
      "metadata": {
        "id": "mU7vjsnqhVfk",
        "colab": {
          "base_uri": "https://localhost:8080/"
        },
        "outputId": "f4ff1a97-cd5a-438d-e0f3-9dd691261dec"
      },
      "execution_count": 4,
      "outputs": [
        {
          "output_type": "stream",
          "name": "stdout",
          "text": [
            "[[0 0 0 0]\n",
            " [0 1 2 0]\n",
            " [0 3 4 0]\n",
            " [0 0 0 0]]\n"
          ]
        }
      ]
    },
    {
      "cell_type": "markdown",
      "source": [
        "#Завдання 5\n",
        "У попередьньому масиві змініть тип даних. Виведіть тип даних до та після зміни"
      ],
      "metadata": {
        "id": "ok_hMAEJa9oh"
      }
    },
    {
      "cell_type": "code",
      "source": [
        "def matrix_zero(matrix):\n",
        "  n = matrix.shape[0]\n",
        "\n",
        "  new_matrix = np.zeros((n + 2, n + 2), dtype=matrix.dtype)\n",
        "\n",
        "  new_matrix[1:n+1, 1:n+1] = matrix\n",
        "\n",
        "  return new_matrix\n",
        "\n",
        "input_matrix = np.array([[1,2], [3,4]])\n",
        "output_matrix = matrix_zero(input_matrix)\n",
        "\n",
        "print(output_matrix)\n",
        "\n",
        "print(\"Тип даних до зміни:\\n\", output_matrix.dtype)\n",
        "\n",
        "changed_type = output_matrix.astype(np.float16)\n",
        "\n",
        "print(\"Тип даних після зміни:\\n\", changed_type.dtype)\n",
        "print(changed_type)"
      ],
      "metadata": {
        "id": "vYlj3r3ShV98",
        "outputId": "53269a9c-58e2-4017-f91b-529c129c7d74",
        "colab": {
          "base_uri": "https://localhost:8080/"
        }
      },
      "execution_count": 6,
      "outputs": [
        {
          "output_type": "stream",
          "name": "stdout",
          "text": [
            "[[0 0 0 0]\n",
            " [0 1 2 0]\n",
            " [0 3 4 0]\n",
            " [0 0 0 0]]\n",
            "Тип даних до зміни:\n",
            " int64\n",
            "Тип даних після зміни:\n",
            " float16\n",
            "[[0. 0. 0. 0.]\n",
            " [0. 1. 2. 0.]\n",
            " [0. 3. 4. 0.]\n",
            " [0. 0. 0. 0.]]\n"
          ]
        }
      ]
    },
    {
      "cell_type": "markdown",
      "source": [
        "#Завдання 6\n",
        "У даному масиві замініть елементи, які дорівнюють\\більші\\менші за var на -1"
      ],
      "metadata": {
        "id": "aR7TWyqgZUDg"
      }
    },
    {
      "cell_type": "code",
      "source": [
        "import numpy as np\n",
        "x = np.array([1, 5, 3, 8, 6, 5, 7, 4])\n",
        "var = 5\n",
        "\n",
        "x[x < var] = -1\n",
        "x[x > var] = -1\n",
        "\n",
        "print(x)"
      ],
      "metadata": {
        "id": "oPzL69Fbg2Wq",
        "outputId": "2ca7bbb7-9728-4cee-e506-591cb6c60667",
        "colab": {
          "base_uri": "https://localhost:8080/"
        }
      },
      "execution_count": 3,
      "outputs": [
        {
          "output_type": "stream",
          "name": "stdout",
          "text": [
            "[-1  5 -1 -1 -1  5 -1 -1]\n"
          ]
        }
      ]
    },
    {
      "cell_type": "markdown",
      "source": [
        "#Завдання 7\n",
        "Замініть пропущені значення матриці(np.nan) на -1\n",
        "\n",
        "Дивись np.isnan"
      ],
      "metadata": {
        "id": "Ks3Rtc7kajMJ"
      }
    },
    {
      "cell_type": "code",
      "source": [
        "import numpy as np\n",
        "X = np.array([[1, 2, np.nan, 4],\n",
        "              [5, np.nan, np.nan, 4],\n",
        "              [np.nan, 10, 11, np.nan]])\n",
        "\n",
        "mask = np.isnan(X)\n",
        "\n",
        "X[mask] = -1\n",
        "\n",
        "print(X)\n"
      ],
      "metadata": {
        "id": "Rr8CdINEg3Rj",
        "outputId": "23085374-527f-4a99-92c2-954ea40650c8",
        "colab": {
          "base_uri": "https://localhost:8080/"
        }
      },
      "execution_count": 4,
      "outputs": [
        {
          "output_type": "stream",
          "name": "stdout",
          "text": [
            "[[ 1.  2. -1.  4.]\n",
            " [ 5. -1. -1.  4.]\n",
            " [-1. 10. 11. -1.]]\n"
          ]
        }
      ]
    },
    {
      "cell_type": "markdown",
      "source": [
        "#Завдання 8\n",
        "Створіть матрицю розміру 4х6 з випадковими числами. Змініть її розмір на 3х8"
      ],
      "metadata": {
        "id": "teYwjikMa0gs"
      }
    },
    {
      "cell_type": "code",
      "source": [
        "import numpy as np\n",
        "\n",
        "matrix_4x6 = np.random.random((4, 6))\n",
        "print(\"Матриця 4x6\")\n",
        "print(matrix_4x6)\n",
        "print(\"Розмір матриці:\", matrix_4x6.shape)\n",
        "\n",
        "matrix_3x8 = matrix_4x6.reshape(3, 8)\n",
        "\n",
        "print(\"Матриця 3x8\")\n",
        "print(matrix_3x8)\n",
        "print(\"Розмір матриці:\", matrix_3x8.shape)\n"
      ],
      "metadata": {
        "id": "JhNvUJwxhXED",
        "outputId": "ed2e039c-050e-4eb6-97fb-0e62729e3720",
        "colab": {
          "base_uri": "https://localhost:8080/"
        }
      },
      "execution_count": 5,
      "outputs": [
        {
          "output_type": "stream",
          "name": "stdout",
          "text": [
            "Матриця 4x6\n",
            "[[0.63633947 0.46190581 0.12164659 0.6110616  0.48223859 0.05863074]\n",
            " [0.46626054 0.58446264 0.35629436 0.79798493 0.20483647 0.22328218]\n",
            " [0.48392048 0.94325325 0.47899706 0.59408204 0.12994507 0.23811432]\n",
            " [0.0679227  0.55928837 0.68220927 0.01430506 0.06958022 0.24587664]]\n",
            "Розмір матриці: (4, 6)\n",
            "Матриця 3x8\n",
            "[[0.63633947 0.46190581 0.12164659 0.6110616  0.48223859 0.05863074\n",
            "  0.46626054 0.58446264]\n",
            " [0.35629436 0.79798493 0.20483647 0.22328218 0.48392048 0.94325325\n",
            "  0.47899706 0.59408204]\n",
            " [0.12994507 0.23811432 0.0679227  0.55928837 0.68220927 0.01430506\n",
            "  0.06958022 0.24587664]]\n",
            "Розмір матриці: (3, 8)\n"
          ]
        }
      ]
    },
    {
      "cell_type": "markdown",
      "source": [
        "#Завдання 9\n",
        "Створіть матрицю з одиниць розміром 3х4. Знайдіть середнє арифметичне(mean) кожного стовпчика"
      ],
      "metadata": {
        "id": "jVE8280acszi"
      }
    },
    {
      "cell_type": "code",
      "source": [
        "import numpy as np\n",
        "\n",
        "matrix = np.ones((3, 4))\n",
        "\n",
        "print(\"Матриця:\\n\", matrix)\n",
        "\n",
        "arithmetic_mean = np.mean(matrix, axis = 0)\n",
        "print(\"Середнє арифметичне стовпчиків:\", arithmetic_mean)"
      ],
      "metadata": {
        "id": "5QI6HPNHhXd4",
        "outputId": "75f6c471-f968-4868-fd3d-30e0ab603840",
        "colab": {
          "base_uri": "https://localhost:8080/"
        }
      },
      "execution_count": 7,
      "outputs": [
        {
          "output_type": "stream",
          "name": "stdout",
          "text": [
            "Матриця:\n",
            " [[1. 1. 1. 1.]\n",
            " [1. 1. 1. 1.]\n",
            " [1. 1. 1. 1.]]\n",
            "Середнє арифметичне стовпчиків: [1. 1. 1. 1.]\n"
          ]
        }
      ]
    },
    {
      "cell_type": "markdown",
      "source": [
        "#Завдання 10\n",
        "Створіть випадкову матрицю розміром 5х6. Округліть значення до одного знаку після коми(np.round). Розмістіть стовпчики так, щоб значення в першому рядку були відсортовані за зростанням"
      ],
      "metadata": {
        "id": "nK6LwLjfc9aC"
      }
    },
    {
      "cell_type": "code",
      "source": [
        "import numpy as np\n",
        "\n",
        "matrix = np.random.random((5, 6))\n",
        "\n",
        "print(\"Матриця випадкових чисел:\")\n",
        "print(matrix)\n",
        "\n",
        "rounded_matrix = np.round(matrix, decimals=1)\n",
        "\n",
        "print(\"\\nОкруглена таблиця:\")\n",
        "print(rounded_matrix)\n",
        "\n",
        "sorted_first_row = np.sort(rounded_matrix[0])\n",
        "sorted_matrix = np.array([sorted_first_row] + [row for row in rounded_matrix[1:]])\n",
        "\n",
        "print(\"Відсортована матриця: \")\n",
        "print(sorted_matrix)"
      ],
      "metadata": {
        "id": "pERBNp12hX58",
        "outputId": "00a1a22f-f537-4325-e255-9670eaf2fa41",
        "colab": {
          "base_uri": "https://localhost:8080/"
        }
      },
      "execution_count": 9,
      "outputs": [
        {
          "output_type": "stream",
          "name": "stdout",
          "text": [
            "Матриця випадкових чисел:\n",
            "[[0.97571353 0.46234548 0.67920558 0.94084561 0.73999079 0.10108438]\n",
            " [0.60245477 0.34343813 0.07645744 0.72397313 0.75219986 0.89403167]\n",
            " [0.51404682 0.29449677 0.0174791  0.93057711 0.75556498 0.91859694]\n",
            " [0.70408882 0.86370737 0.81339831 0.03495786 0.54473596 0.69901898]\n",
            " [0.05625928 0.02882429 0.99285216 0.34173807 0.47343109 0.82221771]]\n",
            "\n",
            "Округлена таблиця:\n",
            "[[1.  0.5 0.7 0.9 0.7 0.1]\n",
            " [0.6 0.3 0.1 0.7 0.8 0.9]\n",
            " [0.5 0.3 0.  0.9 0.8 0.9]\n",
            " [0.7 0.9 0.8 0.  0.5 0.7]\n",
            " [0.1 0.  1.  0.3 0.5 0.8]]\n",
            "Відсортована матриця: \n",
            "[[0.1 0.5 0.7 0.7 0.9 1. ]\n",
            " [0.6 0.3 0.1 0.7 0.8 0.9]\n",
            " [0.5 0.3 0.  0.9 0.8 0.9]\n",
            " [0.7 0.9 0.8 0.  0.5 0.7]\n",
            " [0.1 0.  1.  0.3 0.5 0.8]]\n"
          ]
        }
      ]
    },
    {
      "cell_type": "markdown",
      "source": [
        "#Завдання 11\n",
        "В даній матриці знайдіть всі елементи зі значенням між 3 і 6\n",
        "\n",
        "Дивись документацію np.logical_and"
      ],
      "metadata": {
        "id": "faCqq4bxiXsg"
      }
    },
    {
      "cell_type": "code",
      "source": [
        "import numpy as np\n",
        "X = np.array([[1, 2, 3, 4, 5],\n",
        "              [6, 7, 8, 9, 10],\n",
        "              [9, 8, 7, 6, 5],\n",
        "              [4, 3, 2, 1, 0]])\n",
        "\n",
        "elements = np.logical_and(X >= 3, X <= 6)\n",
        "\n",
        "result = X[elements]\n",
        "\n",
        "print(\"Елементи між 3 і 6:\")\n",
        "print(result)"
      ],
      "metadata": {
        "id": "01ZY_c-tilOF",
        "outputId": "53f8eb92-5658-4b3f-e320-747696fafa1b",
        "colab": {
          "base_uri": "https://localhost:8080/"
        }
      },
      "execution_count": 10,
      "outputs": [
        {
          "output_type": "stream",
          "name": "stdout",
          "text": [
            "Елементи між 3 і 6:\n",
            "[3 4 5 6 6 5 4 3]\n"
          ]
        }
      ]
    },
    {
      "cell_type": "markdown",
      "source": [
        "#Завдання 12\n",
        "Створіть випадкову матрицю розміру 5х6. Нормалізуйте стовпчики: від кожного елемента ставпчика відніміть мінімальне значення та поділіть результат на різницю між максимальним та мінімальним елементом цього стовпчика.\n",
        "\n",
        "Після цього всі значення мають бути в межах [0, 1]"
      ],
      "metadata": {
        "id": "cCZSaa3DMKxb"
      }
    },
    {
      "cell_type": "code",
      "source": [
        "import numpy as np\n",
        "\n",
        "matrix = np.random.random((5, 6))\n",
        "\n",
        "print(\"Матриця випадкових чисел:\")\n",
        "print(matrix)\n",
        "\n",
        "normalized_row = (matrix - matrix.min(axis=0)) / (matrix.max(axis=0) - matrix.min(axis=0))\n",
        "print(\"\\nНормалізована матриця:\")\n",
        "print(normalized_row)"
      ],
      "metadata": {
        "id": "qnOYOAgOMqRi",
        "outputId": "56b64d7c-0105-4624-c764-a9fff402d9a3",
        "colab": {
          "base_uri": "https://localhost:8080/"
        }
      },
      "execution_count": 13,
      "outputs": [
        {
          "output_type": "stream",
          "name": "stdout",
          "text": [
            "Матриця випадкових чисел:\n",
            "[[0.22036808 0.2641169  0.62217727 0.56372444 0.08887763 0.46164054]\n",
            " [0.36955263 0.04973786 0.05726703 0.29841326 0.08948384 0.33082654]\n",
            " [0.88370031 0.84389837 0.44837916 0.79864316 0.13577463 0.85863843]\n",
            " [0.32362428 0.05405895 0.67849562 0.06982688 0.21340491 0.61837877]\n",
            " [0.00816363 0.66393559 0.01935016 0.78050216 0.77413338 0.97575489]]\n",
            "\n",
            "Нормалізована матриця:\n",
            "[[2.42370718e-01 2.69944212e-01 9.14558539e-01 6.77670870e-01\n",
            "  0.00000000e+00 2.02834946e-01]\n",
            " [4.12762837e-01 0.00000000e+00 5.75242902e-02 3.13640604e-01\n",
            "  8.84654529e-04 0.00000000e+00]\n",
            " [1.00000000e+00 1.00000000e+00 6.50886691e-01 1.00000000e+00\n",
            "  6.84372184e-02 8.18403917e-01]\n",
            " [3.60305466e-01 5.44107359e-03 1.00000000e+00 0.00000000e+00\n",
            "  1.81723803e-01 4.45866948e-01]\n",
            " [0.00000000e+00 7.73392434e-01 0.00000000e+00 9.75108951e-01\n",
            "  1.00000000e+00 1.00000000e+00]]\n"
          ]
        }
      ]
    }
  ]
}