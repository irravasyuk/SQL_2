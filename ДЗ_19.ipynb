{
  "nbformat": 4,
  "nbformat_minor": 0,
  "metadata": {
    "colab": {
      "provenance": [],
      "include_colab_link": true
    },
    "kernelspec": {
      "name": "python3",
      "display_name": "Python 3"
    },
    "language_info": {
      "name": "python"
    }
  },
  "cells": [
    {
      "cell_type": "markdown",
      "metadata": {
        "id": "view-in-github",
        "colab_type": "text"
      },
      "source": [
        "<a href=\"https://colab.research.google.com/github/irravasyuk/SQL_2/blob/master/%D0%94%D0%97_19.ipynb\" target=\"_parent\"><img src=\"https://colab.research.google.com/assets/colab-badge.svg\" alt=\"Open In Colab\"/></a>"
      ]
    },
    {
      "cell_type": "markdown",
      "source": [
        "# Завдання 1\n",
        "Напишіть функцію, яка повертає список фраз з тексту, які відповідають певному шоблону. При необхідності можете добавити власні параметри.\n",
        "\n",
        "Протестуйте функцію на якомусь тексті."
      ],
      "metadata": {
        "id": "D56Rwjf4EXC_"
      }
    },
    {
      "cell_type": "code",
      "source": [
        "import nltk\n",
        "import re\n",
        "import string\n",
        "from nltk import pos_tag, word_tokenize\n",
        "from nltk.chunk import RegexpParser"
      ],
      "metadata": {
        "id": "KWfrw83Pv3J6"
      },
      "execution_count": 3,
      "outputs": []
    },
    {
      "cell_type": "code",
      "source": [
        "nltk.download('punkt')\n",
        "nltk.download('averaged_perceptron_tagger')"
      ],
      "metadata": {
        "id": "MaWxbjn_v6fI",
        "outputId": "129c760f-bd43-488b-c543-92ad68c42726",
        "colab": {
          "base_uri": "https://localhost:8080/"
        }
      },
      "execution_count": 4,
      "outputs": [
        {
          "output_type": "stream",
          "name": "stderr",
          "text": [
            "[nltk_data] Downloading package punkt to /root/nltk_data...\n",
            "[nltk_data]   Unzipping tokenizers/punkt.zip.\n",
            "[nltk_data] Downloading package averaged_perceptron_tagger to\n",
            "[nltk_data]     /root/nltk_data...\n",
            "[nltk_data]   Unzipping taggers/averaged_perceptron_tagger.zip.\n"
          ]
        },
        {
          "output_type": "execute_result",
          "data": {
            "text/plain": [
              "True"
            ]
          },
          "metadata": {},
          "execution_count": 4
        }
      ]
    },
    {
      "cell_type": "code",
      "source": [
        "def get_phrases(text, grammar, tag_name):\n",
        "    \"\"\"\n",
        "    Return list of phrases from text that match the specified grammar pattern.\n",
        "\n",
        "    Params:\n",
        "        text: str - original text\n",
        "        grammar: str - grammar pattern for phrase extraction (e.g., \"NP: {<DT>?<JJ>*<NN>}\")\n",
        "        tag_name: str - tag name that is used in nltk tree to identify the phrase\n",
        "\n",
        "    Return:\n",
        "        phrases: list[str] - list of phrases\n",
        "    \"\"\"\n",
        "    words = word_tokenize(text)\n",
        "    words = [word for word in words if word not in string.punctuation]\n",
        "\n",
        "    tags = pos_tag(words)\n",
        "\n",
        "    chunker = RegexpParser(grammar)\n",
        "\n",
        "    tree = chunker.parse(tags)\n",
        "\n",
        "    phrases = []\n",
        "    for subtree in tree.subtrees():\n",
        "        if subtree.label() == tag_name:\n",
        "            phrase = \" \".join(word for word, pos in subtree.leaves())\n",
        "            phrases.append(phrase)\n",
        "\n",
        "    return phrases"
      ],
      "metadata": {
        "id": "1otqd0P1v78l"
      },
      "execution_count": 5,
      "outputs": []
    },
    {
      "cell_type": "code",
      "source": [
        "text = \"\"\"\n",
        "Under the clear blue sky, the majestic mountains towered over the calm serene lake.\n",
        "A gentle breeze rustled the leaves of the tall, ancient trees that lined the peaceful path.\n",
        "The colorful wildflowers bloomed vibrantly, adding a splash of red, yellow, and purple to the landscape.\n",
        "As the sun began to set, the sky transformed into a breathtaking canvas of orange and pink hues.\n",
        "In the distance, the sound of chirping birds provided a soothing melody to the tranquil evening.\n",
        "\"\"\""
      ],
      "metadata": {
        "id": "P5ajHtBnwT7L"
      },
      "execution_count": 9,
      "outputs": []
    },
    {
      "cell_type": "code",
      "source": [
        "grammar = \"JJNV: {<JJ.*><N.*><V.*>}\"\n",
        "tag_name = \"JJNV\""
      ],
      "metadata": {
        "id": "BkBM0HSJwZK-"
      },
      "execution_count": 10,
      "outputs": []
    },
    {
      "cell_type": "code",
      "source": [
        "phrases = get_phrases(text, grammar, tag_name)\n",
        "print(phrases)"
      ],
      "metadata": {
        "id": "x6eHArShwdNN",
        "outputId": "32856772-70d6-4b91-bd50-d4263b2efe73",
        "colab": {
          "base_uri": "https://localhost:8080/"
        }
      },
      "execution_count": 11,
      "outputs": [
        {
          "output_type": "stream",
          "name": "stdout",
          "text": [
            "['clear blue sky', 'majestic mountains towered', 'gentle breeze rustled', 'colorful wildflowers bloomed']\n"
          ]
        }
      ]
    }
  ]
}