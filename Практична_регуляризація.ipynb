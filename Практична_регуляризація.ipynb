{
  "nbformat": 4,
  "nbformat_minor": 0,
  "metadata": {
    "colab": {
      "provenance": [],
      "include_colab_link": true
    },
    "kernelspec": {
      "name": "python3",
      "display_name": "Python 3"
    },
    "language_info": {
      "name": "python"
    }
  },
  "cells": [
    {
      "cell_type": "markdown",
      "metadata": {
        "id": "view-in-github",
        "colab_type": "text"
      },
      "source": [
        "<a href=\"https://colab.research.google.com/github/irravasyuk/SQL_2/blob/master/%D0%9F%D1%80%D0%B0%D0%BA%D1%82%D0%B8%D1%87%D0%BD%D0%B0_%D1%80%D0%B5%D0%B3%D1%83%D0%BB%D1%8F%D1%80%D0%B8%D0%B7%D0%B0%D1%86%D1%96%D1%8F.ipynb\" target=\"_parent\"><img src=\"https://colab.research.google.com/assets/colab-badge.svg\" alt=\"Open In Colab\"/></a>"
      ]
    },
    {
      "cell_type": "markdown",
      "source": [
        "Імпорт модулів"
      ],
      "metadata": {
        "id": "w1r0k1UheNCz"
      }
    },
    {
      "cell_type": "code",
      "execution_count": 1,
      "metadata": {
        "id": "4XxgJqCDoExm"
      },
      "outputs": [],
      "source": [
        "import torch\n",
        "import pandas as pd\n",
        "\n",
        "device = \"cuda\" if torch.cuda.is_available() else \"cpu\"\n",
        "torch.set_default_device(device)"
      ]
    },
    {
      "cell_type": "markdown",
      "source": [
        "Дані про розпад протонів\n",
        "\n",
        "[посилання](https://www.kaggle.com/datasets/fedesoriano/multijet-primary-dataset)"
      ],
      "metadata": {
        "id": "Kpk2KycTeQEE"
      }
    },
    {
      "cell_type": "code",
      "source": [
        "# трохи обробки даних\n",
        "df = pd.read_csv('https://raw.githubusercontent.com/HalyshAnton/IT-Step-Pyton-AI/main/module3/data/MultiJetRun2010B.csv')\n",
        "\n",
        "df = df[df['nBJets'] != 2]\n",
        "\n",
        "columns = df.columns.delete(-1)\n",
        "data = df[columns]\n",
        "df[columns] = (data - data.min()) / (data.max() - data.min())"
      ],
      "metadata": {
        "id": "926S2f5pdnH6"
      },
      "execution_count": 2,
      "outputs": []
    },
    {
      "cell_type": "markdown",
      "source": [
        "Дані погано збалансовані"
      ],
      "metadata": {
        "id": "Mq24yRptMSrO"
      }
    },
    {
      "cell_type": "code",
      "source": [
        "df['nBJets'].value_counts()"
      ],
      "metadata": {
        "id": "X6CQ04GdKnuu",
        "outputId": "8682deaf-917a-4401-add0-b718ea954842",
        "colab": {
          "base_uri": "https://localhost:8080/",
          "height": 178
        }
      },
      "execution_count": 3,
      "outputs": [
        {
          "output_type": "execute_result",
          "data": {
            "text/plain": [
              "nBJets\n",
              "0    20615\n",
              "1     1056\n",
              "Name: count, dtype: int64"
            ],
            "text/html": [
              "<table border=\"1\" class=\"dataframe\">\n",
              "  <thead>\n",
              "    <tr style=\"text-align: right;\">\n",
              "      <th></th>\n",
              "      <th>count</th>\n",
              "    </tr>\n",
              "    <tr>\n",
              "      <th>nBJets</th>\n",
              "      <th></th>\n",
              "    </tr>\n",
              "  </thead>\n",
              "  <tbody>\n",
              "    <tr>\n",
              "      <th>0</th>\n",
              "      <td>20615</td>\n",
              "    </tr>\n",
              "    <tr>\n",
              "      <th>1</th>\n",
              "      <td>1056</td>\n",
              "    </tr>\n",
              "  </tbody>\n",
              "</table><br><label><b>dtype:</b> int64</label>"
            ]
          },
          "metadata": {},
          "execution_count": 3
        }
      ]
    },
    {
      "cell_type": "code",
      "source": [
        "df.head()"
      ],
      "metadata": {
        "colab": {
          "base_uri": "https://localhost:8080/",
          "height": 206
        },
        "id": "eG6_dawddqwd",
        "outputId": "8beb0e0d-d4f3-47d1-df0a-07debd89921f"
      },
      "execution_count": 4,
      "outputs": [
        {
          "output_type": "execute_result",
          "data": {
            "text/plain": [
              "        Run  Lumi     Event        MR       Rsq        E1       Px1       Py1  \\\n",
              "0  0.082072   0.0  0.000002  0.077191  0.041860  0.044618  0.342725  0.531326   \n",
              "1  0.082072   0.0  0.000006  0.052182  0.055190  0.018690  0.493614  0.585784   \n",
              "2  0.082072   0.0  0.000015  0.154156  0.035263  0.101251  0.540018  0.671386   \n",
              "3  0.082072   0.0  0.000048  0.106599  0.123328  0.063472  0.306290  0.523352   \n",
              "4  0.082072   0.0  0.000063  0.072599  0.024611  0.383563  0.508826  0.564737   \n",
              "\n",
              "        Pz1        E2       Px2       Py2       Pz2        HT       MET  \\\n",
              "0  0.480732  0.055588  0.696681  0.457241  0.440224  0.061659  0.043047   \n",
              "1  0.491979  0.017684  0.567978  0.430552  0.474613  0.025133  0.034687   \n",
              "2  0.470196  0.273968  0.533484  0.338381  0.325311  0.165718  0.059381   \n",
              "3  0.483465  0.039306  0.713922  0.422854  0.493248  0.101707  0.108566   \n",
              "4  0.292545  0.224039  0.550834  0.433906  0.361549  0.110721  0.018941   \n",
              "\n",
              "   nJets  nBJets  \n",
              "0    0.0       0  \n",
              "1    0.0       0  \n",
              "2    0.2       0  \n",
              "3    0.0       0  \n",
              "4    0.2       0  "
            ],
            "text/html": [
              "\n",
              "  <div id=\"df-b4f49d53-45af-420d-abb2-5703c0df121b\" class=\"colab-df-container\">\n",
              "    <div>\n",
              "<style scoped>\n",
              "    .dataframe tbody tr th:only-of-type {\n",
              "        vertical-align: middle;\n",
              "    }\n",
              "\n",
              "    .dataframe tbody tr th {\n",
              "        vertical-align: top;\n",
              "    }\n",
              "\n",
              "    .dataframe thead th {\n",
              "        text-align: right;\n",
              "    }\n",
              "</style>\n",
              "<table border=\"1\" class=\"dataframe\">\n",
              "  <thead>\n",
              "    <tr style=\"text-align: right;\">\n",
              "      <th></th>\n",
              "      <th>Run</th>\n",
              "      <th>Lumi</th>\n",
              "      <th>Event</th>\n",
              "      <th>MR</th>\n",
              "      <th>Rsq</th>\n",
              "      <th>E1</th>\n",
              "      <th>Px1</th>\n",
              "      <th>Py1</th>\n",
              "      <th>Pz1</th>\n",
              "      <th>E2</th>\n",
              "      <th>Px2</th>\n",
              "      <th>Py2</th>\n",
              "      <th>Pz2</th>\n",
              "      <th>HT</th>\n",
              "      <th>MET</th>\n",
              "      <th>nJets</th>\n",
              "      <th>nBJets</th>\n",
              "    </tr>\n",
              "  </thead>\n",
              "  <tbody>\n",
              "    <tr>\n",
              "      <th>0</th>\n",
              "      <td>0.082072</td>\n",
              "      <td>0.0</td>\n",
              "      <td>0.000002</td>\n",
              "      <td>0.077191</td>\n",
              "      <td>0.041860</td>\n",
              "      <td>0.044618</td>\n",
              "      <td>0.342725</td>\n",
              "      <td>0.531326</td>\n",
              "      <td>0.480732</td>\n",
              "      <td>0.055588</td>\n",
              "      <td>0.696681</td>\n",
              "      <td>0.457241</td>\n",
              "      <td>0.440224</td>\n",
              "      <td>0.061659</td>\n",
              "      <td>0.043047</td>\n",
              "      <td>0.0</td>\n",
              "      <td>0</td>\n",
              "    </tr>\n",
              "    <tr>\n",
              "      <th>1</th>\n",
              "      <td>0.082072</td>\n",
              "      <td>0.0</td>\n",
              "      <td>0.000006</td>\n",
              "      <td>0.052182</td>\n",
              "      <td>0.055190</td>\n",
              "      <td>0.018690</td>\n",
              "      <td>0.493614</td>\n",
              "      <td>0.585784</td>\n",
              "      <td>0.491979</td>\n",
              "      <td>0.017684</td>\n",
              "      <td>0.567978</td>\n",
              "      <td>0.430552</td>\n",
              "      <td>0.474613</td>\n",
              "      <td>0.025133</td>\n",
              "      <td>0.034687</td>\n",
              "      <td>0.0</td>\n",
              "      <td>0</td>\n",
              "    </tr>\n",
              "    <tr>\n",
              "      <th>2</th>\n",
              "      <td>0.082072</td>\n",
              "      <td>0.0</td>\n",
              "      <td>0.000015</td>\n",
              "      <td>0.154156</td>\n",
              "      <td>0.035263</td>\n",
              "      <td>0.101251</td>\n",
              "      <td>0.540018</td>\n",
              "      <td>0.671386</td>\n",
              "      <td>0.470196</td>\n",
              "      <td>0.273968</td>\n",
              "      <td>0.533484</td>\n",
              "      <td>0.338381</td>\n",
              "      <td>0.325311</td>\n",
              "      <td>0.165718</td>\n",
              "      <td>0.059381</td>\n",
              "      <td>0.2</td>\n",
              "      <td>0</td>\n",
              "    </tr>\n",
              "    <tr>\n",
              "      <th>3</th>\n",
              "      <td>0.082072</td>\n",
              "      <td>0.0</td>\n",
              "      <td>0.000048</td>\n",
              "      <td>0.106599</td>\n",
              "      <td>0.123328</td>\n",
              "      <td>0.063472</td>\n",
              "      <td>0.306290</td>\n",
              "      <td>0.523352</td>\n",
              "      <td>0.483465</td>\n",
              "      <td>0.039306</td>\n",
              "      <td>0.713922</td>\n",
              "      <td>0.422854</td>\n",
              "      <td>0.493248</td>\n",
              "      <td>0.101707</td>\n",
              "      <td>0.108566</td>\n",
              "      <td>0.0</td>\n",
              "      <td>0</td>\n",
              "    </tr>\n",
              "    <tr>\n",
              "      <th>4</th>\n",
              "      <td>0.082072</td>\n",
              "      <td>0.0</td>\n",
              "      <td>0.000063</td>\n",
              "      <td>0.072599</td>\n",
              "      <td>0.024611</td>\n",
              "      <td>0.383563</td>\n",
              "      <td>0.508826</td>\n",
              "      <td>0.564737</td>\n",
              "      <td>0.292545</td>\n",
              "      <td>0.224039</td>\n",
              "      <td>0.550834</td>\n",
              "      <td>0.433906</td>\n",
              "      <td>0.361549</td>\n",
              "      <td>0.110721</td>\n",
              "      <td>0.018941</td>\n",
              "      <td>0.2</td>\n",
              "      <td>0</td>\n",
              "    </tr>\n",
              "  </tbody>\n",
              "</table>\n",
              "</div>\n",
              "    <div class=\"colab-df-buttons\">\n",
              "\n",
              "  <div class=\"colab-df-container\">\n",
              "    <button class=\"colab-df-convert\" onclick=\"convertToInteractive('df-b4f49d53-45af-420d-abb2-5703c0df121b')\"\n",
              "            title=\"Convert this dataframe to an interactive table.\"\n",
              "            style=\"display:none;\">\n",
              "\n",
              "  <svg xmlns=\"http://www.w3.org/2000/svg\" height=\"24px\" viewBox=\"0 -960 960 960\">\n",
              "    <path d=\"M120-120v-720h720v720H120Zm60-500h600v-160H180v160Zm220 220h160v-160H400v160Zm0 220h160v-160H400v160ZM180-400h160v-160H180v160Zm440 0h160v-160H620v160ZM180-180h160v-160H180v160Zm440 0h160v-160H620v160Z\"/>\n",
              "  </svg>\n",
              "    </button>\n",
              "\n",
              "  <style>\n",
              "    .colab-df-container {\n",
              "      display:flex;\n",
              "      gap: 12px;\n",
              "    }\n",
              "\n",
              "    .colab-df-convert {\n",
              "      background-color: #E8F0FE;\n",
              "      border: none;\n",
              "      border-radius: 50%;\n",
              "      cursor: pointer;\n",
              "      display: none;\n",
              "      fill: #1967D2;\n",
              "      height: 32px;\n",
              "      padding: 0 0 0 0;\n",
              "      width: 32px;\n",
              "    }\n",
              "\n",
              "    .colab-df-convert:hover {\n",
              "      background-color: #E2EBFA;\n",
              "      box-shadow: 0px 1px 2px rgba(60, 64, 67, 0.3), 0px 1px 3px 1px rgba(60, 64, 67, 0.15);\n",
              "      fill: #174EA6;\n",
              "    }\n",
              "\n",
              "    .colab-df-buttons div {\n",
              "      margin-bottom: 4px;\n",
              "    }\n",
              "\n",
              "    [theme=dark] .colab-df-convert {\n",
              "      background-color: #3B4455;\n",
              "      fill: #D2E3FC;\n",
              "    }\n",
              "\n",
              "    [theme=dark] .colab-df-convert:hover {\n",
              "      background-color: #434B5C;\n",
              "      box-shadow: 0px 1px 3px 1px rgba(0, 0, 0, 0.15);\n",
              "      filter: drop-shadow(0px 1px 2px rgba(0, 0, 0, 0.3));\n",
              "      fill: #FFFFFF;\n",
              "    }\n",
              "  </style>\n",
              "\n",
              "    <script>\n",
              "      const buttonEl =\n",
              "        document.querySelector('#df-b4f49d53-45af-420d-abb2-5703c0df121b button.colab-df-convert');\n",
              "      buttonEl.style.display =\n",
              "        google.colab.kernel.accessAllowed ? 'block' : 'none';\n",
              "\n",
              "      async function convertToInteractive(key) {\n",
              "        const element = document.querySelector('#df-b4f49d53-45af-420d-abb2-5703c0df121b');\n",
              "        const dataTable =\n",
              "          await google.colab.kernel.invokeFunction('convertToInteractive',\n",
              "                                                    [key], {});\n",
              "        if (!dataTable) return;\n",
              "\n",
              "        const docLinkHtml = 'Like what you see? Visit the ' +\n",
              "          '<a target=\"_blank\" href=https://colab.research.google.com/notebooks/data_table.ipynb>data table notebook</a>'\n",
              "          + ' to learn more about interactive tables.';\n",
              "        element.innerHTML = '';\n",
              "        dataTable['output_type'] = 'display_data';\n",
              "        await google.colab.output.renderOutput(dataTable, element);\n",
              "        const docLink = document.createElement('div');\n",
              "        docLink.innerHTML = docLinkHtml;\n",
              "        element.appendChild(docLink);\n",
              "      }\n",
              "    </script>\n",
              "  </div>\n",
              "\n",
              "\n",
              "<div id=\"df-e44f66b9-ca35-4713-aa7b-ca0420e991ac\">\n",
              "  <button class=\"colab-df-quickchart\" onclick=\"quickchart('df-e44f66b9-ca35-4713-aa7b-ca0420e991ac')\"\n",
              "            title=\"Suggest charts\"\n",
              "            style=\"display:none;\">\n",
              "\n",
              "<svg xmlns=\"http://www.w3.org/2000/svg\" height=\"24px\"viewBox=\"0 0 24 24\"\n",
              "     width=\"24px\">\n",
              "    <g>\n",
              "        <path d=\"M19 3H5c-1.1 0-2 .9-2 2v14c0 1.1.9 2 2 2h14c1.1 0 2-.9 2-2V5c0-1.1-.9-2-2-2zM9 17H7v-7h2v7zm4 0h-2V7h2v10zm4 0h-2v-4h2v4z\"/>\n",
              "    </g>\n",
              "</svg>\n",
              "  </button>\n",
              "\n",
              "<style>\n",
              "  .colab-df-quickchart {\n",
              "      --bg-color: #E8F0FE;\n",
              "      --fill-color: #1967D2;\n",
              "      --hover-bg-color: #E2EBFA;\n",
              "      --hover-fill-color: #174EA6;\n",
              "      --disabled-fill-color: #AAA;\n",
              "      --disabled-bg-color: #DDD;\n",
              "  }\n",
              "\n",
              "  [theme=dark] .colab-df-quickchart {\n",
              "      --bg-color: #3B4455;\n",
              "      --fill-color: #D2E3FC;\n",
              "      --hover-bg-color: #434B5C;\n",
              "      --hover-fill-color: #FFFFFF;\n",
              "      --disabled-bg-color: #3B4455;\n",
              "      --disabled-fill-color: #666;\n",
              "  }\n",
              "\n",
              "  .colab-df-quickchart {\n",
              "    background-color: var(--bg-color);\n",
              "    border: none;\n",
              "    border-radius: 50%;\n",
              "    cursor: pointer;\n",
              "    display: none;\n",
              "    fill: var(--fill-color);\n",
              "    height: 32px;\n",
              "    padding: 0;\n",
              "    width: 32px;\n",
              "  }\n",
              "\n",
              "  .colab-df-quickchart:hover {\n",
              "    background-color: var(--hover-bg-color);\n",
              "    box-shadow: 0 1px 2px rgba(60, 64, 67, 0.3), 0 1px 3px 1px rgba(60, 64, 67, 0.15);\n",
              "    fill: var(--button-hover-fill-color);\n",
              "  }\n",
              "\n",
              "  .colab-df-quickchart-complete:disabled,\n",
              "  .colab-df-quickchart-complete:disabled:hover {\n",
              "    background-color: var(--disabled-bg-color);\n",
              "    fill: var(--disabled-fill-color);\n",
              "    box-shadow: none;\n",
              "  }\n",
              "\n",
              "  .colab-df-spinner {\n",
              "    border: 2px solid var(--fill-color);\n",
              "    border-color: transparent;\n",
              "    border-bottom-color: var(--fill-color);\n",
              "    animation:\n",
              "      spin 1s steps(1) infinite;\n",
              "  }\n",
              "\n",
              "  @keyframes spin {\n",
              "    0% {\n",
              "      border-color: transparent;\n",
              "      border-bottom-color: var(--fill-color);\n",
              "      border-left-color: var(--fill-color);\n",
              "    }\n",
              "    20% {\n",
              "      border-color: transparent;\n",
              "      border-left-color: var(--fill-color);\n",
              "      border-top-color: var(--fill-color);\n",
              "    }\n",
              "    30% {\n",
              "      border-color: transparent;\n",
              "      border-left-color: var(--fill-color);\n",
              "      border-top-color: var(--fill-color);\n",
              "      border-right-color: var(--fill-color);\n",
              "    }\n",
              "    40% {\n",
              "      border-color: transparent;\n",
              "      border-right-color: var(--fill-color);\n",
              "      border-top-color: var(--fill-color);\n",
              "    }\n",
              "    60% {\n",
              "      border-color: transparent;\n",
              "      border-right-color: var(--fill-color);\n",
              "    }\n",
              "    80% {\n",
              "      border-color: transparent;\n",
              "      border-right-color: var(--fill-color);\n",
              "      border-bottom-color: var(--fill-color);\n",
              "    }\n",
              "    90% {\n",
              "      border-color: transparent;\n",
              "      border-bottom-color: var(--fill-color);\n",
              "    }\n",
              "  }\n",
              "</style>\n",
              "\n",
              "  <script>\n",
              "    async function quickchart(key) {\n",
              "      const quickchartButtonEl =\n",
              "        document.querySelector('#' + key + ' button');\n",
              "      quickchartButtonEl.disabled = true;  // To prevent multiple clicks.\n",
              "      quickchartButtonEl.classList.add('colab-df-spinner');\n",
              "      try {\n",
              "        const charts = await google.colab.kernel.invokeFunction(\n",
              "            'suggestCharts', [key], {});\n",
              "      } catch (error) {\n",
              "        console.error('Error during call to suggestCharts:', error);\n",
              "      }\n",
              "      quickchartButtonEl.classList.remove('colab-df-spinner');\n",
              "      quickchartButtonEl.classList.add('colab-df-quickchart-complete');\n",
              "    }\n",
              "    (() => {\n",
              "      let quickchartButtonEl =\n",
              "        document.querySelector('#df-e44f66b9-ca35-4713-aa7b-ca0420e991ac button');\n",
              "      quickchartButtonEl.style.display =\n",
              "        google.colab.kernel.accessAllowed ? 'block' : 'none';\n",
              "    })();\n",
              "  </script>\n",
              "</div>\n",
              "    </div>\n",
              "  </div>\n"
            ],
            "application/vnd.google.colaboratory.intrinsic+json": {
              "type": "dataframe",
              "variable_name": "df",
              "summary": "{\n  \"name\": \"df\",\n  \"rows\": 21671,\n  \"fields\": [\n    {\n      \"column\": \"Run\",\n      \"properties\": {\n        \"dtype\": \"number\",\n        \"std\": 0.47494780154320004,\n        \"min\": 0.0,\n        \"max\": 1.0,\n        \"num_unique_values\": 4,\n        \"samples\": [\n          0.0,\n          0.002390438247011952,\n          0.08207171314741035\n        ],\n        \"semantic_type\": \"\",\n        \"description\": \"\"\n      }\n    },\n    {\n      \"column\": \"Lumi\",\n      \"properties\": {\n        \"dtype\": \"number\",\n        \"std\": 0.35064319825324997,\n        \"min\": 0.0,\n        \"max\": 1.0,\n        \"num_unique_values\": 28,\n        \"samples\": [\n          0.05296610169491525,\n          0.998587570621469,\n          0.052259887005649715\n        ],\n        \"semantic_type\": \"\",\n        \"description\": \"\"\n      }\n    },\n    {\n      \"column\": \"Event\",\n      \"properties\": {\n        \"dtype\": \"number\",\n        \"std\": 0.3415750461376237,\n        \"min\": 0.0,\n        \"max\": 1.0,\n        \"num_unique_values\": 21671,\n        \"samples\": [\n          0.14366397306151077,\n          0.9912795062217793,\n          0.9986842565014573\n        ],\n        \"semantic_type\": \"\",\n        \"description\": \"\"\n      }\n    },\n    {\n      \"column\": \"MR\",\n      \"properties\": {\n        \"dtype\": \"number\",\n        \"std\": 0.08061604645799919,\n        \"min\": 0.0,\n        \"max\": 1.0,\n        \"num_unique_values\": 21075,\n        \"samples\": [\n          0.12676535153358603,\n          0.1172787847143802,\n          0.0456710966016134\n        ],\n        \"semantic_type\": \"\",\n        \"description\": \"\"\n      }\n    },\n    {\n      \"column\": \"Rsq\",\n      \"properties\": {\n        \"dtype\": \"number\",\n        \"std\": 0.030469033171438214,\n        \"min\": 0.0,\n        \"max\": 1.0,\n        \"num_unique_values\": 21434,\n        \"samples\": [\n          0.018209360844243443,\n          0.07299508760312509,\n          0.027949880732130443\n        ],\n        \"semantic_type\": \"\",\n        \"description\": \"\"\n      }\n    },\n    {\n      \"column\": \"E1\",\n      \"properties\": {\n        \"dtype\": \"number\",\n        \"std\": 0.10899557004765521,\n        \"min\": 0.0,\n        \"max\": 1.0,\n        \"num_unique_values\": 21094,\n        \"samples\": [\n          0.08534456619471716,\n          0.502443898092824,\n          0.05407257028528774\n        ],\n        \"semantic_type\": \"\",\n        \"description\": \"\"\n      }\n    },\n    {\n      \"column\": \"Px1\",\n      \"properties\": {\n        \"dtype\": \"number\",\n        \"std\": 0.07239304402928741,\n        \"min\": 0.0,\n        \"max\": 1.0,\n        \"num_unique_values\": 21433,\n        \"samples\": [\n          0.5119325936410049,\n          0.35655384357781933,\n          0.47965274794015067\n        ],\n        \"semantic_type\": \"\",\n        \"description\": \"\"\n      }\n    },\n    {\n      \"column\": \"Py1\",\n      \"properties\": {\n        \"dtype\": \"number\",\n        \"std\": 0.08110288671823111,\n        \"min\": 0.0,\n        \"max\": 1.0,\n        \"num_unique_values\": 21462,\n        \"samples\": [\n          0.5482193669158132,\n          0.5866629299162629,\n          0.531226270964466\n        ],\n        \"semantic_type\": \"\",\n        \"description\": \"\"\n      }\n    },\n    {\n      \"column\": \"Pz1\",\n      \"properties\": {\n        \"dtype\": \"number\",\n        \"std\": 0.08363592173506569,\n        \"min\": 0.0,\n        \"max\": 1.0,\n        \"num_unique_values\": 21561,\n        \"samples\": [\n          0.6489199843298565,\n          0.4357568189608736,\n          0.5106742568924146\n        ],\n        \"semantic_type\": \"\",\n        \"description\": \"\"\n      }\n    },\n    {\n      \"column\": \"E2\",\n      \"properties\": {\n        \"dtype\": \"number\",\n        \"std\": 0.11494038552992812,\n        \"min\": 0.0,\n        \"max\": 1.0,\n        \"num_unique_values\": 21174,\n        \"samples\": [\n          0.2479889929081668,\n          0.7417659156545615,\n          0.47518291395924106\n        ],\n        \"semantic_type\": \"\",\n        \"description\": \"\"\n      }\n    },\n    {\n      \"column\": \"Px2\",\n      \"properties\": {\n        \"dtype\": \"number\",\n        \"std\": 0.0693748799040197,\n        \"min\": 0.0,\n        \"max\": 1.0,\n        \"num_unique_values\": 21520,\n        \"samples\": [\n          0.6846458146001855,\n          0.5011561028298285,\n          0.6260067954964457\n        ],\n        \"semantic_type\": \"\",\n        \"description\": \"\"\n      }\n    },\n    {\n      \"column\": \"Py2\",\n      \"properties\": {\n        \"dtype\": \"number\",\n        \"std\": 0.06911262296746745,\n        \"min\": 0.0,\n        \"max\": 1.0,\n        \"num_unique_values\": 21531,\n        \"samples\": [\n          0.3534444814633946,\n          0.42495513151108816,\n          0.43670918774845163\n        ],\n        \"semantic_type\": \"\",\n        \"description\": \"\"\n      }\n    },\n    {\n      \"column\": \"Pz2\",\n      \"properties\": {\n        \"dtype\": \"number\",\n        \"std\": 0.09247895562733348,\n        \"min\": 0.0,\n        \"max\": 1.0,\n        \"num_unique_values\": 21559,\n        \"samples\": [\n          0.49216977144713725,\n          0.42971791016023714,\n          0.5134739517592158\n        ],\n        \"semantic_type\": \"\",\n        \"description\": \"\"\n      }\n    },\n    {\n      \"column\": \"HT\",\n      \"properties\": {\n        \"dtype\": \"number\",\n        \"std\": 0.05864908347712315,\n        \"min\": 0.0,\n        \"max\": 1.0,\n        \"num_unique_values\": 20513,\n        \"samples\": [\n          0.05972756787697923,\n          0.10450088395846441,\n          0.08198006696022635\n        ],\n        \"semantic_type\": \"\",\n        \"description\": \"\"\n      }\n    },\n    {\n      \"column\": \"MET\",\n      \"properties\": {\n        \"dtype\": \"number\",\n        \"std\": 0.025460219831558505,\n        \"min\": 0.0,\n        \"max\": 1.0,\n        \"num_unique_values\": 21149,\n        \"samples\": [\n          0.0719300758523552,\n          0.06689513329189,\n          0.033321758087060324\n        ],\n        \"semantic_type\": \"\",\n        \"description\": \"\"\n      }\n    },\n    {\n      \"column\": \"nJets\",\n      \"properties\": {\n        \"dtype\": \"number\",\n        \"std\": 0.13096366120215894,\n        \"min\": 0.0,\n        \"max\": 1.0,\n        \"num_unique_values\": 6,\n        \"samples\": [\n          0.0,\n          0.2,\n          1.0\n        ],\n        \"semantic_type\": \"\",\n        \"description\": \"\"\n      }\n    },\n    {\n      \"column\": \"nBJets\",\n      \"properties\": {\n        \"dtype\": \"number\",\n        \"std\": 0,\n        \"min\": 0,\n        \"max\": 1,\n        \"num_unique_values\": 2,\n        \"samples\": [\n          1,\n          0\n        ],\n        \"semantic_type\": \"\",\n        \"description\": \"\"\n      }\n    }\n  ]\n}"
            }
          },
          "metadata": {},
          "execution_count": 4
        }
      ]
    },
    {
      "cell_type": "markdown",
      "source": [
        "Потрібно на основі інформації про розпад спрогнозувати наявність високоенергетичного випромінювання `nBJets`"
      ],
      "metadata": {
        "id": "KAmkR_CFejgQ"
      }
    },
    {
      "cell_type": "markdown",
      "source": [
        "# Завдання 1\n",
        "Створіть клас Dataset для тренувальних та тестових даних"
      ],
      "metadata": {
        "id": "dBt0E5BJe6OK"
      }
    },
    {
      "cell_type": "code",
      "source": [
        "from torch.utils.data import Dataset\n",
        "from sklearn.model_selection import train_test_split\n",
        "\n",
        "class MyDataset(Dataset):\n",
        "    def __init__(self, X, y):\n",
        "      self.X = torch.FloatTensor(X.values)\n",
        "      self.y = torch.FloatTensor(y.values)\n",
        "      self.y = self.y.reshape(-1, 1)\n",
        "\n",
        "    def __len__(self):\n",
        "      return len(self.X)\n",
        "\n",
        "    def __getitem__(self, idx):\n",
        "      return self.X[idx], self.y[idx]\n",
        "\n",
        "X = df.drop(columns=['nBJets'])\n",
        "y = df['nBJets']\n",
        "\n",
        "dataset = MyDataset(X, y)"
      ],
      "metadata": {
        "id": "zQar7xD0K21Y"
      },
      "execution_count": 5,
      "outputs": []
    },
    {
      "cell_type": "code",
      "source": [
        "X_train, X_test, y_train, y_test = train_test_split(X, y,\n",
        "                                                    train_size=0.8,\n",
        "                                                    random_state=42,\n",
        "                                                    stratify=y)\n",
        "\n",
        "dataset_train = MyDataset(X_train, y_train)\n",
        "dataset_test = MyDataset(X_test, y_test)"
      ],
      "metadata": {
        "id": "r-Ydrbpos2Dn"
      },
      "execution_count": 6,
      "outputs": []
    },
    {
      "cell_type": "markdown",
      "source": [
        "# Завдання 2\n",
        "Створіть DataLoader"
      ],
      "metadata": {
        "id": "zQlB_6WzfB8n"
      }
    },
    {
      "cell_type": "code",
      "source": [
        "from torch.utils.data import DataLoader\n",
        "\n",
        "batch_size = 64\n",
        "train_dl = DataLoader(dataset_train,\n",
        "                      batch_size=batch_size,\n",
        "                      shuffle=True)\n",
        "\n",
        "test_dl = DataLoader(dataset_test,\n",
        "                     batch_size=batch_size,\n",
        "                     shuffle=True)"
      ],
      "metadata": {
        "id": "-6-po4H4fZQy"
      },
      "execution_count": 7,
      "outputs": []
    },
    {
      "cell_type": "markdown",
      "source": [
        "# Завдання 3\n",
        "Створіть нейромережу"
      ],
      "metadata": {
        "id": "2W93LiDxfZrx"
      }
    },
    {
      "cell_type": "code",
      "source": [
        "import numpy as np\n",
        "from torch import nn\n",
        "import torch.nn.functional as F\n",
        "\n",
        "\n",
        "class Block(nn.Module):\n",
        "    def __init__(self, input_dim, output_dim):\n",
        "        super().__init__()\n",
        "\n",
        "        self.linear = nn.Linear(input_dim, output_dim)\n",
        "        self.linear1 = nn.Linear(output_dim, output_dim)\n",
        "        self.linear2 = nn.Linear(output_dim, output_dim)\n",
        "\n",
        "        self.bn1 = nn.BatchNorm1d(output_dim)\n",
        "        self.bn2 = nn.BatchNorm1d(output_dim)\n",
        "\n",
        "\n",
        "\n",
        "    def forward(self, x):\n",
        "        x = self.linear(x)\n",
        "        x = F.relu(x)\n",
        "\n",
        "        out = self.linear1(x)\n",
        "        out = self.bn1(out)\n",
        "        out = F.relu(out)\n",
        "\n",
        "        out = self.linear2(out)\n",
        "        out = self.bn2(out)\n",
        "        out = F.relu(out)\n",
        "\n",
        "        return out + x"
      ],
      "metadata": {
        "id": "p9DHog7Xf7xE"
      },
      "execution_count": 8,
      "outputs": []
    },
    {
      "cell_type": "code",
      "source": [
        "class BinaryClassifier(nn.Module):\n",
        "    def __init__(self, input_dim, hidden_dim, output_dim):\n",
        "        super().__init__()\n",
        "\n",
        "        self.all_layers = nn.Sequential(\n",
        "          Block(input_dim, hidden_dim),\n",
        "          nn.Dropout(0.2),\n",
        "          Block(hidden_dim, hidden_dim//2),\n",
        "\n",
        "          nn.Linear(hidden_dim//2, hidden_dim//2),\n",
        "          nn.ReLU(),\n",
        "          nn.Linear(hidden_dim//2, output_dim)\n",
        "        )\n",
        "\n",
        "    def forward(self, x):\n",
        "        return self.all_layers(x)\n",
        "\n",
        "\n",
        "    def predict(self, X, device='cpu'):\n",
        "        X = torch.FloatTensor(np.array(X)).to(device)\n",
        "\n",
        "        with torch.no_grad():\n",
        "          y_pred = self.forward(X)\n",
        "          y_pred = F.sigmoid(y_pred)\n",
        "\n",
        "        return y_pred.cpu().numpy().squeeze()\n",
        "\n",
        "\n",
        "model = BinaryClassifier(16, 32, 1).to(device)\n",
        "model"
      ],
      "metadata": {
        "id": "yPyoGDgvtM-t",
        "outputId": "a400852f-cae6-4faa-d5e5-b4c127880b03",
        "colab": {
          "base_uri": "https://localhost:8080/"
        }
      },
      "execution_count": 9,
      "outputs": [
        {
          "output_type": "execute_result",
          "data": {
            "text/plain": [
              "BinaryClassifier(\n",
              "  (all_layers): Sequential(\n",
              "    (0): Block(\n",
              "      (linear): Linear(in_features=16, out_features=32, bias=True)\n",
              "      (linear1): Linear(in_features=32, out_features=32, bias=True)\n",
              "      (linear2): Linear(in_features=32, out_features=32, bias=True)\n",
              "      (bn1): BatchNorm1d(32, eps=1e-05, momentum=0.1, affine=True, track_running_stats=True)\n",
              "      (bn2): BatchNorm1d(32, eps=1e-05, momentum=0.1, affine=True, track_running_stats=True)\n",
              "    )\n",
              "    (1): Dropout(p=0.2, inplace=False)\n",
              "    (2): Block(\n",
              "      (linear): Linear(in_features=32, out_features=16, bias=True)\n",
              "      (linear1): Linear(in_features=16, out_features=16, bias=True)\n",
              "      (linear2): Linear(in_features=16, out_features=16, bias=True)\n",
              "      (bn1): BatchNorm1d(16, eps=1e-05, momentum=0.1, affine=True, track_running_stats=True)\n",
              "      (bn2): BatchNorm1d(16, eps=1e-05, momentum=0.1, affine=True, track_running_stats=True)\n",
              "    )\n",
              "    (3): Linear(in_features=16, out_features=16, bias=True)\n",
              "    (4): ReLU()\n",
              "    (5): Linear(in_features=16, out_features=1, bias=True)\n",
              "  )\n",
              ")"
            ]
          },
          "metadata": {},
          "execution_count": 9
        }
      ]
    },
    {
      "cell_type": "code",
      "source": [
        "from torchsummary import summary\n",
        "\n",
        "summary(model, input_size=(16,))"
      ],
      "metadata": {
        "id": "EEYJe9S4tfyT",
        "outputId": "4de273b7-210c-47d1-f459-15fb9acec63d",
        "colab": {
          "base_uri": "https://localhost:8080/"
        }
      },
      "execution_count": 10,
      "outputs": [
        {
          "output_type": "stream",
          "name": "stdout",
          "text": [
            "----------------------------------------------------------------\n",
            "        Layer (type)               Output Shape         Param #\n",
            "================================================================\n",
            "            Linear-1                   [-1, 32]             544\n",
            "            Linear-2                   [-1, 32]           1,056\n",
            "       BatchNorm1d-3                   [-1, 32]              64\n",
            "            Linear-4                   [-1, 32]           1,056\n",
            "       BatchNorm1d-5                   [-1, 32]              64\n",
            "             Block-6                   [-1, 32]               0\n",
            "           Dropout-7                   [-1, 32]               0\n",
            "            Linear-8                   [-1, 16]             528\n",
            "            Linear-9                   [-1, 16]             272\n",
            "      BatchNorm1d-10                   [-1, 16]              32\n",
            "           Linear-11                   [-1, 16]             272\n",
            "      BatchNorm1d-12                   [-1, 16]              32\n",
            "            Block-13                   [-1, 16]               0\n",
            "           Linear-14                   [-1, 16]             272\n",
            "             ReLU-15                   [-1, 16]               0\n",
            "           Linear-16                    [-1, 1]              17\n",
            "================================================================\n",
            "Total params: 4,209\n",
            "Trainable params: 4,209\n",
            "Non-trainable params: 0\n",
            "----------------------------------------------------------------\n",
            "Input size (MB): 0.00\n",
            "Forward/backward pass size (MB): 0.00\n",
            "Params size (MB): 0.02\n",
            "Estimated Total Size (MB): 0.02\n",
            "----------------------------------------------------------------\n"
          ]
        }
      ]
    },
    {
      "cell_type": "markdown",
      "source": [
        "# Завдання 4\n",
        "Визначте функцію втрат та оптимізатор, можливо графік швидкості навчання"
      ],
      "metadata": {
        "id": "VmNUVkkUf8gB"
      }
    },
    {
      "cell_type": "code",
      "source": [
        "num0 = sum(y_train == 0)\n",
        "num1 = sum(y_train == 1)\n",
        "loss_fn = nn.BCEWithLogitsLoss(pos_weight=torch.tensor(num0/num1))\n",
        "\n",
        "optimizer = torch.optim.Adam(model.parameters(), lr=1e-4, weight_decay=0)"
      ],
      "metadata": {
        "id": "e1sw9oRBgDXR"
      },
      "execution_count": 11,
      "outputs": []
    },
    {
      "cell_type": "code",
      "source": [
        "from torch.optim.lr_scheduler import StepLR\n",
        "\n",
        "scheduler = StepLR(optimizer, step_size=5, gamma=0.1)"
      ],
      "metadata": {
        "id": "MBeMc4blt0NL"
      },
      "execution_count": 12,
      "outputs": []
    },
    {
      "cell_type": "markdown",
      "source": [
        "# Завдання 5\n",
        "Натренуйте нейромережу."
      ],
      "metadata": {
        "id": "qTOFCl_egEFZ"
      }
    },
    {
      "cell_type": "code",
      "source": [
        "import time\n",
        "\n",
        "def train(model, optimizer, loss_fn, train_dl, val_dl,\n",
        "          metrics=None, metrics_name=None, epochs=20, device='cpu', task='regression'):\n",
        "\n",
        "    print('train() called: model=%s, opt=%s(lr=%f), epochs=%d, device=%s\\n' % \\\n",
        "          (type(model).__name__, type(optimizer).__name__,\n",
        "           optimizer.param_groups[0]['lr'], epochs, device))\n",
        "\n",
        "    metrics = metrics if metrics else []\n",
        "    metrics_name = metrics_name if metrics_name else [metric.__name__ for metric in metrics]\n",
        "\n",
        "    history = {} # Collects per-epoch loss and metrics like Keras' fit().\n",
        "    history['lr'] = []\n",
        "    history['loss'] = []\n",
        "    history['val_loss'] = []\n",
        "    for name in metrics_name:\n",
        "        history[name] = []\n",
        "        history[f'val_{name}'] = []\n",
        "\n",
        "    start_time_train = time.time()\n",
        "\n",
        "    for epoch in range(epochs):\n",
        "\n",
        "        # --- TRAIN AND EVALUATE ON TRAINING SET -----------------------------\n",
        "        start_time_epoch = time.time()\n",
        "\n",
        "        model.train()\n",
        "        history_train = {name: 0 for name in ['loss']+metrics_name}\n",
        "\n",
        "        for batch in train_dl:\n",
        "            x    = batch[0].to(device)\n",
        "            y    = batch[1].to(device)\n",
        "            y_pred = model(x)\n",
        "            loss = loss_fn(y_pred, y)\n",
        "            y_pred = F.sigmoid(y_pred)\n",
        "\n",
        "            optimizer.zero_grad()\n",
        "            loss.backward()\n",
        "            optimizer.step()\n",
        "\n",
        "            y_pred = y_pred.detach().cpu().numpy()\n",
        "            y = y.detach().cpu().numpy()\n",
        "\n",
        "            history_train['loss'] += loss.item() * x.size(0)\n",
        "            for name, func in zip(metrics_name, metrics):\n",
        "              try:\n",
        "                  history_train[name] += func(y, y_pred) * x.size(0)\n",
        "              except:\n",
        "                  if task == 'binary': y_pred_ = y_pred.round()\n",
        "                  elif task == 'multiclass': y_pred_ = y_pred.argmax(axis=-1)\n",
        "                  history_train[name] += func(y, y_pred_) * x.size(0)\n",
        "\n",
        "        for name in history_train:\n",
        "            history_train[name] /= len(train_dl.dataset)\n",
        "\n",
        "        scheduler.step()\n",
        "        history['lr'].append(scheduler.get_last_lr())\n",
        "\n",
        "\n",
        "        # --- EVALUATE ON VALIDATION SET -------------------------------------\n",
        "        model.eval()\n",
        "        history_val = {'val_' + name: 0 for name in metrics_name+['loss']}\n",
        "\n",
        "        with torch.no_grad():\n",
        "            for batch in val_dl:\n",
        "                x    = batch[0].to(device)\n",
        "                y    = batch[1].to(device)\n",
        "                y_pred = model(x)\n",
        "                loss = loss_fn(y_pred, y)\n",
        "                y_pred = F.sigmoid(y_pred)\n",
        "\n",
        "                y_pred = y_pred.cpu().numpy()\n",
        "                y = y.cpu().numpy()\n",
        "\n",
        "                history_val['val_loss'] += loss.item() * x.size(0)\n",
        "                for name, func in zip(metrics_name, metrics):\n",
        "                    try:\n",
        "                        history_val['val_'+name] += func(y, y_pred) * x.size(0)\n",
        "                    except:\n",
        "                        if task == 'binary': y_pred_ = y_pred.round()\n",
        "                        elif task == 'multiclass': y_pred_ = y_pred.argmax(axis=-1)\n",
        "\n",
        "                        history_val['val_'+name] += func(y, y_pred_) * x.size(0)\n",
        "\n",
        "        for name in history_val:\n",
        "            history_val[name] /= len(val_dl.dataset)\n",
        "\n",
        "        # PRINTING RESULTS\n",
        "\n",
        "        end_time_epoch = time.time()\n",
        "\n",
        "        for name in history_train:\n",
        "            history[name].append(history_train[name])\n",
        "            history['val_'+name].append(history_val['val_'+name])\n",
        "\n",
        "        total_time_epoch = end_time_epoch - start_time_epoch\n",
        "\n",
        "        print(f'Epoch {epoch+1:4d} {total_time_epoch:4.0f}sec', end='\\t')\n",
        "        for name in history_train:\n",
        "            print(f'{name}: {history[name][-1]:10.3g}', end='\\t')\n",
        "            print(f\"val_{name}: {history['val_'+name][-1]:10.3g}\", end='\\t')\n",
        "        print()\n",
        "\n",
        "    # END OF TRAINING LOOP\n",
        "\n",
        "    end_time_train       = time.time()\n",
        "    total_time_train     = end_time_train - start_time_train\n",
        "    print()\n",
        "    print('Time total:     %5.2f sec' % (total_time_train))\n",
        "\n",
        "    return history"
      ],
      "metadata": {
        "id": "Nxo4p3IUgOx5"
      },
      "execution_count": 13,
      "outputs": []
    },
    {
      "cell_type": "code",
      "source": [
        "from sklearn.metrics import accuracy_score\n",
        "\n",
        "history = train(model, optimizer, loss_fn, train_dl, test_dl,\n",
        "                epochs=20,\n",
        "                metrics=[accuracy_score],\n",
        "                device=device,\n",
        "                task='binary')"
      ],
      "metadata": {
        "id": "iI7qk887uZDv",
        "outputId": "64e14478-7a00-44ba-cef2-30a1070dd0d1",
        "colab": {
          "base_uri": "https://localhost:8080/"
        }
      },
      "execution_count": 14,
      "outputs": [
        {
          "output_type": "stream",
          "name": "stdout",
          "text": [
            "train() called: model=BinaryClassifier, opt=Adam(lr=0.000100), epochs=20, device=cpu\n",
            "\n",
            "Epoch    1   12sec\tloss:       1.32\tval_loss:       1.32\taccuracy_score:      0.644\tval_accuracy_score:      0.755\t\n",
            "Epoch    2    5sec\tloss:       1.32\tval_loss:       1.32\taccuracy_score:      0.627\tval_accuracy_score:      0.721\t\n",
            "Epoch    3    4sec\tloss:       1.32\tval_loss:       1.32\taccuracy_score:      0.608\tval_accuracy_score:      0.709\t\n",
            "Epoch    4    2sec\tloss:       1.32\tval_loss:       1.32\taccuracy_score:      0.568\tval_accuracy_score:      0.674\t\n",
            "Epoch    5    2sec\tloss:       1.31\tval_loss:       1.32\taccuracy_score:      0.574\tval_accuracy_score:      0.649\t\n",
            "Epoch    6    2sec\tloss:       1.31\tval_loss:       1.32\taccuracy_score:      0.584\tval_accuracy_score:      0.669\t\n",
            "Epoch    7    2sec\tloss:       1.31\tval_loss:       1.32\taccuracy_score:      0.581\tval_accuracy_score:      0.684\t\n",
            "Epoch    8    3sec\tloss:       1.31\tval_loss:       1.32\taccuracy_score:      0.578\tval_accuracy_score:      0.661\t\n",
            "Epoch    9    3sec\tloss:       1.31\tval_loss:       1.32\taccuracy_score:      0.589\tval_accuracy_score:      0.655\t\n",
            "Epoch   10    2sec\tloss:       1.31\tval_loss:       1.32\taccuracy_score:       0.58\tval_accuracy_score:      0.663\t\n",
            "Epoch   11    2sec\tloss:       1.31\tval_loss:       1.32\taccuracy_score:      0.582\tval_accuracy_score:      0.659\t\n",
            "Epoch   12    2sec\tloss:       1.31\tval_loss:       1.32\taccuracy_score:      0.584\tval_accuracy_score:      0.669\t\n",
            "Epoch   13    3sec\tloss:       1.31\tval_loss:       1.32\taccuracy_score:      0.582\tval_accuracy_score:      0.661\t\n",
            "Epoch   14    3sec\tloss:       1.31\tval_loss:       1.32\taccuracy_score:      0.583\tval_accuracy_score:      0.646\t\n",
            "Epoch   15    2sec\tloss:       1.31\tval_loss:       1.32\taccuracy_score:      0.584\tval_accuracy_score:      0.669\t\n",
            "Epoch   16    2sec\tloss:       1.31\tval_loss:       1.32\taccuracy_score:      0.587\tval_accuracy_score:      0.661\t\n",
            "Epoch   17    2sec\tloss:       1.31\tval_loss:       1.32\taccuracy_score:      0.585\tval_accuracy_score:      0.662\t\n",
            "Epoch   18    3sec\tloss:       1.31\tval_loss:       1.32\taccuracy_score:      0.584\tval_accuracy_score:      0.649\t\n",
            "Epoch   19    3sec\tloss:       1.31\tval_loss:       1.32\taccuracy_score:      0.587\tval_accuracy_score:      0.673\t\n",
            "Epoch   20    2sec\tloss:       1.31\tval_loss:       1.32\taccuracy_score:      0.582\tval_accuracy_score:      0.662\t\n",
            "\n",
            "Time total:     63.83 sec\n"
          ]
        }
      ]
    },
    {
      "cell_type": "code",
      "source": [
        "import matplotlib.pyplot as plt\n",
        "\n",
        "def plot_metric(history, name):\n",
        "  plt.title(f\"Model results with {name}\")\n",
        "  plt.plot(history[name], label='train')\n",
        "  plt.plot(history['val_'+name], label='val')\n",
        "  plt.xlabel('Epoch')\n",
        "  plt.ylabel(name)\n",
        "  plt.legend()\n",
        "\n",
        "\n",
        "plot_metric(history, 'loss')"
      ],
      "metadata": {
        "id": "PvURMzjQyWoY",
        "outputId": "ddeb4810-370e-4819-d7f5-6117feb62e6c",
        "colab": {
          "base_uri": "https://localhost:8080/",
          "height": 472
        }
      },
      "execution_count": 15,
      "outputs": [
        {
          "output_type": "display_data",
          "data": {
            "text/plain": [
              "<Figure size 640x480 with 1 Axes>"
            ],
            "image/png": "[encoded data removed]"
          },
          "metadata": {}
        }
      ]
    },
    {
      "cell_type": "code",
      "source": [
        "plot_metric(history, 'accuracy_score')"
      ],
      "metadata": {
        "id": "e3RGYghOyZWX",
        "outputId": "c8b7b25c-6c6d-427a-c65a-9e70289053ae",
        "colab": {
          "base_uri": "https://localhost:8080/",
          "height": 472
        }
      },
      "execution_count": 16,
      "outputs": [
        {
          "output_type": "display_data",
          "data": {
            "text/plain": [
              "<Figure size 640x480 with 1 Axes>"
            ],
            "image/png": "[encoded data removed]"
          },
          "metadata": {}
        }
      ]
    },
    {
      "cell_type": "code",
      "source": [
        "plt.plot(history['lr'])"
      ],
      "metadata": {
        "id": "TzCtm95IymU-",
        "outputId": "87807d85-279c-4830-f463-64e64bef9bfa",
        "colab": {
          "base_uri": "https://localhost:8080/",
          "height": 447
        }
      },
      "execution_count": 17,
      "outputs": [
        {
          "output_type": "execute_result",
          "data": {
            "text/plain": [
              "[<matplotlib.lines.Line2D at 0x7f115e74a140>]"
            ]
          },
          "metadata": {},
          "execution_count": 17
        },
        {
          "output_type": "display_data",
          "data": {
            "text/plain": [
              "<Figure size 640x480 with 1 Axes>"
            ],
            "image/png": "[encoded data removed]"
          },
          "metadata": {}
        }
      ]
    },
    {
      "cell_type": "code",
      "source": [
        "from sklearn.metrics import ConfusionMatrixDisplay, RocCurveDisplay\n",
        "\n",
        "model = model.to('cpu')\n",
        "model.eval()\n",
        "y_pred = model.predict(X_test)\n",
        "\n",
        "ConfusionMatrixDisplay.from_predictions(y_test, y_pred.round(),\n",
        "                                        display_labels=['available', 'not available'])\n",
        "plt.plot()\n",
        "\n",
        "RocCurveDisplay.from_predictions(y_test, y_pred, pos_label=1)"
      ],
      "metadata": {
        "id": "Ca7bekL_yrmV",
        "outputId": "f3c815ce-faa8-472c-a826-84dcc3ce69b8",
        "colab": {
          "base_uri": "https://localhost:8080/",
          "height": 898
        }
      },
      "execution_count": 18,
      "outputs": [
        {
          "output_type": "execute_result",
          "data": {
            "text/plain": [
              "<sklearn.metrics._plot.roc_curve.RocCurveDisplay at 0x7f115e693700>"
            ]
          },
          "metadata": {},
          "execution_count": 18
        },
        {
          "output_type": "display_data",
          "data": {
            "text/plain": [
              "<Figure size 640x480 with 2 Axes>"
            ],
            "image/png": "[encoded data removed]"
          },
          "metadata": {}
        },
        {
          "output_type": "display_data",
          "data": {
            "text/plain": [
              "<Figure size 640x480 with 1 Axes>"
            ],
            "image/png": "[encoded data removed]"
          },
          "metadata": {}
        }
      ]
    },
    {
      "cell_type": "markdown",
      "source": [
        "# Завдання 6\n",
        "Збережіть нейромережу та зробіть прогноз"
      ],
      "metadata": {
        "id": "aoclw4XlgPhB"
      }
    },
    {
      "cell_type": "code",
      "source": [
        "torch.save(model, 'model.pt')"
      ],
      "metadata": {
        "id": "UzVFg-KjgYgy"
      },
      "execution_count": 21,
      "outputs": []
    },
    {
      "cell_type": "code",
      "source": [
        "load_model = torch.load('model.pt')"
      ],
      "metadata": {
        "id": "hZRHheFB2h-T"
      },
      "execution_count": 22,
      "outputs": []
    },
    {
      "cell_type": "code",
      "source": [
        "load_model"
      ],
      "metadata": {
        "id": "pUmO09kj2oYP",
        "outputId": "3cbecd00-0dc2-4312-af3e-cba35da015e3",
        "colab": {
          "base_uri": "https://localhost:8080/"
        }
      },
      "execution_count": 23,
      "outputs": [
        {
          "output_type": "execute_result",
          "data": {
            "text/plain": [
              "BinaryClassifier(\n",
              "  (all_layers): Sequential(\n",
              "    (0): Block(\n",
              "      (linear): Linear(in_features=16, out_features=32, bias=True)\n",
              "      (linear1): Linear(in_features=32, out_features=32, bias=True)\n",
              "      (linear2): Linear(in_features=32, out_features=32, bias=True)\n",
              "      (bn1): BatchNorm1d(32, eps=1e-05, momentum=0.1, affine=True, track_running_stats=True)\n",
              "      (bn2): BatchNorm1d(32, eps=1e-05, momentum=0.1, affine=True, track_running_stats=True)\n",
              "    )\n",
              "    (1): Dropout(p=0.2, inplace=False)\n",
              "    (2): Block(\n",
              "      (linear): Linear(in_features=32, out_features=16, bias=True)\n",
              "      (linear1): Linear(in_features=16, out_features=16, bias=True)\n",
              "      (linear2): Linear(in_features=16, out_features=16, bias=True)\n",
              "      (bn1): BatchNorm1d(16, eps=1e-05, momentum=0.1, affine=True, track_running_stats=True)\n",
              "      (bn2): BatchNorm1d(16, eps=1e-05, momentum=0.1, affine=True, track_running_stats=True)\n",
              "    )\n",
              "    (3): Linear(in_features=16, out_features=16, bias=True)\n",
              "    (4): ReLU()\n",
              "    (5): Linear(in_features=16, out_features=1, bias=True)\n",
              "  )\n",
              ")"
            ]
          },
          "metadata": {},
          "execution_count": 23
        }
      ]
    },
    {
      "cell_type": "code",
      "source": [
        "X.iloc[:1]"
      ],
      "metadata": {
        "id": "8TnEilu-2quD",
        "outputId": "12c7c830-5574-4226-9532-f945f49a77c8",
        "colab": {
          "base_uri": "https://localhost:8080/",
          "height": 81
        }
      },
      "execution_count": 24,
      "outputs": [
        {
          "output_type": "execute_result",
          "data": {
            "text/plain": [
              "        Run  Lumi     Event        MR      Rsq        E1       Px1       Py1  \\\n",
              "0  0.082072   0.0  0.000002  0.077191  0.04186  0.044618  0.342725  0.531326   \n",
              "\n",
              "        Pz1        E2       Px2       Py2       Pz2        HT       MET  nJets  \n",
              "0  0.480732  0.055588  0.696681  0.457241  0.440224  0.061659  0.043047    0.0  "
            ],
            "text/html": [
              "\n",
              "  <div id=\"df-81180167-01f3-4fbd-b570-21b48a728fd7\" class=\"colab-df-container\">\n",
              "    <div>\n",
              "<style scoped>\n",
              "    .dataframe tbody tr th:only-of-type {\n",
              "        vertical-align: middle;\n",
              "    }\n",
              "\n",
              "    .dataframe tbody tr th {\n",
              "        vertical-align: top;\n",
              "    }\n",
              "\n",
              "    .dataframe thead th {\n",
              "        text-align: right;\n",
              "    }\n",
              "</style>\n",
              "<table border=\"1\" class=\"dataframe\">\n",
              "  <thead>\n",
              "    <tr style=\"text-align: right;\">\n",
              "      <th></th>\n",
              "      <th>Run</th>\n",
              "      <th>Lumi</th>\n",
              "      <th>Event</th>\n",
              "      <th>MR</th>\n",
              "      <th>Rsq</th>\n",
              "      <th>E1</th>\n",
              "      <th>Px1</th>\n",
              "      <th>Py1</th>\n",
              "      <th>Pz1</th>\n",
              "      <th>E2</th>\n",
              "      <th>Px2</th>\n",
              "      <th>Py2</th>\n",
              "      <th>Pz2</th>\n",
              "      <th>HT</th>\n",
              "      <th>MET</th>\n",
              "      <th>nJets</th>\n",
              "    </tr>\n",
              "  </thead>\n",
              "  <tbody>\n",
              "    <tr>\n",
              "      <th>0</th>\n",
              "      <td>0.082072</td>\n",
              "      <td>0.0</td>\n",
              "      <td>0.000002</td>\n",
              "      <td>0.077191</td>\n",
              "      <td>0.04186</td>\n",
              "      <td>0.044618</td>\n",
              "      <td>0.342725</td>\n",
              "      <td>0.531326</td>\n",
              "      <td>0.480732</td>\n",
              "      <td>0.055588</td>\n",
              "      <td>0.696681</td>\n",
              "      <td>0.457241</td>\n",
              "      <td>0.440224</td>\n",
              "      <td>0.061659</td>\n",
              "      <td>0.043047</td>\n",
              "      <td>0.0</td>\n",
              "    </tr>\n",
              "  </tbody>\n",
              "</table>\n",
              "</div>\n",
              "    <div class=\"colab-df-buttons\">\n",
              "\n",
              "  <div class=\"colab-df-container\">\n",
              "    <button class=\"colab-df-convert\" onclick=\"convertToInteractive('df-81180167-01f3-4fbd-b570-21b48a728fd7')\"\n",
              "            title=\"Convert this dataframe to an interactive table.\"\n",
              "            style=\"display:none;\">\n",
              "\n",
              "  <svg xmlns=\"http://www.w3.org/2000/svg\" height=\"24px\" viewBox=\"0 -960 960 960\">\n",
              "    <path d=\"M120-120v-720h720v720H120Zm60-500h600v-160H180v160Zm220 220h160v-160H400v160Zm0 220h160v-160H400v160ZM180-400h160v-160H180v160Zm440 0h160v-160H620v160ZM180-180h160v-160H180v160Zm440 0h160v-160H620v160Z\"/>\n",
              "  </svg>\n",
              "    </button>\n",
              "\n",
              "  <style>\n",
              "    .colab-df-container {\n",
              "      display:flex;\n",
              "      gap: 12px;\n",
              "    }\n",
              "\n",
              "    .colab-df-convert {\n",
              "      background-color: #E8F0FE;\n",
              "      border: none;\n",
              "      border-radius: 50%;\n",
              "      cursor: pointer;\n",
              "      display: none;\n",
              "      fill: #1967D2;\n",
              "      height: 32px;\n",
              "      padding: 0 0 0 0;\n",
              "      width: 32px;\n",
              "    }\n",
              "\n",
              "    .colab-df-convert:hover {\n",
              "      background-color: #E2EBFA;\n",
              "      box-shadow: 0px 1px 2px rgba(60, 64, 67, 0.3), 0px 1px 3px 1px rgba(60, 64, 67, 0.15);\n",
              "      fill: #174EA6;\n",
              "    }\n",
              "\n",
              "    .colab-df-buttons div {\n",
              "      margin-bottom: 4px;\n",
              "    }\n",
              "\n",
              "    [theme=dark] .colab-df-convert {\n",
              "      background-color: #3B4455;\n",
              "      fill: #D2E3FC;\n",
              "    }\n",
              "\n",
              "    [theme=dark] .colab-df-convert:hover {\n",
              "      background-color: #434B5C;\n",
              "      box-shadow: 0px 1px 3px 1px rgba(0, 0, 0, 0.15);\n",
              "      filter: drop-shadow(0px 1px 2px rgba(0, 0, 0, 0.3));\n",
              "      fill: #FFFFFF;\n",
              "    }\n",
              "  </style>\n",
              "\n",
              "    <script>\n",
              "      const buttonEl =\n",
              "        document.querySelector('#df-81180167-01f3-4fbd-b570-21b48a728fd7 button.colab-df-convert');\n",
              "      buttonEl.style.display =\n",
              "        google.colab.kernel.accessAllowed ? 'block' : 'none';\n",
              "\n",
              "      async function convertToInteractive(key) {\n",
              "        const element = document.querySelector('#df-81180167-01f3-4fbd-b570-21b48a728fd7');\n",
              "        const dataTable =\n",
              "          await google.colab.kernel.invokeFunction('convertToInteractive',\n",
              "                                                    [key], {});\n",
              "        if (!dataTable) return;\n",
              "\n",
              "        const docLinkHtml = 'Like what you see? Visit the ' +\n",
              "          '<a target=\"_blank\" href=https://colab.research.google.com/notebooks/data_table.ipynb>data table notebook</a>'\n",
              "          + ' to learn more about interactive tables.';\n",
              "        element.innerHTML = '';\n",
              "        dataTable['output_type'] = 'display_data';\n",
              "        await google.colab.output.renderOutput(dataTable, element);\n",
              "        const docLink = document.createElement('div');\n",
              "        docLink.innerHTML = docLinkHtml;\n",
              "        element.appendChild(docLink);\n",
              "      }\n",
              "    </script>\n",
              "  </div>\n",
              "\n",
              "    </div>\n",
              "  </div>\n"
            ],
            "application/vnd.google.colaboratory.intrinsic+json": {
              "type": "dataframe",
              "summary": "{\n  \"name\": \"X\",\n  \"rows\": 1,\n  \"fields\": [\n    {\n      \"column\": \"Run\",\n      \"properties\": {\n        \"dtype\": \"number\",\n        \"std\": null,\n        \"min\": 0.08207171314741035,\n        \"max\": 0.08207171314741035,\n        \"num_unique_values\": 1,\n        \"samples\": [\n          0.08207171314741035\n        ],\n        \"semantic_type\": \"\",\n        \"description\": \"\"\n      }\n    },\n    {\n      \"column\": \"Lumi\",\n      \"properties\": {\n        \"dtype\": \"number\",\n        \"std\": null,\n        \"min\": 0.0,\n        \"max\": 0.0,\n        \"num_unique_values\": 1,\n        \"samples\": [\n          0.0\n        ],\n        \"semantic_type\": \"\",\n        \"description\": \"\"\n      }\n    },\n    {\n      \"column\": \"Event\",\n      \"properties\": {\n        \"dtype\": \"number\",\n        \"std\": null,\n        \"min\": 2.3449162519654443e-06,\n        \"max\": 2.3449162519654443e-06,\n        \"num_unique_values\": 1,\n        \"samples\": [\n          2.3449162519654443e-06\n        ],\n        \"semantic_type\": \"\",\n        \"description\": \"\"\n      }\n    },\n    {\n      \"column\": \"MR\",\n      \"properties\": {\n        \"dtype\": \"number\",\n        \"std\": null,\n        \"min\": 0.0771909262261348,\n        \"max\": 0.0771909262261348,\n        \"num_unique_values\": 1,\n        \"samples\": [\n          0.0771909262261348\n        ],\n        \"semantic_type\": \"\",\n        \"description\": \"\"\n      }\n    },\n    {\n      \"column\": \"Rsq\",\n      \"properties\": {\n        \"dtype\": \"number\",\n        \"std\": null,\n        \"min\": 0.04185978362713172,\n        \"max\": 0.04185978362713172,\n        \"num_unique_values\": 1,\n        \"samples\": [\n          0.04185978362713172\n        ],\n        \"semantic_type\": \"\",\n        \"description\": \"\"\n      }\n    },\n    {\n      \"column\": \"E1\",\n      \"properties\": {\n        \"dtype\": \"number\",\n        \"std\": null,\n        \"min\": 0.04461779363195874,\n        \"max\": 0.04461779363195874,\n        \"num_unique_values\": 1,\n        \"samples\": [\n          0.04461779363195874\n        ],\n        \"semantic_type\": \"\",\n        \"description\": \"\"\n      }\n    },\n    {\n      \"column\": \"Px1\",\n      \"properties\": {\n        \"dtype\": \"number\",\n        \"std\": null,\n        \"min\": 0.3427248142344437,\n        \"max\": 0.3427248142344437,\n        \"num_unique_values\": 1,\n        \"samples\": [\n          0.3427248142344437\n        ],\n        \"semantic_type\": \"\",\n        \"description\": \"\"\n      }\n    },\n    {\n      \"column\": \"Py1\",\n      \"properties\": {\n        \"dtype\": \"number\",\n        \"std\": null,\n        \"min\": 0.531325500460836,\n        \"max\": 0.531325500460836,\n        \"num_unique_values\": 1,\n        \"samples\": [\n          0.531325500460836\n        ],\n        \"semantic_type\": \"\",\n        \"description\": \"\"\n      }\n    },\n    {\n      \"column\": \"Pz1\",\n      \"properties\": {\n        \"dtype\": \"number\",\n        \"std\": null,\n        \"min\": 0.48073228539248813,\n        \"max\": 0.48073228539248813,\n        \"num_unique_values\": 1,\n        \"samples\": [\n          0.48073228539248813\n        ],\n        \"semantic_type\": \"\",\n        \"description\": \"\"\n      }\n    },\n    {\n      \"column\": \"E2\",\n      \"properties\": {\n        \"dtype\": \"number\",\n        \"std\": null,\n        \"min\": 0.055587501417023184,\n        \"max\": 0.055587501417023184,\n        \"num_unique_values\": 1,\n        \"samples\": [\n          0.055587501417023184\n        ],\n        \"semantic_type\": \"\",\n        \"description\": \"\"\n      }\n    },\n    {\n      \"column\": \"Px2\",\n      \"properties\": {\n        \"dtype\": \"number\",\n        \"std\": null,\n        \"min\": 0.6966807726891964,\n        \"max\": 0.6966807726891964,\n        \"num_unique_values\": 1,\n        \"samples\": [\n          0.6966807726891964\n        ],\n        \"semantic_type\": \"\",\n        \"description\": \"\"\n      }\n    },\n    {\n      \"column\": \"Py2\",\n      \"properties\": {\n        \"dtype\": \"number\",\n        \"std\": null,\n        \"min\": 0.4572409827162071,\n        \"max\": 0.4572409827162071,\n        \"num_unique_values\": 1,\n        \"samples\": [\n          0.4572409827162071\n        ],\n        \"semantic_type\": \"\",\n        \"description\": \"\"\n      }\n    },\n    {\n      \"column\": \"Pz2\",\n      \"properties\": {\n        \"dtype\": \"number\",\n        \"std\": null,\n        \"min\": 0.4402243262592834,\n        \"max\": 0.4402243262592834,\n        \"num_unique_values\": 1,\n        \"samples\": [\n          0.4402243262592834\n        ],\n        \"semantic_type\": \"\",\n        \"description\": \"\"\n      }\n    },\n    {\n      \"column\": \"HT\",\n      \"properties\": {\n        \"dtype\": \"number\",\n        \"std\": null,\n        \"min\": 0.06165945686491385,\n        \"max\": 0.06165945686491385,\n        \"num_unique_values\": 1,\n        \"samples\": [\n          0.06165945686491385\n        ],\n        \"semantic_type\": \"\",\n        \"description\": \"\"\n      }\n    },\n    {\n      \"column\": \"MET\",\n      \"properties\": {\n        \"dtype\": \"number\",\n        \"std\": null,\n        \"min\": 0.04304652507943301,\n        \"max\": 0.04304652507943301,\n        \"num_unique_values\": 1,\n        \"samples\": [\n          0.04304652507943301\n        ],\n        \"semantic_type\": \"\",\n        \"description\": \"\"\n      }\n    },\n    {\n      \"column\": \"nJets\",\n      \"properties\": {\n        \"dtype\": \"number\",\n        \"std\": null,\n        \"min\": 0.0,\n        \"max\": 0.0,\n        \"num_unique_values\": 1,\n        \"samples\": [\n          0.0\n        ],\n        \"semantic_type\": \"\",\n        \"description\": \"\"\n      }\n    }\n  ]\n}"
            }
          },
          "metadata": {},
          "execution_count": 24
        }
      ]
    },
    {
      "cell_type": "code",
      "source": [
        "X_data = torch.FloatTensor(X.iloc[:1].values)\n",
        "X_data = X_data.to(device)\n",
        "\n",
        "print(X_data)\n",
        "print(X_data.shape)"
      ],
      "metadata": {
        "id": "yxFclJc02t8G",
        "outputId": "6fd4ca8b-2d9d-4428-b37d-8e428887dd36",
        "colab": {
          "base_uri": "https://localhost:8080/"
        }
      },
      "execution_count": 26,
      "outputs": [
        {
          "output_type": "stream",
          "name": "stdout",
          "text": [
            "tensor([[8.2072e-02, 0.0000e+00, 2.3449e-06, 7.7191e-02, 4.1860e-02, 4.4618e-02,\n",
            "         3.4272e-01, 5.3133e-01, 4.8073e-01, 5.5588e-02, 6.9668e-01, 4.5724e-01,\n",
            "         4.4022e-01, 6.1659e-02, 4.3047e-02, 0.0000e+00]])\n",
            "torch.Size([1, 16])\n"
          ]
        }
      ]
    },
    {
      "cell_type": "code",
      "source": [
        "load_model(X_data)"
      ],
      "metadata": {
        "id": "K1pGdZim21Ak",
        "outputId": "eb32d2b8-ea3d-48d1-fdcc-33f5c78f2260",
        "colab": {
          "base_uri": "https://localhost:8080/"
        }
      },
      "execution_count": 27,
      "outputs": [
        {
          "output_type": "execute_result",
          "data": {
            "text/plain": [
              "tensor([[-0.1812]], grad_fn=<AddmmBackward0>)"
            ]
          },
          "metadata": {},
          "execution_count": 27
        }
      ]
    }
  ]
}