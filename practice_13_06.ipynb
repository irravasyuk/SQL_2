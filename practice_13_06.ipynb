{
  "nbformat": 4,
  "nbformat_minor": 0,
  "metadata": {
    "colab": {
      "provenance": [],
      "toc_visible": true,
      "include_colab_link": true
    },
    "kernelspec": {
      "name": "python3",
      "display_name": "Python 3"
    },
    "language_info": {
      "name": "python"
    }
  },
  "cells": [
    {
      "cell_type": "markdown",
      "metadata": {
        "id": "view-in-github",
        "colab_type": "text"
      },
      "source": [
        "<a href=\"https://colab.research.google.com/github/irravasyuk/SQL_2/blob/master/practice_13_06.ipynb\" target=\"_parent\"><img src=\"https://colab.research.google.com/assets/colab-badge.svg\" alt=\"Open In Colab\"/></a>"
      ]
    },
    {
      "cell_type": "markdown",
      "source": [
        "Імпортуйте модуль numpy"
      ],
      "metadata": {
        "id": "rIioSM27QJ8x"
      }
    },
    {
      "cell_type": "code",
      "execution_count": 1,
      "metadata": {
        "id": "rDtfBq8ANBhL"
      },
      "outputs": [],
      "source": [
        "import numpy as np"
      ]
    },
    {
      "cell_type": "markdown",
      "source": [
        "# Завдання 1\n",
        "Створіть масив з елементами від 1 до 12. Виведіть розмір та тип масиву"
      ],
      "metadata": {
        "id": "npT_FnlcNwke"
      }
    },
    {
      "cell_type": "code",
      "source": [
        "array = np.arange(1, 13)\n",
        "print(\"Розмір масиву: \", array.shape)\n",
        "print(\"Тип масиву: \", type(array))"
      ],
      "metadata": {
        "id": "02EdQMKlOZHr",
        "colab": {
          "base_uri": "https://localhost:8080/"
        },
        "outputId": "e61f7c49-e088-48aa-848f-6a7c2649bce8"
      },
      "execution_count": 4,
      "outputs": [
        {
          "output_type": "stream",
          "name": "stdout",
          "text": [
            "Розмір масиву:  (12,)\n",
            "Тип масиву:  <class 'numpy.ndarray'>\n"
          ]
        }
      ]
    },
    {
      "cell_type": "markdown",
      "source": [
        "# Завдання 2\n",
        "Зробіть на основі попереднього масиву матрицю з 4 стовчиками. Змініть тип даних матриці на float32. Виведіть транспоновану матрицю."
      ],
      "metadata": {
        "id": "HH8hOwVhNxWE"
      }
    },
    {
      "cell_type": "code",
      "source": [
        "matrix = array.reshape((3, 4))\n",
        "matrix = matrix.astype(np.float32)\n",
        "tr_matrix = matrix.T\n",
        "\n",
        "print(\"Матриця: \")\n",
        "print(matrix)\n",
        "\n",
        "print(\"Тип даних:\", matrix.dtype)\n",
        "print(\"Транспонована матриця:\")\n",
        "print(tr_matrix)"
      ],
      "metadata": {
        "id": "4jYqwTycOYbN",
        "colab": {
          "base_uri": "https://localhost:8080/"
        },
        "outputId": "4050714f-2af3-4094-c85b-fb6927d4a1d5"
      },
      "execution_count": 10,
      "outputs": [
        {
          "output_type": "stream",
          "name": "stdout",
          "text": [
            "Матриця: \n",
            "[[ 1.  2.  3.  4.]\n",
            " [ 5.  6.  7.  8.]\n",
            " [ 9. 10. 11. 12.]]\n",
            "Тип даних: float32\n",
            "Транспонована матриця:\n",
            "[[ 1.  5.  9.]\n",
            " [ 2.  6. 10.]\n",
            " [ 3.  7. 11.]\n",
            " [ 4.  8. 12.]]\n"
          ]
        }
      ]
    },
    {
      "cell_type": "markdown",
      "source": [
        "#Завдання 3\n",
        "Створіть матрицю 8х8 з 0 та 1 розміщеними в шаховому порядку"
      ],
      "metadata": {
        "id": "T35Vjkz1Nxez"
      }
    },
    {
      "cell_type": "code",
      "source": [
        "chessboard = np.indices((8, 8)).sum(axis=0)%2\n",
        "\n",
        "print(chessboard)"
      ],
      "metadata": {
        "id": "mrbnfiPQPu_n",
        "colab": {
          "base_uri": "https://localhost:8080/"
        },
        "outputId": "cd095db3-5447-4ab6-fec9-6dbe6e801605"
      },
      "execution_count": 15,
      "outputs": [
        {
          "output_type": "stream",
          "name": "stdout",
          "text": [
            "[[0 1 0 1 0 1 0 1]\n",
            " [1 0 1 0 1 0 1 0]\n",
            " [0 1 0 1 0 1 0 1]\n",
            " [1 0 1 0 1 0 1 0]\n",
            " [0 1 0 1 0 1 0 1]\n",
            " [1 0 1 0 1 0 1 0]\n",
            " [0 1 0 1 0 1 0 1]\n",
            " [1 0 1 0 1 0 1 0]]\n"
          ]
        }
      ]
    },
    {
      "cell_type": "markdown",
      "source": [
        "# Завдання 4\n",
        "Створіть випадкову матрицю 4х3. Знайдіть суму елементів в стовпчиках\\рядках\\усій матриці"
      ],
      "metadata": {
        "id": "g87KAY1nNxoy"
      }
    },
    {
      "cell_type": "code",
      "source": [
        "random_matrix = np.random.rand(4, 3)\n",
        "print(\"Випадкова матриця:\")\n",
        "print(random_matrix)\n",
        "\n",
        "sum_columns = np.sum(random_matrix, axis = 0)\n",
        "print(\"Сума елементів у стовпчиках:\")\n",
        "print(sum_columns)\n",
        "\n",
        "sum_rows = np.sum(random_matrix, axis = 1)\n",
        "print(\"Сума елементів у рядках:\")\n",
        "print(sum_rows)\n",
        "\n",
        "sum_total = np.sum(random_matrix)\n",
        "print(\"Сума всіх елементів матриці:\")\n",
        "print(sum_total)\n",
        "\n",
        "\n",
        "\n"
      ],
      "metadata": {
        "id": "RGA3022VQIZV",
        "colab": {
          "base_uri": "https://localhost:8080/"
        },
        "outputId": "94cbaa9a-ae15-4933-f289-0f962cfa8017"
      },
      "execution_count": 13,
      "outputs": [
        {
          "output_type": "stream",
          "name": "stdout",
          "text": [
            "Випадкова матриця:\n",
            "[[0.09190873 0.23858288 0.21928339]\n",
            " [0.47386482 0.40536849 0.3798635 ]\n",
            " [0.11283296 0.61941182 0.17319699]\n",
            " [0.91727808 0.05114373 0.21046546]]\n",
            "Сума елементів у стовпчиках:\n",
            "[1.59588459 1.31450692 0.98280935]\n",
            "Сума елементів у рядках:\n",
            "[0.54977501 1.25909682 0.90544177 1.17888726]\n",
            "Сума всіх елементів матриці:\n",
            "3.8932008627193335\n"
          ]
        }
      ]
    },
    {
      "cell_type": "markdown",
      "source": [
        "# Завдання 5\n",
        "У попередній матриці від кожного рядка відніміть максимальний елемент цього рядка"
      ],
      "metadata": {
        "id": "AGH0TVVBNxx9"
      }
    },
    {
      "cell_type": "code",
      "source": [
        "random_matrix = np.random.rand(4, 3)\n",
        "print(\"Випадкова матриця:\")\n",
        "print(random_matrix)\n",
        "\n",
        "max_in_rows = np.max(random_matrix, axis = 1).reshape(-1, 1)\n",
        "result = random_matrix - max_in_rows\n",
        "\n",
        "print(\"Матриця:\")\n",
        "print(result)"
      ],
      "metadata": {
        "id": "TVYjbsBDQHTU",
        "colab": {
          "base_uri": "https://localhost:8080/"
        },
        "outputId": "a85f6943-4e79-4b4f-909d-2ef461b6b8d0"
      },
      "execution_count": 14,
      "outputs": [
        {
          "output_type": "stream",
          "name": "stdout",
          "text": [
            "Випадкова матриця:\n",
            "[[0.04420942 0.49697873 0.62172225]\n",
            " [0.11358817 0.73621449 0.90983658]\n",
            " [0.77076293 0.49751047 0.72170901]\n",
            " [0.08986483 0.32818627 0.6562935 ]]\n",
            "Матриця:\n",
            "[[-0.57751283 -0.12474352  0.        ]\n",
            " [-0.79624841 -0.1736221   0.        ]\n",
            " [ 0.         -0.27325246 -0.04905392]\n",
            " [-0.56642867 -0.32810724  0.        ]]\n"
          ]
        }
      ]
    },
    {
      "cell_type": "markdown",
      "source": [
        "# Завдання 6\n",
        "Є дані про вагу контейнерів для перевезення на кораблі: дрібний - 5 т,  малий - 10 т, середній - 25 т, великий - 40 т. На кораблі розміщено 20 дрібних, 5 малих, 10 середніх та 4 великих контейнерів. Знайти масу вантажу."
      ],
      "metadata": {
        "id": "cH8WhnsjQsXi"
      }
    },
    {
      "cell_type": "code",
      "source": [],
      "metadata": {
        "id": "BYrqqe9WR6g7"
      },
      "execution_count": null,
      "outputs": []
    },
    {
      "cell_type": "markdown",
      "source": [
        "# Завдання 7\n",
        "Тепер у нас декілька кораблів. Напишіть код для обчислення вантажу на кожному кораблі."
      ],
      "metadata": {
        "id": "IhdiDOh3Qrmb"
      }
    },
    {
      "cell_type": "code",
      "source": [],
      "metadata": {
        "id": "gVUXPdFhSI95"
      },
      "execution_count": null,
      "outputs": []
    }
  ]
}