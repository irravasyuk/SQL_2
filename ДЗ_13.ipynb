{
  "nbformat": 4,
  "nbformat_minor": 0,
  "metadata": {
    "colab": {
      "provenance": [],
      "include_colab_link": true
    },
    "kernelspec": {
      "name": "python3",
      "display_name": "Python 3"
    },
    "language_info": {
      "name": "python"
    }
  },
  "cells": [
    {
      "cell_type": "markdown",
      "metadata": {
        "id": "view-in-github",
        "colab_type": "text"
      },
      "source": [
        "<a href=\"https://colab.research.google.com/github/irravasyuk/SQL_2/blob/master/%D0%94%D0%97_13.ipynb\" target=\"_parent\"><img src=\"https://colab.research.google.com/assets/colab-badge.svg\" alt=\"Open In Colab\"/></a>"
      ]
    },
    {
      "cell_type": "markdown",
      "source": [
        "Імпорт модулів"
      ],
      "metadata": {
        "id": "w1r0k1UheNCz"
      }
    },
    {
      "cell_type": "code",
      "execution_count": 90,
      "metadata": {
        "id": "4XxgJqCDoExm"
      },
      "outputs": [],
      "source": [
        "import pandas as pd\n",
        "\n",
        "device = \"cuda\" if torch.cuda.is_available() else \"cpu\""
      ]
    },
    {
      "cell_type": "markdown",
      "source": [
        "Дані про банани"
      ],
      "metadata": {
        "id": "Kpk2KycTeQEE"
      }
    },
    {
      "cell_type": "code",
      "source": [
        "# трохи обробки даних\n",
        "df = pd.read_csv('https://raw.githubusercontent.com/HalyshAnton/IT-Step-Pyton-AI/main/module3/data/banana_quality.csv')\n",
        "\n",
        "df['Quality'] = df['Quality'].map({'Good': 1, 'Bad': 0})\n",
        "\n",
        "columns = df.columns.delete(-1)\n",
        "data = df[columns]\n",
        "df[columns] = (data - data.min()) / (data.max() - data.min())"
      ],
      "metadata": {
        "id": "926S2f5pdnH6"
      },
      "execution_count": 91,
      "outputs": []
    },
    {
      "cell_type": "code",
      "source": [
        "df.head()"
      ],
      "metadata": {
        "colab": {
          "base_uri": "https://localhost:8080/",
          "height": 206
        },
        "id": "eG6_dawddqwd",
        "outputId": "c688ad9d-279d-419b-e115-382b7b4abc5d"
      },
      "execution_count": 92,
      "outputs": [
        {
          "output_type": "execute_result",
          "data": {
            "text/plain": [
              "       Size    Weight  Sweetness  Softness  HarvestTime  Ripeness   Acidity  \\\n",
              "0  0.380309  0.626747   0.680712  0.360975     0.567312  0.671933  0.543416   \n",
              "1  0.349951  0.628093   0.485275  0.293682     0.481689  0.646850  0.545720   \n",
              "2  0.478460  0.699448   0.572694  0.283811     0.499358  0.716580  0.617337   \n",
              "3  0.446465  0.705394   0.595677  0.374028     0.473461  0.633590  0.556625   \n",
              "4  0.541672  0.687704   0.458841  0.378242     0.442847  0.579430  0.705908   \n",
              "\n",
              "   Quality  \n",
              "0        1  \n",
              "1        1  \n",
              "2        1  \n",
              "3        1  \n",
              "4        1  "
            ],
            "text/html": [
              "\n",
              "  <div id=\"df-24ba919d-19ac-4e9a-b777-2837a1affe5e\" class=\"colab-df-container\">\n",
              "    <div>\n",
              "<style scoped>\n",
              "    .dataframe tbody tr th:only-of-type {\n",
              "        vertical-align: middle;\n",
              "    }\n",
              "\n",
              "    .dataframe tbody tr th {\n",
              "        vertical-align: top;\n",
              "    }\n",
              "\n",
              "    .dataframe thead th {\n",
              "        text-align: right;\n",
              "    }\n",
              "</style>\n",
              "<table border=\"1\" class=\"dataframe\">\n",
              "  <thead>\n",
              "    <tr style=\"text-align: right;\">\n",
              "      <th></th>\n",
              "      <th>Size</th>\n",
              "      <th>Weight</th>\n",
              "      <th>Sweetness</th>\n",
              "      <th>Softness</th>\n",
              "      <th>HarvestTime</th>\n",
              "      <th>Ripeness</th>\n",
              "      <th>Acidity</th>\n",
              "      <th>Quality</th>\n",
              "    </tr>\n",
              "  </thead>\n",
              "  <tbody>\n",
              "    <tr>\n",
              "      <th>0</th>\n",
              "      <td>0.380309</td>\n",
              "      <td>0.626747</td>\n",
              "      <td>0.680712</td>\n",
              "      <td>0.360975</td>\n",
              "      <td>0.567312</td>\n",
              "      <td>0.671933</td>\n",
              "      <td>0.543416</td>\n",
              "      <td>1</td>\n",
              "    </tr>\n",
              "    <tr>\n",
              "      <th>1</th>\n",
              "      <td>0.349951</td>\n",
              "      <td>0.628093</td>\n",
              "      <td>0.485275</td>\n",
              "      <td>0.293682</td>\n",
              "      <td>0.481689</td>\n",
              "      <td>0.646850</td>\n",
              "      <td>0.545720</td>\n",
              "      <td>1</td>\n",
              "    </tr>\n",
              "    <tr>\n",
              "      <th>2</th>\n",
              "      <td>0.478460</td>\n",
              "      <td>0.699448</td>\n",
              "      <td>0.572694</td>\n",
              "      <td>0.283811</td>\n",
              "      <td>0.499358</td>\n",
              "      <td>0.716580</td>\n",
              "      <td>0.617337</td>\n",
              "      <td>1</td>\n",
              "    </tr>\n",
              "    <tr>\n",
              "      <th>3</th>\n",
              "      <td>0.446465</td>\n",
              "      <td>0.705394</td>\n",
              "      <td>0.595677</td>\n",
              "      <td>0.374028</td>\n",
              "      <td>0.473461</td>\n",
              "      <td>0.633590</td>\n",
              "      <td>0.556625</td>\n",
              "      <td>1</td>\n",
              "    </tr>\n",
              "    <tr>\n",
              "      <th>4</th>\n",
              "      <td>0.541672</td>\n",
              "      <td>0.687704</td>\n",
              "      <td>0.458841</td>\n",
              "      <td>0.378242</td>\n",
              "      <td>0.442847</td>\n",
              "      <td>0.579430</td>\n",
              "      <td>0.705908</td>\n",
              "      <td>1</td>\n",
              "    </tr>\n",
              "  </tbody>\n",
              "</table>\n",
              "</div>\n",
              "    <div class=\"colab-df-buttons\">\n",
              "\n",
              "  <div class=\"colab-df-container\">\n",
              "    <button class=\"colab-df-convert\" onclick=\"convertToInteractive('df-24ba919d-19ac-4e9a-b777-2837a1affe5e')\"\n",
              "            title=\"Convert this dataframe to an interactive table.\"\n",
              "            style=\"display:none;\">\n",
              "\n",
              "  <svg xmlns=\"http://www.w3.org/2000/svg\" height=\"24px\" viewBox=\"0 -960 960 960\">\n",
              "    <path d=\"M120-120v-720h720v720H120Zm60-500h600v-160H180v160Zm220 220h160v-160H400v160Zm0 220h160v-160H400v160ZM180-400h160v-160H180v160Zm440 0h160v-160H620v160ZM180-180h160v-160H180v160Zm440 0h160v-160H620v160Z\"/>\n",
              "  </svg>\n",
              "    </button>\n",
              "\n",
              "  <style>\n",
              "    .colab-df-container {\n",
              "      display:flex;\n",
              "      gap: 12px;\n",
              "    }\n",
              "\n",
              "    .colab-df-convert {\n",
              "      background-color: #E8F0FE;\n",
              "      border: none;\n",
              "      border-radius: 50%;\n",
              "      cursor: pointer;\n",
              "      display: none;\n",
              "      fill: #1967D2;\n",
              "      height: 32px;\n",
              "      padding: 0 0 0 0;\n",
              "      width: 32px;\n",
              "    }\n",
              "\n",
              "    .colab-df-convert:hover {\n",
              "      background-color: #E2EBFA;\n",
              "      box-shadow: 0px 1px 2px rgba(60, 64, 67, 0.3), 0px 1px 3px 1px rgba(60, 64, 67, 0.15);\n",
              "      fill: #174EA6;\n",
              "    }\n",
              "\n",
              "    .colab-df-buttons div {\n",
              "      margin-bottom: 4px;\n",
              "    }\n",
              "\n",
              "    [theme=dark] .colab-df-convert {\n",
              "      background-color: #3B4455;\n",
              "      fill: #D2E3FC;\n",
              "    }\n",
              "\n",
              "    [theme=dark] .colab-df-convert:hover {\n",
              "      background-color: #434B5C;\n",
              "      box-shadow: 0px 1px 3px 1px rgba(0, 0, 0, 0.15);\n",
              "      filter: drop-shadow(0px 1px 2px rgba(0, 0, 0, 0.3));\n",
              "      fill: #FFFFFF;\n",
              "    }\n",
              "  </style>\n",
              "\n",
              "    <script>\n",
              "      const buttonEl =\n",
              "        document.querySelector('#df-24ba919d-19ac-4e9a-b777-2837a1affe5e button.colab-df-convert');\n",
              "      buttonEl.style.display =\n",
              "        google.colab.kernel.accessAllowed ? 'block' : 'none';\n",
              "\n",
              "      async function convertToInteractive(key) {\n",
              "        const element = document.querySelector('#df-24ba919d-19ac-4e9a-b777-2837a1affe5e');\n",
              "        const dataTable =\n",
              "          await google.colab.kernel.invokeFunction('convertToInteractive',\n",
              "                                                    [key], {});\n",
              "        if (!dataTable) return;\n",
              "\n",
              "        const docLinkHtml = 'Like what you see? Visit the ' +\n",
              "          '<a target=\"_blank\" href=https://colab.research.google.com/notebooks/data_table.ipynb>data table notebook</a>'\n",
              "          + ' to learn more about interactive tables.';\n",
              "        element.innerHTML = '';\n",
              "        dataTable['output_type'] = 'display_data';\n",
              "        await google.colab.output.renderOutput(dataTable, element);\n",
              "        const docLink = document.createElement('div');\n",
              "        docLink.innerHTML = docLinkHtml;\n",
              "        element.appendChild(docLink);\n",
              "      }\n",
              "    </script>\n",
              "  </div>\n",
              "\n",
              "\n",
              "<div id=\"df-7e9a5d51-38f3-4773-b3c0-7ec71b7134ea\">\n",
              "  <button class=\"colab-df-quickchart\" onclick=\"quickchart('df-7e9a5d51-38f3-4773-b3c0-7ec71b7134ea')\"\n",
              "            title=\"Suggest charts\"\n",
              "            style=\"display:none;\">\n",
              "\n",
              "<svg xmlns=\"http://www.w3.org/2000/svg\" height=\"24px\"viewBox=\"0 0 24 24\"\n",
              "     width=\"24px\">\n",
              "    <g>\n",
              "        <path d=\"M19 3H5c-1.1 0-2 .9-2 2v14c0 1.1.9 2 2 2h14c1.1 0 2-.9 2-2V5c0-1.1-.9-2-2-2zM9 17H7v-7h2v7zm4 0h-2V7h2v10zm4 0h-2v-4h2v4z\"/>\n",
              "    </g>\n",
              "</svg>\n",
              "  </button>\n",
              "\n",
              "<style>\n",
              "  .colab-df-quickchart {\n",
              "      --bg-color: #E8F0FE;\n",
              "      --fill-color: #1967D2;\n",
              "      --hover-bg-color: #E2EBFA;\n",
              "      --hover-fill-color: #174EA6;\n",
              "      --disabled-fill-color: #AAA;\n",
              "      --disabled-bg-color: #DDD;\n",
              "  }\n",
              "\n",
              "  [theme=dark] .colab-df-quickchart {\n",
              "      --bg-color: #3B4455;\n",
              "      --fill-color: #D2E3FC;\n",
              "      --hover-bg-color: #434B5C;\n",
              "      --hover-fill-color: #FFFFFF;\n",
              "      --disabled-bg-color: #3B4455;\n",
              "      --disabled-fill-color: #666;\n",
              "  }\n",
              "\n",
              "  .colab-df-quickchart {\n",
              "    background-color: var(--bg-color);\n",
              "    border: none;\n",
              "    border-radius: 50%;\n",
              "    cursor: pointer;\n",
              "    display: none;\n",
              "    fill: var(--fill-color);\n",
              "    height: 32px;\n",
              "    padding: 0;\n",
              "    width: 32px;\n",
              "  }\n",
              "\n",
              "  .colab-df-quickchart:hover {\n",
              "    background-color: var(--hover-bg-color);\n",
              "    box-shadow: 0 1px 2px rgba(60, 64, 67, 0.3), 0 1px 3px 1px rgba(60, 64, 67, 0.15);\n",
              "    fill: var(--button-hover-fill-color);\n",
              "  }\n",
              "\n",
              "  .colab-df-quickchart-complete:disabled,\n",
              "  .colab-df-quickchart-complete:disabled:hover {\n",
              "    background-color: var(--disabled-bg-color);\n",
              "    fill: var(--disabled-fill-color);\n",
              "    box-shadow: none;\n",
              "  }\n",
              "\n",
              "  .colab-df-spinner {\n",
              "    border: 2px solid var(--fill-color);\n",
              "    border-color: transparent;\n",
              "    border-bottom-color: var(--fill-color);\n",
              "    animation:\n",
              "      spin 1s steps(1) infinite;\n",
              "  }\n",
              "\n",
              "  @keyframes spin {\n",
              "    0% {\n",
              "      border-color: transparent;\n",
              "      border-bottom-color: var(--fill-color);\n",
              "      border-left-color: var(--fill-color);\n",
              "    }\n",
              "    20% {\n",
              "      border-color: transparent;\n",
              "      border-left-color: var(--fill-color);\n",
              "      border-top-color: var(--fill-color);\n",
              "    }\n",
              "    30% {\n",
              "      border-color: transparent;\n",
              "      border-left-color: var(--fill-color);\n",
              "      border-top-color: var(--fill-color);\n",
              "      border-right-color: var(--fill-color);\n",
              "    }\n",
              "    40% {\n",
              "      border-color: transparent;\n",
              "      border-right-color: var(--fill-color);\n",
              "      border-top-color: var(--fill-color);\n",
              "    }\n",
              "    60% {\n",
              "      border-color: transparent;\n",
              "      border-right-color: var(--fill-color);\n",
              "    }\n",
              "    80% {\n",
              "      border-color: transparent;\n",
              "      border-right-color: var(--fill-color);\n",
              "      border-bottom-color: var(--fill-color);\n",
              "    }\n",
              "    90% {\n",
              "      border-color: transparent;\n",
              "      border-bottom-color: var(--fill-color);\n",
              "    }\n",
              "  }\n",
              "</style>\n",
              "\n",
              "  <script>\n",
              "    async function quickchart(key) {\n",
              "      const quickchartButtonEl =\n",
              "        document.querySelector('#' + key + ' button');\n",
              "      quickchartButtonEl.disabled = true;  // To prevent multiple clicks.\n",
              "      quickchartButtonEl.classList.add('colab-df-spinner');\n",
              "      try {\n",
              "        const charts = await google.colab.kernel.invokeFunction(\n",
              "            'suggestCharts', [key], {});\n",
              "      } catch (error) {\n",
              "        console.error('Error during call to suggestCharts:', error);\n",
              "      }\n",
              "      quickchartButtonEl.classList.remove('colab-df-spinner');\n",
              "      quickchartButtonEl.classList.add('colab-df-quickchart-complete');\n",
              "    }\n",
              "    (() => {\n",
              "      let quickchartButtonEl =\n",
              "        document.querySelector('#df-7e9a5d51-38f3-4773-b3c0-7ec71b7134ea button');\n",
              "      quickchartButtonEl.style.display =\n",
              "        google.colab.kernel.accessAllowed ? 'block' : 'none';\n",
              "    })();\n",
              "  </script>\n",
              "</div>\n",
              "    </div>\n",
              "  </div>\n"
            ],
            "application/vnd.google.colaboratory.intrinsic+json": {
              "type": "dataframe",
              "variable_name": "df",
              "summary": "{\n  \"name\": \"df\",\n  \"rows\": 8000,\n  \"fields\": [\n    {\n      \"column\": \"Size\",\n      \"properties\": {\n        \"dtype\": \"number\",\n        \"std\": 0.13376164104570212,\n        \"min\": 0.0,\n        \"max\": 1.0,\n        \"num_unique_values\": 8000,\n        \"samples\": [\n          0.42681145207858734,\n          0.3636982670161966,\n          0.499762917535701\n        ],\n        \"semantic_type\": \"\",\n        \"description\": \"\"\n      }\n    },\n    {\n      \"column\": \"Weight\",\n      \"properties\": {\n        \"dtype\": \"number\",\n        \"std\": 0.14438003531209154,\n        \"min\": 0.0,\n        \"max\": 1.0,\n        \"num_unique_values\": 8000,\n        \"samples\": [\n          0.4841220755822623,\n          0.3920386495614671,\n          0.6782758184058177\n        ],\n        \"semantic_type\": \"\",\n        \"description\": \"\"\n      }\n    },\n    {\n      \"column\": \"Sweetness\",\n      \"properties\": {\n        \"dtype\": \"number\",\n        \"std\": 0.13944033026305225,\n        \"min\": 0.0,\n        \"max\": 1.0,\n        \"num_unique_values\": 8000,\n        \"samples\": [\n          0.36090872114798445,\n          0.36065713591231285,\n          0.8009020355861252\n        ],\n        \"semantic_type\": \"\",\n        \"description\": \"\"\n      }\n    },\n    {\n      \"column\": \"Softness\",\n      \"properties\": {\n        \"dtype\": \"number\",\n        \"std\": 0.13586165261235486,\n        \"min\": 0.0,\n        \"max\": 1.0,\n        \"num_unique_values\": 8000,\n        \"samples\": [\n          0.401850667197794,\n          0.6292820414425365,\n          0.5282198762431736\n        ],\n        \"semantic_type\": \"\",\n        \"description\": \"\"\n      }\n    },\n    {\n      \"column\": \"HarvestTime\",\n      \"properties\": {\n        \"dtype\": \"number\",\n        \"std\": 0.14402504977190056,\n        \"min\": 0.0,\n        \"max\": 1.0,\n        \"num_unique_values\": 8000,\n        \"samples\": [\n          0.5361941697483128,\n          0.5448621509948689,\n          0.3653719803259087\n        ],\n        \"semantic_type\": \"\",\n        \"description\": \"\"\n      }\n    },\n    {\n      \"column\": \"Ripeness\",\n      \"properties\": {\n        \"dtype\": \"number\",\n        \"std\": 0.1441018379032065,\n        \"min\": 0.0,\n        \"max\": 1.0,\n        \"num_unique_values\": 8000,\n        \"samples\": [\n          0.6648203981671774,\n          0.883346239383179,\n          0.4348136864214833\n        ],\n        \"semantic_type\": \"\",\n        \"description\": \"\"\n      }\n    },\n    {\n      \"column\": \"Acidity\",\n      \"properties\": {\n        \"dtype\": \"number\",\n        \"std\": 0.14665411857025115,\n        \"min\": 0.0,\n        \"max\": 1.0,\n        \"num_unique_values\": 8000,\n        \"samples\": [\n          0.40913510826297517,\n          0.21012956362075774,\n          0.6885939962504982\n        ],\n        \"semantic_type\": \"\",\n        \"description\": \"\"\n      }\n    },\n    {\n      \"column\": \"Quality\",\n      \"properties\": {\n        \"dtype\": \"number\",\n        \"std\": 0,\n        \"min\": 0,\n        \"max\": 1,\n        \"num_unique_values\": 2,\n        \"samples\": [\n          0,\n          1\n        ],\n        \"semantic_type\": \"\",\n        \"description\": \"\"\n      }\n    }\n  ]\n}"
            }
          },
          "metadata": {},
          "execution_count": 92
        }
      ]
    },
    {
      "cell_type": "markdown",
      "source": [
        "Потрібно на основі інформації про банан спрогнозувати його якість `Quality`"
      ],
      "metadata": {
        "id": "KAmkR_CFejgQ"
      }
    },
    {
      "cell_type": "markdown",
      "source": [
        "# Завдання 1\n",
        "Створіть клас Dataset для тренувальних та тестових даних"
      ],
      "metadata": {
        "id": "dBt0E5BJe6OK"
      }
    },
    {
      "cell_type": "code",
      "source": [
        "from torch.utils.data import Dataset\n",
        "from sklearn.model_selection import train_test_split\n",
        "import torch\n",
        "\n",
        "class MyDataset(Dataset):\n",
        "    def __init__(self, X, y):\n",
        "      self.X = torch.FloatTensor(X.values)\n",
        "      self.y = torch.FloatTensor(y.values)\n",
        "      self.y = self.y.reshape(-1, 1)\n",
        "\n",
        "    def __len__(self):\n",
        "      return len(self.X)\n",
        "\n",
        "    def __getitem__(self, idx):\n",
        "      return self.X[idx], self.y[idx]"
      ],
      "metadata": {
        "id": "vFtu1Wd1drwJ"
      },
      "execution_count": 93,
      "outputs": []
    },
    {
      "cell_type": "code",
      "source": [
        "X = df.drop(\"Quality\", axis='columns')\n",
        "y = df[\"Quality\"]\n",
        "\n",
        "X_train, X_test, y_train, y_test = train_test_split(X, y,\n",
        "                                                    train_size=0.8,\n",
        "                                                    random_state=42,\n",
        "                                                    stratify=y)"
      ],
      "metadata": {
        "id": "vKiA6LKkz9i_"
      },
      "execution_count": 94,
      "outputs": []
    },
    {
      "cell_type": "code",
      "source": [
        "dataset_train = MyDataset(X_train, y_train)\n",
        "dataset_test = MyDataset(X_test, y_test)"
      ],
      "metadata": {
        "id": "QLL_AR3j2DyN"
      },
      "execution_count": 95,
      "outputs": []
    },
    {
      "cell_type": "markdown",
      "source": [
        "# Завдання 2\n",
        "Створіть DataLoader"
      ],
      "metadata": {
        "id": "zQlB_6WzfB8n"
      }
    },
    {
      "cell_type": "code",
      "source": [
        "from torch.utils.data import DataLoader\n",
        "\n",
        "batch_size = 64\n",
        "train_dl = DataLoader(dataset_train,\n",
        "                      batch_size=batch_size,\n",
        "                      shuffle=True)\n",
        "\n",
        "test_dl = DataLoader(dataset_test,\n",
        "                     batch_size=batch_size,\n",
        "                     shuffle=True)"
      ],
      "metadata": {
        "id": "-6-po4H4fZQy"
      },
      "execution_count": 96,
      "outputs": []
    },
    {
      "cell_type": "markdown",
      "source": [
        "# Завдання 3\n",
        "Створіть нейромережу"
      ],
      "metadata": {
        "id": "2W93LiDxfZrx"
      }
    },
    {
      "cell_type": "code",
      "source": [
        "import numpy as np\n",
        "from torch import nn\n",
        "import torch.nn.functional as F\n",
        "\n",
        "\n",
        "class BinaryClassifier(nn.Module):\n",
        "    def __init__(self, input_dim, hidden_dim, output_dim):\n",
        "        super().__init__()\n",
        "\n",
        "        self.linear1 = nn.Linear(input_dim, hidden_dim)\n",
        "        self.linear2 = nn.Linear(hidden_dim, output_dim)\n",
        "\n",
        "    def forward(self, x):\n",
        "        out = self.linear1(x)\n",
        "        out = F.relu(out)\n",
        "\n",
        "        out = self.linear2(out)\n",
        "        out = F.sigmoid(out)\n",
        "        return out\n",
        "\n",
        "    def predict(self, X, device='cpu'):\n",
        "        X = torch.FloatTensor(np.array(X)).to(device)\n",
        "\n",
        "        with torch.no_grad():\n",
        "          y_pred = self.forward(X)\n",
        "\n",
        "        return y_pred.cpu().numpy()\n",
        "\n",
        "\n",
        "model = BinaryClassifier(7, 64, 1).to(device)\n",
        "model\n"
      ],
      "metadata": {
        "id": "p9DHog7Xf7xE",
        "outputId": "81c58116-6174-4ca4-a43d-eaae6af21b59",
        "colab": {
          "base_uri": "https://localhost:8080/"
        }
      },
      "execution_count": 97,
      "outputs": [
        {
          "output_type": "execute_result",
          "data": {
            "text/plain": [
              "BinaryClassifier(\n",
              "  (linear1): Linear(in_features=7, out_features=64, bias=True)\n",
              "  (linear2): Linear(in_features=64, out_features=1, bias=True)\n",
              ")"
            ]
          },
          "metadata": {},
          "execution_count": 97
        }
      ]
    },
    {
      "cell_type": "code",
      "source": [
        "from torchsummary import summary\n",
        "\n",
        "summary(model, input_size=(7,))"
      ],
      "metadata": {
        "id": "fHBEmVFN2Pl4",
        "outputId": "1af6ae48-1f6a-4f7a-dad3-e60bf22e2d30",
        "colab": {
          "base_uri": "https://localhost:8080/"
        }
      },
      "execution_count": 98,
      "outputs": [
        {
          "output_type": "stream",
          "name": "stdout",
          "text": [
            "----------------------------------------------------------------\n",
            "        Layer (type)               Output Shape         Param #\n",
            "================================================================\n",
            "            Linear-1                   [-1, 64]             512\n",
            "            Linear-2                    [-1, 1]              65\n",
            "================================================================\n",
            "Total params: 577\n",
            "Trainable params: 577\n",
            "Non-trainable params: 0\n",
            "----------------------------------------------------------------\n",
            "Input size (MB): 0.00\n",
            "Forward/backward pass size (MB): 0.00\n",
            "Params size (MB): 0.00\n",
            "Estimated Total Size (MB): 0.00\n",
            "----------------------------------------------------------------\n"
          ]
        }
      ]
    },
    {
      "cell_type": "markdown",
      "source": [
        "# Завдання 4\n",
        "Визначте функцію втрат та оптимізатор"
      ],
      "metadata": {
        "id": "VmNUVkkUf8gB"
      }
    },
    {
      "cell_type": "code",
      "source": [
        "loss_fn = nn.BCELoss()\n",
        "\n",
        "optimizer = torch.optim.SGD(model.parameters(), lr= 1e-3)"
      ],
      "metadata": {
        "id": "e1sw9oRBgDXR"
      },
      "execution_count": 99,
      "outputs": []
    },
    {
      "cell_type": "markdown",
      "source": [
        "# Завдання 5\n",
        "Натренуйте нейромережу. Візміть невелику кількість епох"
      ],
      "metadata": {
        "id": "qTOFCl_egEFZ"
      }
    },
    {
      "cell_type": "code",
      "source": [
        "import time\n",
        "\n",
        "def train(model, optimizer, loss_fn, train_dl, val_dl,\n",
        "          metrics=None, metrics_name=None, epochs=100, device='cpu', task='regression'):\n",
        "\n",
        "    print('train() called: model=%s, opt=%s(lr=%f), epochs=%d, device=%s\\n' % \\\n",
        "          (type(model).__name__, type(optimizer).__name__,\n",
        "           optimizer.param_groups[0]['lr'], epochs, device))\n",
        "\n",
        "    metrics = metrics if metrics else []\n",
        "    metrics_name = metrics_name if metrics_name else [metric.__name__ for metric in metrics]\n",
        "\n",
        "    history = {}\n",
        "    history['loss'] = []\n",
        "    history['val_loss'] = []\n",
        "    for name in metrics_name:\n",
        "        history[name] = []\n",
        "        history[f'val_{name}'] = []\n",
        "\n",
        "    start_time_train = time.time()\n",
        "\n",
        "    for epoch in range(epochs):\n",
        "\n",
        "        # --- TRAIN AND EVALUATE ON TRAINING SET -----------------------------\n",
        "        start_time_epoch = time.time()\n",
        "\n",
        "        model.train()\n",
        "        history_train = {name: 0 for name in ['loss']+metrics_name}\n",
        "\n",
        "        for batch in train_dl:\n",
        "            x    = batch[0].to(device)\n",
        "            y    = batch[1].to(device)\n",
        "            y_pred = model(x)\n",
        "            loss = loss_fn(y_pred, y)\n",
        "\n",
        "            optimizer.zero_grad()\n",
        "            loss.backward()\n",
        "            optimizer.step()\n",
        "\n",
        "            y_pred = y_pred.detach().cpu().numpy()\n",
        "            y = y.detach().cpu().numpy()\n",
        "\n",
        "\n",
        "            history_train['loss'] += loss.item() * x.size(0)\n",
        "            for name, func in zip(metrics_name, metrics):\n",
        "              try:\n",
        "                  history_train[name] += func(y, y_pred) * x.size(0)\n",
        "              except:\n",
        "                  if task == 'binary': y_pred_ = y_pred.round()\n",
        "                  elif task == 'multiclass': y_pred_ = y_pred.argmax(axis=-1)\n",
        "                  history_train[name] += func(y, y_pred_) * x.size(0)\n",
        "\n",
        "        for name in history_train:\n",
        "            history_train[name] /= len(train_dl.dataset)\n",
        "\n",
        "\n",
        "        # --- EVALUATE ON VALIDATION SET -------------------------------------\n",
        "        model.eval()\n",
        "        history_val = {'val_' + name: 0 for name in metrics_name+['loss']}\n",
        "\n",
        "        with torch.no_grad():\n",
        "            for batch in val_dl:\n",
        "                x    = batch[0].to(device)\n",
        "                y    = batch[1].to(device)\n",
        "                y_pred = model(x)\n",
        "                loss = loss_fn(y_pred, y)\n",
        "\n",
        "                y_pred = y_pred.cpu().numpy()\n",
        "                y = y.cpu().numpy()\n",
        "\n",
        "                history_val['val_loss'] += loss.item() * x.size(0)\n",
        "                for name, func in zip(metrics_name, metrics):\n",
        "                    try:\n",
        "                        history_val['val_'+name] += func(y, y_pred) * x.size(0)\n",
        "                    except:\n",
        "                        if task == 'binary': y_pred_ = y_pred.round()\n",
        "                        elif task == 'multiclass': y_pred_ = y_pred.argmax(axis=-1)\n",
        "\n",
        "                        history_val['val_'+name] += func(y, y_pred_) * x.size(0)\n",
        "\n",
        "        for name in history_val:\n",
        "            history_val[name] /= len(val_dl.dataset)\n",
        "\n",
        "        # PRINTING RESULTS\n",
        "\n",
        "        end_time_epoch = time.time()\n",
        "\n",
        "        for name in history_train:\n",
        "            history[name].append(history_train[name])\n",
        "            history['val_'+name].append(history_val['val_'+name])\n",
        "\n",
        "        total_time_epoch = end_time_epoch - start_time_epoch\n",
        "\n",
        "        print(f'Epoch {epoch+1:4d} {total_time_epoch:4.0f}sec', end='\\t')\n",
        "        for name in history_train:\n",
        "            print(f'{name}: {history[name][-1]:10.3g}', end='\\t')\n",
        "            print(f\"val_{name}: {history['val_'+name][-1]:10.3g}\", end='\\t')\n",
        "        print()\n",
        "\n",
        "    # END OF TRAINING LOOP\n",
        "\n",
        "    end_time_train       = time.time()\n",
        "    total_time_train     = end_time_train - start_time_train\n",
        "    print()\n",
        "    print('Time total:     %5.2f sec' % (total_time_train))\n",
        "\n",
        "    return history\n"
      ],
      "metadata": {
        "id": "Nxo4p3IUgOx5"
      },
      "execution_count": 100,
      "outputs": []
    },
    {
      "cell_type": "code",
      "source": [
        "from sklearn.metrics import accuracy_score, roc_auc_score\n",
        "\n",
        "history = train(model, optimizer, loss_fn, train_dl, test_dl,\n",
        "                epochs=100,\n",
        "                metrics=[accuracy_score, roc_auc_score],\n",
        "                device=device,\n",
        "                task='binary')"
      ],
      "metadata": {
        "id": "vlJhltM40qpx",
        "outputId": "26bf7145-f955-4264-a4a0-6cd27449668a",
        "colab": {
          "base_uri": "https://localhost:8080/"
        }
      },
      "execution_count": 101,
      "outputs": [
        {
          "metadata": {
            "tags": null
          },
          "name": "stdout",
          "output_type": "stream",
          "text": [
            "train() called: model=BinaryClassifier, opt=SGD(lr=0.001000), epochs=100, device=cpu\n",
            "\n",
            "Epoch    1    1sec\tloss:      0.699\tval_loss:      0.698\taccuracy_score:      0.499\tval_accuracy_score:      0.499\troc_auc_score:      0.295\tval_roc_auc_score:      0.315\t\n",
            "Epoch    2    1sec\tloss:      0.698\tval_loss:      0.697\taccuracy_score:      0.496\tval_accuracy_score:       0.49\troc_auc_score:      0.333\tval_roc_auc_score:      0.351\t\n",
            "Epoch    3    1sec\tloss:      0.696\tval_loss:      0.696\taccuracy_score:      0.474\tval_accuracy_score:      0.453\troc_auc_score:      0.368\tval_roc_auc_score:      0.385\t\n",
            "Epoch    4    1sec\tloss:      0.695\tval_loss:      0.695\taccuracy_score:      0.451\tval_accuracy_score:      0.424\troc_auc_score:      0.405\tval_roc_auc_score:      0.409\t\n",
            "Epoch    5    1sec\tloss:      0.694\tval_loss:      0.694\taccuracy_score:      0.435\tval_accuracy_score:      0.443\troc_auc_score:      0.436\tval_roc_auc_score:      0.448\t\n",
            "Epoch    6    1sec\tloss:      0.694\tval_loss:      0.693\taccuracy_score:      0.461\tval_accuracy_score:      0.491\troc_auc_score:      0.466\tval_roc_auc_score:      0.479\t\n",
            "Epoch    7    1sec\tloss:      0.693\tval_loss:      0.693\taccuracy_score:      0.505\tval_accuracy_score:      0.504\troc_auc_score:      0.499\tval_roc_auc_score:       0.51\t\n",
            "Epoch    8    1sec\tloss:      0.692\tval_loss:      0.692\taccuracy_score:      0.525\tval_accuracy_score:      0.527\troc_auc_score:      0.526\tval_roc_auc_score:      0.533\t\n",
            "Epoch    9    1sec\tloss:      0.692\tval_loss:      0.692\taccuracy_score:      0.531\tval_accuracy_score:      0.526\troc_auc_score:      0.554\tval_roc_auc_score:      0.562\t\n",
            "Epoch   10    1sec\tloss:      0.691\tval_loss:      0.691\taccuracy_score:      0.528\tval_accuracy_score:      0.525\troc_auc_score:      0.582\tval_roc_auc_score:      0.587\t\n",
            "Epoch   11    1sec\tloss:      0.691\tval_loss:      0.691\taccuracy_score:      0.519\tval_accuracy_score:      0.521\troc_auc_score:      0.609\tval_roc_auc_score:      0.609\t\n",
            "Epoch   12    1sec\tloss:       0.69\tval_loss:       0.69\taccuracy_score:      0.516\tval_accuracy_score:      0.516\troc_auc_score:      0.628\tval_roc_auc_score:      0.632\t\n",
            "Epoch   13    1sec\tloss:       0.69\tval_loss:       0.69\taccuracy_score:      0.513\tval_accuracy_score:      0.513\troc_auc_score:      0.649\tval_roc_auc_score:      0.652\t\n",
            "Epoch   14    1sec\tloss:      0.689\tval_loss:      0.689\taccuracy_score:       0.51\tval_accuracy_score:       0.51\troc_auc_score:      0.673\tval_roc_auc_score:      0.668\t\n",
            "Epoch   15    1sec\tloss:      0.689\tval_loss:      0.689\taccuracy_score:      0.509\tval_accuracy_score:      0.509\troc_auc_score:      0.689\tval_roc_auc_score:      0.691\t\n",
            "Epoch   16    1sec\tloss:      0.689\tval_loss:      0.688\taccuracy_score:      0.508\tval_accuracy_score:      0.507\troc_auc_score:      0.706\tval_roc_auc_score:      0.706\t\n",
            "Epoch   17    1sec\tloss:      0.688\tval_loss:      0.688\taccuracy_score:      0.507\tval_accuracy_score:      0.506\troc_auc_score:      0.723\tval_roc_auc_score:      0.719\t\n",
            "Epoch   18    1sec\tloss:      0.688\tval_loss:      0.688\taccuracy_score:      0.507\tval_accuracy_score:      0.505\troc_auc_score:      0.735\tval_roc_auc_score:      0.734\t\n",
            "Epoch   19    1sec\tloss:      0.687\tval_loss:      0.687\taccuracy_score:      0.507\tval_accuracy_score:      0.504\troc_auc_score:      0.751\tval_roc_auc_score:       0.75\t\n",
            "Epoch   20    1sec\tloss:      0.687\tval_loss:      0.687\taccuracy_score:      0.507\tval_accuracy_score:      0.504\troc_auc_score:      0.764\tval_roc_auc_score:      0.757\t\n",
            "Epoch   21    1sec\tloss:      0.686\tval_loss:      0.686\taccuracy_score:      0.507\tval_accuracy_score:      0.504\troc_auc_score:      0.774\tval_roc_auc_score:      0.766\t\n",
            "Epoch   22    1sec\tloss:      0.686\tval_loss:      0.686\taccuracy_score:      0.509\tval_accuracy_score:      0.506\troc_auc_score:      0.784\tval_roc_auc_score:       0.78\t\n",
            "Epoch   23    1sec\tloss:      0.685\tval_loss:      0.685\taccuracy_score:      0.509\tval_accuracy_score:      0.506\troc_auc_score:      0.794\tval_roc_auc_score:      0.785\t\n",
            "Epoch   24    1sec\tloss:      0.685\tval_loss:      0.685\taccuracy_score:      0.508\tval_accuracy_score:      0.506\troc_auc_score:      0.804\tval_roc_auc_score:      0.794\t\n",
            "Epoch   25    1sec\tloss:      0.685\tval_loss:      0.685\taccuracy_score:      0.508\tval_accuracy_score:      0.506\troc_auc_score:      0.812\tval_roc_auc_score:      0.801\t\n",
            "Epoch   26    1sec\tloss:      0.684\tval_loss:      0.684\taccuracy_score:      0.511\tval_accuracy_score:      0.506\troc_auc_score:      0.819\tval_roc_auc_score:      0.811\t\n",
            "Epoch   27    1sec\tloss:      0.684\tval_loss:      0.684\taccuracy_score:      0.512\tval_accuracy_score:      0.507\troc_auc_score:      0.826\tval_roc_auc_score:      0.818\t\n",
            "Epoch   28    1sec\tloss:      0.683\tval_loss:      0.683\taccuracy_score:      0.511\tval_accuracy_score:      0.509\troc_auc_score:      0.832\tval_roc_auc_score:      0.829\t\n",
            "Epoch   29    1sec\tloss:      0.683\tval_loss:      0.683\taccuracy_score:      0.512\tval_accuracy_score:      0.512\troc_auc_score:      0.838\tval_roc_auc_score:      0.829\t\n",
            "Epoch   30    1sec\tloss:      0.683\tval_loss:      0.682\taccuracy_score:      0.514\tval_accuracy_score:      0.516\troc_auc_score:      0.842\tval_roc_auc_score:      0.838\t\n",
            "Epoch   31    1sec\tloss:      0.682\tval_loss:      0.682\taccuracy_score:      0.518\tval_accuracy_score:      0.517\troc_auc_score:      0.848\tval_roc_auc_score:      0.838\t\n",
            "Epoch   32    1sec\tloss:      0.682\tval_loss:      0.682\taccuracy_score:      0.519\tval_accuracy_score:      0.518\troc_auc_score:      0.853\tval_roc_auc_score:      0.848\t\n",
            "Epoch   33    1sec\tloss:      0.681\tval_loss:      0.681\taccuracy_score:      0.523\tval_accuracy_score:      0.523\troc_auc_score:      0.858\tval_roc_auc_score:      0.851\t\n",
            "Epoch   34    1sec\tloss:      0.681\tval_loss:      0.681\taccuracy_score:      0.524\tval_accuracy_score:      0.526\troc_auc_score:      0.861\tval_roc_auc_score:      0.853\t\n",
            "Epoch   35    1sec\tloss:       0.68\tval_loss:       0.68\taccuracy_score:      0.528\tval_accuracy_score:       0.53\troc_auc_score:      0.866\tval_roc_auc_score:      0.856\t\n",
            "Epoch   36    1sec\tloss:       0.68\tval_loss:       0.68\taccuracy_score:       0.53\tval_accuracy_score:      0.532\troc_auc_score:      0.868\tval_roc_auc_score:       0.86\t\n",
            "Epoch   37    1sec\tloss:       0.68\tval_loss:       0.68\taccuracy_score:      0.532\tval_accuracy_score:      0.538\troc_auc_score:      0.873\tval_roc_auc_score:      0.863\t\n",
            "Epoch   38    1sec\tloss:      0.679\tval_loss:      0.679\taccuracy_score:      0.537\tval_accuracy_score:      0.542\troc_auc_score:      0.875\tval_roc_auc_score:      0.866\t\n",
            "Epoch   39    1sec\tloss:      0.679\tval_loss:      0.679\taccuracy_score:      0.544\tval_accuracy_score:      0.543\troc_auc_score:      0.879\tval_roc_auc_score:      0.867\t\n",
            "Epoch   40    1sec\tloss:      0.678\tval_loss:      0.678\taccuracy_score:      0.546\tval_accuracy_score:      0.546\troc_auc_score:      0.881\tval_roc_auc_score:      0.869\t\n",
            "Epoch   41    1sec\tloss:      0.678\tval_loss:      0.678\taccuracy_score:      0.547\tval_accuracy_score:      0.552\troc_auc_score:      0.882\tval_roc_auc_score:      0.875\t\n",
            "Epoch   42    1sec\tloss:      0.678\tval_loss:      0.677\taccuracy_score:      0.553\tval_accuracy_score:      0.555\troc_auc_score:      0.885\tval_roc_auc_score:      0.875\t\n",
            "Epoch   43    1sec\tloss:      0.677\tval_loss:      0.677\taccuracy_score:      0.556\tval_accuracy_score:      0.559\troc_auc_score:      0.886\tval_roc_auc_score:      0.879\t\n",
            "Epoch   44    1sec\tloss:      0.677\tval_loss:      0.677\taccuracy_score:      0.557\tval_accuracy_score:      0.563\troc_auc_score:      0.889\tval_roc_auc_score:      0.881\t\n",
            "Epoch   45    1sec\tloss:      0.676\tval_loss:      0.676\taccuracy_score:      0.562\tval_accuracy_score:       0.57\troc_auc_score:      0.892\tval_roc_auc_score:      0.879\t\n",
            "Epoch   46    1sec\tloss:      0.676\tval_loss:      0.676\taccuracy_score:      0.559\tval_accuracy_score:      0.579\troc_auc_score:      0.892\tval_roc_auc_score:      0.884\t\n",
            "Epoch   47    1sec\tloss:      0.675\tval_loss:      0.675\taccuracy_score:      0.564\tval_accuracy_score:      0.581\troc_auc_score:      0.894\tval_roc_auc_score:      0.883\t\n",
            "Epoch   48    1sec\tloss:      0.675\tval_loss:      0.675\taccuracy_score:      0.568\tval_accuracy_score:      0.586\troc_auc_score:      0.895\tval_roc_auc_score:      0.886\t\n",
            "Epoch   49    1sec\tloss:      0.675\tval_loss:      0.675\taccuracy_score:      0.579\tval_accuracy_score:      0.593\troc_auc_score:      0.897\tval_roc_auc_score:      0.886\t\n",
            "Epoch   50    1sec\tloss:      0.674\tval_loss:      0.674\taccuracy_score:       0.58\tval_accuracy_score:      0.597\troc_auc_score:      0.899\tval_roc_auc_score:      0.888\t\n",
            "Epoch   51    1sec\tloss:      0.674\tval_loss:      0.674\taccuracy_score:      0.583\tval_accuracy_score:      0.599\troc_auc_score:        0.9\tval_roc_auc_score:       0.89\t\n",
            "Epoch   52    1sec\tloss:      0.673\tval_loss:      0.673\taccuracy_score:      0.588\tval_accuracy_score:      0.604\troc_auc_score:      0.902\tval_roc_auc_score:       0.89\t\n",
            "Epoch   53    1sec\tloss:      0.673\tval_loss:      0.673\taccuracy_score:      0.594\tval_accuracy_score:      0.609\troc_auc_score:      0.903\tval_roc_auc_score:      0.893\t\n",
            "Epoch   54    1sec\tloss:      0.673\tval_loss:      0.673\taccuracy_score:      0.596\tval_accuracy_score:      0.611\troc_auc_score:      0.902\tval_roc_auc_score:      0.893\t\n",
            "Epoch   55    1sec\tloss:      0.672\tval_loss:      0.672\taccuracy_score:      0.604\tval_accuracy_score:      0.617\troc_auc_score:      0.904\tval_roc_auc_score:      0.891\t\n",
            "Epoch   56    1sec\tloss:      0.672\tval_loss:      0.672\taccuracy_score:      0.602\tval_accuracy_score:      0.622\troc_auc_score:      0.906\tval_roc_auc_score:      0.895\t\n",
            "Epoch   57    1sec\tloss:      0.671\tval_loss:      0.671\taccuracy_score:       0.61\tval_accuracy_score:      0.625\troc_auc_score:      0.906\tval_roc_auc_score:      0.895\t\n",
            "Epoch   58    1sec\tloss:      0.671\tval_loss:      0.671\taccuracy_score:      0.612\tval_accuracy_score:       0.63\troc_auc_score:      0.907\tval_roc_auc_score:      0.898\t\n",
            "Epoch   59    1sec\tloss:      0.671\tval_loss:       0.67\taccuracy_score:      0.616\tval_accuracy_score:      0.632\troc_auc_score:      0.908\tval_roc_auc_score:      0.894\t\n",
            "Epoch   60    1sec\tloss:       0.67\tval_loss:       0.67\taccuracy_score:      0.621\tval_accuracy_score:      0.633\troc_auc_score:      0.908\tval_roc_auc_score:      0.896\t\n",
            "Epoch   61    1sec\tloss:       0.67\tval_loss:       0.67\taccuracy_score:      0.626\tval_accuracy_score:      0.636\troc_auc_score:      0.909\tval_roc_auc_score:      0.897\t\n",
            "Epoch   62    1sec\tloss:      0.669\tval_loss:      0.669\taccuracy_score:      0.625\tval_accuracy_score:      0.639\troc_auc_score:       0.91\tval_roc_auc_score:      0.898\t\n",
            "Epoch   63    1sec\tloss:      0.669\tval_loss:      0.669\taccuracy_score:      0.632\tval_accuracy_score:      0.641\troc_auc_score:       0.91\tval_roc_auc_score:      0.898\t\n",
            "Epoch   64    1sec\tloss:      0.668\tval_loss:      0.668\taccuracy_score:      0.635\tval_accuracy_score:      0.647\troc_auc_score:       0.91\tval_roc_auc_score:        0.9\t\n",
            "Epoch   65    1sec\tloss:      0.668\tval_loss:      0.668\taccuracy_score:      0.637\tval_accuracy_score:      0.649\troc_auc_score:      0.913\tval_roc_auc_score:      0.899\t\n",
            "Epoch   66    1sec\tloss:      0.668\tval_loss:      0.668\taccuracy_score:      0.642\tval_accuracy_score:      0.652\troc_auc_score:      0.911\tval_roc_auc_score:      0.902\t\n",
            "Epoch   67    1sec\tloss:      0.667\tval_loss:      0.667\taccuracy_score:      0.647\tval_accuracy_score:      0.656\troc_auc_score:      0.913\tval_roc_auc_score:        0.9\t\n",
            "Epoch   68    1sec\tloss:      0.667\tval_loss:      0.667\taccuracy_score:      0.649\tval_accuracy_score:       0.66\troc_auc_score:      0.914\tval_roc_auc_score:        0.9\t\n",
            "Epoch   69    1sec\tloss:      0.666\tval_loss:      0.666\taccuracy_score:      0.656\tval_accuracy_score:      0.663\troc_auc_score:      0.913\tval_roc_auc_score:      0.902\t\n",
            "Epoch   70    1sec\tloss:      0.666\tval_loss:      0.666\taccuracy_score:      0.649\tval_accuracy_score:      0.668\troc_auc_score:      0.914\tval_roc_auc_score:      0.902\t\n",
            "Epoch   71    1sec\tloss:      0.666\tval_loss:      0.666\taccuracy_score:       0.66\tval_accuracy_score:      0.672\troc_auc_score:      0.913\tval_roc_auc_score:      0.902\t\n",
            "Epoch   72    1sec\tloss:      0.665\tval_loss:      0.665\taccuracy_score:      0.662\tval_accuracy_score:      0.674\troc_auc_score:      0.913\tval_roc_auc_score:      0.906\t\n",
            "Epoch   73    1sec\tloss:      0.665\tval_loss:      0.665\taccuracy_score:      0.664\tval_accuracy_score:      0.677\troc_auc_score:      0.916\tval_roc_auc_score:      0.902\t\n",
            "Epoch   74    1sec\tloss:      0.664\tval_loss:      0.664\taccuracy_score:      0.672\tval_accuracy_score:       0.68\troc_auc_score:      0.914\tval_roc_auc_score:      0.903\t\n",
            "Epoch   75    1sec\tloss:      0.664\tval_loss:      0.664\taccuracy_score:      0.669\tval_accuracy_score:      0.682\troc_auc_score:      0.914\tval_roc_auc_score:      0.906\t\n",
            "Epoch   76    1sec\tloss:      0.663\tval_loss:      0.663\taccuracy_score:      0.678\tval_accuracy_score:      0.683\troc_auc_score:      0.917\tval_roc_auc_score:      0.904\t\n",
            "Epoch   77    1sec\tloss:      0.663\tval_loss:      0.663\taccuracy_score:      0.678\tval_accuracy_score:      0.686\troc_auc_score:      0.916\tval_roc_auc_score:      0.907\t\n",
            "Epoch   78    1sec\tloss:      0.663\tval_loss:      0.663\taccuracy_score:      0.681\tval_accuracy_score:      0.688\troc_auc_score:      0.916\tval_roc_auc_score:      0.906\t\n",
            "Epoch   79    1sec\tloss:      0.662\tval_loss:      0.662\taccuracy_score:      0.681\tval_accuracy_score:       0.69\troc_auc_score:      0.916\tval_roc_auc_score:      0.907\t\n",
            "Epoch   80    1sec\tloss:      0.662\tval_loss:      0.662\taccuracy_score:      0.688\tval_accuracy_score:      0.692\troc_auc_score:      0.915\tval_roc_auc_score:      0.902\t\n",
            "Epoch   81    1sec\tloss:      0.661\tval_loss:      0.661\taccuracy_score:      0.685\tval_accuracy_score:      0.694\troc_auc_score:      0.917\tval_roc_auc_score:      0.904\t\n",
            "Epoch   82    1sec\tloss:      0.661\tval_loss:      0.661\taccuracy_score:      0.695\tval_accuracy_score:      0.696\troc_auc_score:      0.917\tval_roc_auc_score:      0.909\t\n",
            "Epoch   83    1sec\tloss:      0.661\tval_loss:      0.661\taccuracy_score:      0.693\tval_accuracy_score:      0.698\troc_auc_score:      0.917\tval_roc_auc_score:      0.907\t\n",
            "Epoch   84    1sec\tloss:       0.66\tval_loss:       0.66\taccuracy_score:      0.695\tval_accuracy_score:      0.702\troc_auc_score:      0.918\tval_roc_auc_score:      0.905\t\n",
            "Epoch   85    1sec\tloss:       0.66\tval_loss:       0.66\taccuracy_score:      0.698\tval_accuracy_score:      0.703\troc_auc_score:      0.919\tval_roc_auc_score:      0.907\t\n",
            "Epoch   86    1sec\tloss:      0.659\tval_loss:      0.659\taccuracy_score:      0.701\tval_accuracy_score:      0.707\troc_auc_score:       0.92\tval_roc_auc_score:      0.908\t\n",
            "Epoch   87    1sec\tloss:      0.659\tval_loss:      0.659\taccuracy_score:      0.708\tval_accuracy_score:      0.707\troc_auc_score:      0.917\tval_roc_auc_score:      0.906\t\n",
            "Epoch   88    1sec\tloss:      0.658\tval_loss:      0.658\taccuracy_score:      0.707\tval_accuracy_score:      0.709\troc_auc_score:      0.918\tval_roc_auc_score:      0.908\t\n",
            "Epoch   89    1sec\tloss:      0.658\tval_loss:      0.658\taccuracy_score:      0.708\tval_accuracy_score:      0.711\troc_auc_score:      0.919\tval_roc_auc_score:      0.909\t\n",
            "Epoch   90    1sec\tloss:      0.658\tval_loss:      0.658\taccuracy_score:       0.71\tval_accuracy_score:      0.712\troc_auc_score:      0.918\tval_roc_auc_score:      0.906\t\n",
            "Epoch   91    1sec\tloss:      0.657\tval_loss:      0.657\taccuracy_score:       0.71\tval_accuracy_score:      0.714\troc_auc_score:       0.92\tval_roc_auc_score:       0.91\t\n",
            "Epoch   92    1sec\tloss:      0.657\tval_loss:      0.657\taccuracy_score:      0.713\tval_accuracy_score:      0.716\troc_auc_score:       0.92\tval_roc_auc_score:      0.913\t\n",
            "Epoch   93    1sec\tloss:      0.656\tval_loss:      0.656\taccuracy_score:      0.713\tval_accuracy_score:      0.721\troc_auc_score:       0.92\tval_roc_auc_score:      0.912\t\n",
            "Epoch   94    1sec\tloss:      0.656\tval_loss:      0.656\taccuracy_score:       0.72\tval_accuracy_score:      0.721\troc_auc_score:      0.919\tval_roc_auc_score:      0.909\t\n",
            "Epoch   95    1sec\tloss:      0.655\tval_loss:      0.655\taccuracy_score:       0.72\tval_accuracy_score:      0.722\troc_auc_score:      0.919\tval_roc_auc_score:      0.912\t\n",
            "Epoch   96    1sec\tloss:      0.655\tval_loss:      0.655\taccuracy_score:      0.725\tval_accuracy_score:      0.724\troc_auc_score:      0.919\tval_roc_auc_score:       0.91\t\n",
            "Epoch   97    1sec\tloss:      0.655\tval_loss:      0.655\taccuracy_score:      0.723\tval_accuracy_score:      0.726\troc_auc_score:      0.919\tval_roc_auc_score:      0.912\t\n",
            "Epoch   98    1sec\tloss:      0.654\tval_loss:      0.654\taccuracy_score:      0.726\tval_accuracy_score:      0.726\troc_auc_score:      0.919\tval_roc_auc_score:       0.91\t\n",
            "Epoch   99    1sec\tloss:      0.654\tval_loss:      0.654\taccuracy_score:      0.728\tval_accuracy_score:      0.729\troc_auc_score:       0.92\tval_roc_auc_score:      0.909\t\n",
            "Epoch  100    1sec\tloss:      0.653\tval_loss:      0.653\taccuracy_score:      0.725\tval_accuracy_score:      0.729\troc_auc_score:       0.92\tval_roc_auc_score:      0.911\t\n",
            "\n",
            "Time total:     68.59 sec\n"
          ]
        }
      ]
    },
    {
      "cell_type": "code",
      "source": [
        "import matplotlib.pyplot as plt\n",
        "\n",
        "def plot_metric(history, name):\n",
        "  plt.title(f\"Model results with {name}\")\n",
        "  plt.plot(history[name], label='train')\n",
        "  plt.plot(history['val_'+name], label='val')\n",
        "  plt.xlabel('Epoch')\n",
        "  plt.ylabel(name)\n",
        "  plt.legend()\n",
        "\n",
        "\n",
        "plot_metric(history, 'loss')"
      ],
      "metadata": {
        "id": "Z6bF0DAJ3-Z0",
        "outputId": "35abf6a9-0ed7-465a-f46f-1e3529ed2ae8",
        "colab": {
          "base_uri": "https://localhost:8080/",
          "height": 472
        }
      },
      "execution_count": 102,
      "outputs": [
        {
          "data": {
            "image/png": "[encoded data removed]",
            "text/plain": [
              "<Figure size 640x480 with 1 Axes>"
            ]
          },
          "metadata": {},
          "output_type": "display_data"
        }
      ]
    },
    {
      "cell_type": "code",
      "source": [
        "plot_metric(history, 'accuracy_score')"
      ],
      "metadata": {
        "id": "Tj_Qdlsb4BFj",
        "outputId": "7284178c-c29b-4a47-af08-5252fdc872c4",
        "colab": {
          "base_uri": "https://localhost:8080/",
          "height": 472
        }
      },
      "execution_count": 103,
      "outputs": [
        {
          "data": {
            "image/png": "[encoded data removed]",
            "text/plain": [
              "<Figure size 640x480 with 1 Axes>"
            ]
          },
          "metadata": {},
          "output_type": "display_data"
        }
      ]
    },
    {
      "cell_type": "code",
      "source": [
        "from sklearn.metrics import ConfusionMatrixDisplay, RocCurveDisplay\n",
        "\n",
        "model = model.to('cpu')  # відключаємо від gpu\n",
        "y_pred = model.predict(X_test, device)\n",
        "\n",
        "ConfusionMatrixDisplay.from_predictions(y_test, y_pred.round())\n",
        "plt.plot()\n",
        "\n",
        "RocCurveDisplay.from_predictions(y_test, y_pred, pos_label=1)"
      ],
      "metadata": {
        "id": "rOEymVi_4FKv",
        "outputId": "0aaee796-775d-4170-eb90-7ceb2e0e2bd3",
        "colab": {
          "base_uri": "https://localhost:8080/",
          "height": 898
        }
      },
      "execution_count": 104,
      "outputs": [
        {
          "data": {
            "text/plain": [
              "<sklearn.metrics._plot.roc_curve.RocCurveDisplay at 0x7b596bcba230>"
            ]
          },
          "execution_count": 104,
          "metadata": {},
          "output_type": "execute_result"
        },
        {
          "data": {
            "image/png": "[encoded data removed]",
            "text/plain": [
              "<Figure size 640x480 with 2 Axes>"
            ]
          },
          "metadata": {},
          "output_type": "display_data"
        },
        {
          "data": {
            "image/png": "[encoded data removed]",
            "text/plain": [
              "<Figure size 640x480 with 1 Axes>"
            ]
          },
          "metadata": {},
          "output_type": "display_data"
        }
      ]
    },
    {
      "cell_type": "markdown",
      "source": [
        "# Завдання 6\n",
        "Збережіть нейромережу та зробіть прогноз"
      ],
      "metadata": {
        "id": "aoclw4XlgPhB"
      }
    },
    {
      "cell_type": "code",
      "source": [
        "torch.save(model, 'model.pt')"
      ],
      "metadata": {
        "id": "UzVFg-KjgYgy"
      },
      "execution_count": 105,
      "outputs": []
    },
    {
      "cell_type": "code",
      "source": [
        "load_model = torch.load('model.pt')"
      ],
      "metadata": {
        "id": "VFH8eMnB7BXS"
      },
      "execution_count": 106,
      "outputs": []
    },
    {
      "cell_type": "code",
      "source": [
        "load_model"
      ],
      "metadata": {
        "id": "XFp7qh5S7HMI",
        "outputId": "88d99992-1f76-4afb-a484-3c54700e3d73",
        "colab": {
          "base_uri": "https://localhost:8080/"
        }
      },
      "execution_count": 107,
      "outputs": [
        {
          "output_type": "execute_result",
          "data": {
            "text/plain": [
              "BinaryClassifier(\n",
              "  (linear1): Linear(in_features=7, out_features=64, bias=True)\n",
              "  (linear2): Linear(in_features=64, out_features=1, bias=True)\n",
              ")"
            ]
          },
          "metadata": {},
          "execution_count": 107
        }
      ]
    },
    {
      "cell_type": "code",
      "source": [
        "X.iloc[:1]"
      ],
      "metadata": {
        "id": "gZRb7PdP7KrW",
        "outputId": "0121d3ea-49b3-449e-bd22-e342f4580b9f",
        "colab": {
          "base_uri": "https://localhost:8080/",
          "height": 81
        }
      },
      "execution_count": 108,
      "outputs": [
        {
          "output_type": "execute_result",
          "data": {
            "text/plain": [
              "       Size    Weight  Sweetness  Softness  HarvestTime  Ripeness   Acidity\n",
              "0  0.380309  0.626747   0.680712  0.360975     0.567312  0.671933  0.543416"
            ],
            "text/html": [
              "\n",
              "  <div id=\"df-d09ce178-6bac-4416-a7aa-f7a4e219919f\" class=\"colab-df-container\">\n",
              "    <div>\n",
              "<style scoped>\n",
              "    .dataframe tbody tr th:only-of-type {\n",
              "        vertical-align: middle;\n",
              "    }\n",
              "\n",
              "    .dataframe tbody tr th {\n",
              "        vertical-align: top;\n",
              "    }\n",
              "\n",
              "    .dataframe thead th {\n",
              "        text-align: right;\n",
              "    }\n",
              "</style>\n",
              "<table border=\"1\" class=\"dataframe\">\n",
              "  <thead>\n",
              "    <tr style=\"text-align: right;\">\n",
              "      <th></th>\n",
              "      <th>Size</th>\n",
              "      <th>Weight</th>\n",
              "      <th>Sweetness</th>\n",
              "      <th>Softness</th>\n",
              "      <th>HarvestTime</th>\n",
              "      <th>Ripeness</th>\n",
              "      <th>Acidity</th>\n",
              "    </tr>\n",
              "  </thead>\n",
              "  <tbody>\n",
              "    <tr>\n",
              "      <th>0</th>\n",
              "      <td>0.380309</td>\n",
              "      <td>0.626747</td>\n",
              "      <td>0.680712</td>\n",
              "      <td>0.360975</td>\n",
              "      <td>0.567312</td>\n",
              "      <td>0.671933</td>\n",
              "      <td>0.543416</td>\n",
              "    </tr>\n",
              "  </tbody>\n",
              "</table>\n",
              "</div>\n",
              "    <div class=\"colab-df-buttons\">\n",
              "\n",
              "  <div class=\"colab-df-container\">\n",
              "    <button class=\"colab-df-convert\" onclick=\"convertToInteractive('df-d09ce178-6bac-4416-a7aa-f7a4e219919f')\"\n",
              "            title=\"Convert this dataframe to an interactive table.\"\n",
              "            style=\"display:none;\">\n",
              "\n",
              "  <svg xmlns=\"http://www.w3.org/2000/svg\" height=\"24px\" viewBox=\"0 -960 960 960\">\n",
              "    <path d=\"M120-120v-720h720v720H120Zm60-500h600v-160H180v160Zm220 220h160v-160H400v160Zm0 220h160v-160H400v160ZM180-400h160v-160H180v160Zm440 0h160v-160H620v160ZM180-180h160v-160H180v160Zm440 0h160v-160H620v160Z\"/>\n",
              "  </svg>\n",
              "    </button>\n",
              "\n",
              "  <style>\n",
              "    .colab-df-container {\n",
              "      display:flex;\n",
              "      gap: 12px;\n",
              "    }\n",
              "\n",
              "    .colab-df-convert {\n",
              "      background-color: #E8F0FE;\n",
              "      border: none;\n",
              "      border-radius: 50%;\n",
              "      cursor: pointer;\n",
              "      display: none;\n",
              "      fill: #1967D2;\n",
              "      height: 32px;\n",
              "      padding: 0 0 0 0;\n",
              "      width: 32px;\n",
              "    }\n",
              "\n",
              "    .colab-df-convert:hover {\n",
              "      background-color: #E2EBFA;\n",
              "      box-shadow: 0px 1px 2px rgba(60, 64, 67, 0.3), 0px 1px 3px 1px rgba(60, 64, 67, 0.15);\n",
              "      fill: #174EA6;\n",
              "    }\n",
              "\n",
              "    .colab-df-buttons div {\n",
              "      margin-bottom: 4px;\n",
              "    }\n",
              "\n",
              "    [theme=dark] .colab-df-convert {\n",
              "      background-color: #3B4455;\n",
              "      fill: #D2E3FC;\n",
              "    }\n",
              "\n",
              "    [theme=dark] .colab-df-convert:hover {\n",
              "      background-color: #434B5C;\n",
              "      box-shadow: 0px 1px 3px 1px rgba(0, 0, 0, 0.15);\n",
              "      filter: drop-shadow(0px 1px 2px rgba(0, 0, 0, 0.3));\n",
              "      fill: #FFFFFF;\n",
              "    }\n",
              "  </style>\n",
              "\n",
              "    <script>\n",
              "      const buttonEl =\n",
              "        document.querySelector('#df-d09ce178-6bac-4416-a7aa-f7a4e219919f button.colab-df-convert');\n",
              "      buttonEl.style.display =\n",
              "        google.colab.kernel.accessAllowed ? 'block' : 'none';\n",
              "\n",
              "      async function convertToInteractive(key) {\n",
              "        const element = document.querySelector('#df-d09ce178-6bac-4416-a7aa-f7a4e219919f');\n",
              "        const dataTable =\n",
              "          await google.colab.kernel.invokeFunction('convertToInteractive',\n",
              "                                                    [key], {});\n",
              "        if (!dataTable) return;\n",
              "\n",
              "        const docLinkHtml = 'Like what you see? Visit the ' +\n",
              "          '<a target=\"_blank\" href=https://colab.research.google.com/notebooks/data_table.ipynb>data table notebook</a>'\n",
              "          + ' to learn more about interactive tables.';\n",
              "        element.innerHTML = '';\n",
              "        dataTable['output_type'] = 'display_data';\n",
              "        await google.colab.output.renderOutput(dataTable, element);\n",
              "        const docLink = document.createElement('div');\n",
              "        docLink.innerHTML = docLinkHtml;\n",
              "        element.appendChild(docLink);\n",
              "      }\n",
              "    </script>\n",
              "  </div>\n",
              "\n",
              "    </div>\n",
              "  </div>\n"
            ],
            "application/vnd.google.colaboratory.intrinsic+json": {
              "type": "dataframe",
              "summary": "{\n  \"name\": \"X\",\n  \"rows\": 1,\n  \"fields\": [\n    {\n      \"column\": \"Size\",\n      \"properties\": {\n        \"dtype\": \"number\",\n        \"std\": null,\n        \"min\": 0.38030893098661805,\n        \"max\": 0.38030893098661805,\n        \"num_unique_values\": 1,\n        \"samples\": [\n          0.38030893098661805\n        ],\n        \"semantic_type\": \"\",\n        \"description\": \"\"\n      }\n    },\n    {\n      \"column\": \"Weight\",\n      \"properties\": {\n        \"dtype\": \"number\",\n        \"std\": null,\n        \"min\": 0.6267472487759168,\n        \"max\": 0.6267472487759168,\n        \"num_unique_values\": 1,\n        \"samples\": [\n          0.6267472487759168\n        ],\n        \"semantic_type\": \"\",\n        \"description\": \"\"\n      }\n    },\n    {\n      \"column\": \"Sweetness\",\n      \"properties\": {\n        \"dtype\": \"number\",\n        \"std\": null,\n        \"min\": 0.6807117139137728,\n        \"max\": 0.6807117139137728,\n        \"num_unique_values\": 1,\n        \"samples\": [\n          0.6807117139137728\n        ],\n        \"semantic_type\": \"\",\n        \"description\": \"\"\n      }\n    },\n    {\n      \"column\": \"Softness\",\n      \"properties\": {\n        \"dtype\": \"number\",\n        \"std\": null,\n        \"min\": 0.36097546650374973,\n        \"max\": 0.36097546650374973,\n        \"num_unique_values\": 1,\n        \"samples\": [\n          0.36097546650374973\n        ],\n        \"semantic_type\": \"\",\n        \"description\": \"\"\n      }\n    },\n    {\n      \"column\": \"HarvestTime\",\n      \"properties\": {\n        \"dtype\": \"number\",\n        \"std\": null,\n        \"min\": 0.5673117899452469,\n        \"max\": 0.5673117899452469,\n        \"num_unique_values\": 1,\n        \"samples\": [\n          0.5673117899452469\n        ],\n        \"semantic_type\": \"\",\n        \"description\": \"\"\n      }\n    },\n    {\n      \"column\": \"Ripeness\",\n      \"properties\": {\n        \"dtype\": \"number\",\n        \"std\": null,\n        \"min\": 0.6719327930131325,\n        \"max\": 0.6719327930131325,\n        \"num_unique_values\": 1,\n        \"samples\": [\n          0.6719327930131325\n        ],\n        \"semantic_type\": \"\",\n        \"description\": \"\"\n      }\n    },\n    {\n      \"column\": \"Acidity\",\n      \"properties\": {\n        \"dtype\": \"number\",\n        \"std\": null,\n        \"min\": 0.5434157548715725,\n        \"max\": 0.5434157548715725,\n        \"num_unique_values\": 1,\n        \"samples\": [\n          0.5434157548715725\n        ],\n        \"semantic_type\": \"\",\n        \"description\": \"\"\n      }\n    }\n  ]\n}"
            }
          },
          "metadata": {},
          "execution_count": 108
        }
      ]
    },
    {
      "cell_type": "code",
      "source": [
        "X_data = torch.FloatTensor(X.iloc[:1].values)\n",
        "X_data = X_data.to(device)\n",
        "\n",
        "print(X_data)\n",
        "print(X_data.shape)"
      ],
      "metadata": {
        "id": "Qizj-Ler7OPP",
        "outputId": "673cc83e-3cef-4a9b-b316-66cc3061ee04",
        "colab": {
          "base_uri": "https://localhost:8080/"
        }
      },
      "execution_count": 109,
      "outputs": [
        {
          "output_type": "stream",
          "name": "stdout",
          "text": [
            "tensor([[0.3803, 0.6267, 0.6807, 0.3610, 0.5673, 0.6719, 0.5434]])\n",
            "torch.Size([1, 7])\n"
          ]
        }
      ]
    },
    {
      "cell_type": "code",
      "source": [
        "load_model(X_data)"
      ],
      "metadata": {
        "id": "ijLC0IJw7RZg",
        "outputId": "ebfbbedf-72c1-4b1e-e16f-ffb54176092b",
        "colab": {
          "base_uri": "https://localhost:8080/"
        }
      },
      "execution_count": 110,
      "outputs": [
        {
          "output_type": "execute_result",
          "data": {
            "text/plain": [
              "tensor([[0.5712]], grad_fn=<SigmoidBackward0>)"
            ]
          },
          "metadata": {},
          "execution_count": 110
        }
      ]
    }
  ]
}