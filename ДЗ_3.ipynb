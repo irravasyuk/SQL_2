{
  "nbformat": 4,
  "nbformat_minor": 0,
  "metadata": {
    "colab": {
      "provenance": [],
      "include_colab_link": true
    },
    "kernelspec": {
      "name": "python3",
      "display_name": "Python 3"
    },
    "language_info": {
      "name": "python"
    }
  },
  "cells": [
    {
      "cell_type": "markdown",
      "metadata": {
        "id": "view-in-github",
        "colab_type": "text"
      },
      "source": [
        "<a href=\"https://colab.research.google.com/github/irravasyuk/SQL_2/blob/master/%D0%94%D0%97_3.ipynb\" target=\"_parent\"><img src=\"https://colab.research.google.com/assets/colab-badge.svg\" alt=\"Open In Colab\"/></a>"
      ]
    },
    {
      "cell_type": "markdown",
      "source": [
        "Імпортуйте модуль pandas"
      ],
      "metadata": {
        "id": "JcEy7-4Sou1q"
      }
    },
    {
      "cell_type": "code",
      "execution_count": 1,
      "metadata": {
        "id": "bBPN6MQ4omtx"
      },
      "outputs": [],
      "source": [
        "import pandas as pd"
      ]
    },
    {
      "cell_type": "markdown",
      "source": [
        "# Інформація про дані\n",
        "Зібрано дані продажу техніки в різних магазинах.\n",
        "* OrderDate -- дата замовлення\n",
        "* Region    -- регіон де розміщено магазин\n",
        "* Manager   -- ім'я менеджера\n",
        "* SalesMan  -- ім'я продавця\n",
        "* Item      -- тип товару\n",
        "* Units     -- кількість купленого товару\n",
        "* Unit_price -- ціна за штуку\n",
        "* Sale_amt   -- загальна вартість покупки"
      ],
      "metadata": {
        "id": "cR2fUNbco1Fh"
      }
    },
    {
      "cell_type": "code",
      "source": [
        "df = pd.read_csv(\"https://raw.githubusercontent.com/HalyshAnton/IT-Step-Pyton-AI/main/module2/data/sales_data.csv\", index_col=\"Unnamed: 0\")"
      ],
      "metadata": {
        "id": "uvpR4oiIqU7t"
      },
      "execution_count": 5,
      "outputs": []
    },
    {
      "cell_type": "markdown",
      "source": [
        "# Завдання 1\n",
        "\n",
        "Вивести загальну інформацію про таблицю: кількість рядків та стовпців, назви стовпців та їхній тип даних, в яких стовпцях є пропущені значення"
      ],
      "metadata": {
        "id": "SYfF3l1Ao0SC"
      }
    },
    {
      "cell_type": "code",
      "source": [
        "print(\"Загальна інформація про таблицю:\")\n",
        "df.info()\n",
        "\n",
        "missing = df.isnull().sum()\n",
        "missing_columns = missing[missing > 0]\n",
        "\n",
        "print(\"Стовпці з пропущеними значеннями:\\n\", missing_columns)"
      ],
      "metadata": {
        "id": "FF27dmV_ynWM",
        "outputId": "ea5fb82a-2e68-416e-bf1d-daa1be2ff9b5",
        "colab": {
          "base_uri": "https://localhost:8080/"
        }
      },
      "execution_count": 8,
      "outputs": [
        {
          "output_type": "stream",
          "name": "stdout",
          "text": [
            "Загальна інформація про таблицю:\n",
            "<class 'pandas.core.frame.DataFrame'>\n",
            "Index: 45 entries, 0 to 44\n",
            "Data columns (total 8 columns):\n",
            " #   Column      Non-Null Count  Dtype  \n",
            "---  ------      --------------  -----  \n",
            " 0   OrderDate   43 non-null     object \n",
            " 1   Region      43 non-null     object \n",
            " 2   Manager     43 non-null     object \n",
            " 3   SalesMan    43 non-null     object \n",
            " 4   Item        43 non-null     object \n",
            " 5   Units       45 non-null     float64\n",
            " 6   Unit_price  45 non-null     float64\n",
            " 7   Sale_amt    45 non-null     float64\n",
            "dtypes: float64(3), object(5)\n",
            "memory usage: 3.2+ KB\n",
            "Стовпці з пропущеними значеннями:\n",
            " OrderDate    2\n",
            "Region       2\n",
            "Manager      2\n",
            "SalesMan     2\n",
            "Item         2\n",
            "dtype: int64\n"
          ]
        }
      ]
    },
    {
      "cell_type": "markdown",
      "source": [
        "# Завдання 2\n",
        "\n",
        "Перейменуйте стовпчики так, щоб назви містили літери нижнього регістру"
      ],
      "metadata": {
        "id": "GtiSCylwuhgl"
      }
    },
    {
      "cell_type": "code",
      "source": [
        "df.columns = df.columns.str.lower()\n",
        "df.columns"
      ],
      "metadata": {
        "id": "EWZj1Pltu2la",
        "outputId": "96252ae8-2bcc-49b7-8a60-5eb8b21b4418",
        "colab": {
          "base_uri": "https://localhost:8080/"
        }
      },
      "execution_count": 11,
      "outputs": [
        {
          "output_type": "execute_result",
          "data": {
            "text/plain": [
              "Index(['orderdate', 'region', 'manager', 'salesman', 'item', 'units',\n",
              "       'unit_price', 'sale_amt'],\n",
              "      dtype='object')"
            ]
          },
          "metadata": {},
          "execution_count": 11
        }
      ]
    },
    {
      "cell_type": "markdown",
      "source": [
        "# Завдання 3\n",
        "Виведіть дані про купівлі телевізорів та телефонів"
      ],
      "metadata": {
        "id": "4opZJS6YtxzK"
      }
    },
    {
      "cell_type": "code",
      "source": [
        "tv = df[df['item'] == 'Television']\n",
        "phone = df[df['item'] == 'Cell Phone']\n",
        "\n",
        "print(\"Дані про купівлю телевізору:\\n\", tv)\n",
        "\n",
        "print(\"Дані про купівлю телефону:\\n\", phone)"
      ],
      "metadata": {
        "id": "cUenrZqdugpM",
        "outputId": "aaad1c53-94ff-4c29-fb71-1faf83090a0a",
        "colab": {
          "base_uri": "https://localhost:8080/"
        }
      },
      "execution_count": 13,
      "outputs": [
        {
          "output_type": "stream",
          "name": "stdout",
          "text": [
            "Дані про купівлю телевізору:\n",
            "      orderdate   region  manager   salesman        item  units  unit_price  \\\n",
            "0   2018-01-06     East   Martha  Alexander  Television   95.0      1198.0   \n",
            "2   2018-02-09  Central  Hermann       Luis  Television   36.0      1198.0   \n",
            "4   2018-03-15     West  Timothy    Stephen  Television   56.0      1198.0   \n",
            "6   2018-04-18  Central   Martha     Steven  Television   75.0      1198.0   \n",
            "7   2018-05-05  Central  Hermann       Luis  Television   90.0      1198.0   \n",
            "8   2018-05-22     West  Douglas    Michael  Television   32.0      1198.0   \n",
            "10  2018-06-25  Central  Hermann      Sigal  Television   90.0      1198.0   \n",
            "13  2018-08-15     East   Martha  Alexander  Television   35.0      1198.0   \n",
            "20  2018-12-12  Central  Douglas       John  Television   67.0      1198.0   \n",
            "27  2019-04-10  Central   Martha     Steven  Television   66.0      1198.0   \n",
            "29  2019-05-14  Central  Timothy      David  Television   53.0      1198.0   \n",
            "36  2019-09-10  Central  Timothy      David  Television    7.0      1198.0   \n",
            "39  2019-10-31  Central   Martha     Steven  Television   14.0      1198.0   \n",
            "\n",
            "    sale_amt  \n",
            "0   113810.0  \n",
            "2    43128.0  \n",
            "4    67088.0  \n",
            "6    89850.0  \n",
            "7   107820.0  \n",
            "8    38336.0  \n",
            "10  107820.0  \n",
            "13   41930.0  \n",
            "20   80266.0  \n",
            "27   79068.0  \n",
            "29   63494.0  \n",
            "36    8386.0  \n",
            "39   16772.0  \n",
            "Дані про купівлю телефону:\n",
            "      orderdate   region  manager   salesman        item  units  unit_price  \\\n",
            "3   2018-02-26  Central  Timothy      David  Cell Phone   27.0       225.0   \n",
            "17  2018-10-22     East   Martha  Alexander  Cell Phone   64.0       225.0   \n",
            "18  2018-11-08     East  Douglas      Karen  Cell Phone   15.0       225.0   \n",
            "28  2019-04-27     East   Martha      Diana  Cell Phone   96.0       225.0   \n",
            "37  2019-09-27     West  Timothy    Stephen  Cell Phone   76.0       225.0   \n",
            "\n",
            "    sale_amt  \n",
            "3     6075.0  \n",
            "17   14400.0  \n",
            "18    3375.0  \n",
            "28   21600.0  \n",
            "37   17100.0  \n"
          ]
        }
      ]
    },
    {
      "cell_type": "markdown",
      "source": [
        "# Завдання 4\n",
        "Яка загальна виручка у продавця Luis?"
      ],
      "metadata": {
        "id": "Xj6KjrIvy88t"
      }
    },
    {
      "cell_type": "code",
      "source": [
        "luis_sales = df[df['salesman'] == 'Luis']\n",
        "total_receipts = luis_sales['sale_amt'].sum()\n",
        "\n",
        "print(\"Загальна виручка у продавця Luis:\", total_receipts)"
      ],
      "metadata": {
        "id": "v61fgvNGOimR",
        "outputId": "1d86b506-2504-45b5-8eee-4a03b58c4dad",
        "colab": {
          "base_uri": "https://localhost:8080/"
        }
      },
      "execution_count": 16,
      "outputs": [
        {
          "output_type": "stream",
          "name": "stdout",
          "text": [
            "Загальна виручка у продавця Luis: 206373.0\n"
          ]
        }
      ]
    },
    {
      "cell_type": "markdown",
      "source": [
        "# Завдання 5\n",
        "\n",
        "Скільки і якого товару було продано?\n",
        "\n",
        "див groupby(),"
      ],
      "metadata": {
        "id": "EC6FWEv-u1gT"
      }
    },
    {
      "cell_type": "code",
      "source": [
        "df.groupby(by='item')['units'].sum()"
      ],
      "metadata": {
        "id": "4-MlEzEDzLg7",
        "outputId": "eb7b3e4b-5805-498a-d6ee-ccf5c91e3732",
        "colab": {
          "base_uri": "https://localhost:8080/"
        }
      },
      "execution_count": 21,
      "outputs": [
        {
          "output_type": "execute_result",
          "data": {
            "text/plain": [
              "item\n",
              "Cell Phone      278.0\n",
              "Desk             10.0\n",
              "Home Theater    722.0\n",
              "Television      716.0\n",
              "Video Games     395.0\n",
              "Name: units, dtype: float64"
            ]
          },
          "metadata": {},
          "execution_count": 21
        }
      ]
    },
    {
      "cell_type": "markdown",
      "source": [
        "# Завдання 6\n",
        "Перевірте чи правильно розраховано загальну вартість покупки. Виведіть ті рядки де є помилка. Виправте дані в таблиці"
      ],
      "metadata": {
        "id": "E_yqxKNXxF2u"
      }
    },
    {
      "cell_type": "code",
      "source": [
        "calculated_sale = df['units'] * df['unit_price']\n",
        "error = df['sale_amt'] != calculated_sale\n",
        "print(\"Рядки де є помилка:\", df[error])\n",
        "\n",
        "df.loc[error, 'sale_amt'] = calculated_sale[error]\n",
        "print(\"Після виправлення:\", df[error])"
      ],
      "metadata": {
        "id": "KFDqxG1yx5dS",
        "outputId": "5556c464-096e-4918-d7a0-75c8a5534464",
        "colab": {
          "base_uri": "https://localhost:8080/"
        }
      },
      "execution_count": 23,
      "outputs": [
        {
          "output_type": "stream",
          "name": "stdout",
          "text": [
            "Рядки де є помилка:    orderdate region manager salesman item   units  unit_price  sale_amt\n",
            "43       NaN    NaN     NaN      NaN  NaN  278.00    1125.000  62550.00\n",
            "44       NaN    NaN     NaN      NaN  NaN   34.75     140.625   7818.75\n",
            "Після виправлення:    orderdate region manager salesman item   units  unit_price      sale_amt\n",
            "43       NaN    NaN     NaN      NaN  NaN  278.00    1125.000  312750.00000\n",
            "44       NaN    NaN     NaN      NaN  NaN   34.75     140.625    4886.71875\n"
          ]
        }
      ]
    }
  ]
}