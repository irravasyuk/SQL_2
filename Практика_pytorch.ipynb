{
  "nbformat": 4,
  "nbformat_minor": 0,
  "metadata": {
    "colab": {
      "provenance": [],
      "include_colab_link": true
    },
    "kernelspec": {
      "name": "python3",
      "display_name": "Python 3"
    },
    "language_info": {
      "name": "python"
    }
  },
  "cells": [
    {
      "cell_type": "markdown",
      "metadata": {
        "id": "view-in-github",
        "colab_type": "text"
      },
      "source": [
        "<a href=\"https://colab.research.google.com/github/irravasyuk/SQL_2/blob/master/%D0%9F%D1%80%D0%B0%D0%BA%D1%82%D0%B8%D0%BA%D0%B0_pytorch.ipynb\" target=\"_parent\"><img src=\"https://colab.research.google.com/assets/colab-badge.svg\" alt=\"Open In Colab\"/></a>"
      ]
    },
    {
      "cell_type": "markdown",
      "source": [
        "Імпорт модулів"
      ],
      "metadata": {
        "id": "ZnHVsAJ_5Py3"
      }
    },
    {
      "cell_type": "code",
      "execution_count": 1,
      "metadata": {
        "id": "yJf_g69N5LP6"
      },
      "outputs": [],
      "source": [
        "import torch\n",
        "import numpy as np"
      ]
    },
    {
      "cell_type": "markdown",
      "source": [
        "# Завдання 1\n",
        "\n",
        "Перегляньте інформацію про доступні процесори, та виведіть про них інформацію"
      ],
      "metadata": {
        "id": "pRkcTmfh6jCX"
      }
    },
    {
      "cell_type": "code",
      "source": [
        "print(torch.cuda.is_available())\n",
        "\n",
        "if torch.cuda.is_available():\n",
        "  print(torch.cuda.device_count())\n",
        "  print(torch.cuda.get_device_name(0))\n",
        "\n",
        "tensor = torch.tensor([1, 2, 3])\n",
        "print(tensor.device)"
      ],
      "metadata": {
        "id": "9WZcEjHsFCgP",
        "outputId": "69ac31aa-3dd3-42bc-8275-b4a5b9f568c3",
        "colab": {
          "base_uri": "https://localhost:8080/"
        }
      },
      "execution_count": 2,
      "outputs": [
        {
          "output_type": "stream",
          "name": "stdout",
          "text": [
            "False\n",
            "cpu\n"
          ]
        }
      ]
    },
    {
      "cell_type": "markdown",
      "source": [
        "# Завдання 2\n",
        "Підключіть colab до процесора GPU, та знову виведіть інформацію про доступні процесори"
      ],
      "metadata": {
        "id": "xTLIVYQg6z5G"
      }
    },
    {
      "cell_type": "code",
      "source": [
        "print(torch.cuda.is_available())\n",
        "\n",
        "if torch.cuda.is_available():\n",
        "  print(torch.cuda.device_count())\n",
        "  print(torch.cuda.get_device_name(0))\n",
        "\n",
        "tensor = torch.tensor([1, 2, 3])\n",
        "print(tensor.device)"
      ],
      "metadata": {
        "id": "iVPWDF2D8dAM",
        "outputId": "088445fc-8f6f-4405-8b5d-c357c429f740",
        "colab": {
          "base_uri": "https://localhost:8080/"
        }
      },
      "execution_count": 4,
      "outputs": [
        {
          "output_type": "stream",
          "name": "stdout",
          "text": [
            "True\n",
            "1\n",
            "Tesla T4\n",
            "cpu\n"
          ]
        }
      ]
    },
    {
      "cell_type": "markdown",
      "source": [
        "# Завдання 3\n",
        "Створіть випадковий тензор розміру (2, 3). Виведіть інформацію про його:\n",
        "\n",
        "* розмір\n",
        "* тип даних\n",
        "* процесор\n",
        "* наявність градієнта"
      ],
      "metadata": {
        "id": "OkMil6fb7AiX"
      }
    },
    {
      "cell_type": "code",
      "source": [
        "tensor = torch.randn(2, 3)\n",
        "\n",
        "print(tensor.shape)\n",
        "print(tensor.dtype)\n",
        "print(tensor.device)\n",
        "print(tensor.requires_grad)"
      ],
      "metadata": {
        "id": "ih3MeOto8yrO",
        "outputId": "9bf70b14-ceb0-4acd-b330-7bdb52d26145",
        "colab": {
          "base_uri": "https://localhost:8080/"
        }
      },
      "execution_count": 3,
      "outputs": [
        {
          "output_type": "stream",
          "name": "stdout",
          "text": [
            "torch.Size([2, 3])\n",
            "torch.float32\n",
            "cpu\n",
            "False\n"
          ]
        }
      ]
    },
    {
      "cell_type": "markdown",
      "source": [
        "# Завдання 4\n",
        "\n",
        "Створіть 2 тензора розміру 100. Використовуючи лише модуль `torch` обрахуйте середьню абсолютну похибку(mae) між ними. Виведіть результат як число"
      ],
      "metadata": {
        "id": "nNrrplv_9Vha"
      }
    },
    {
      "cell_type": "code",
      "source": [
        "tensor1 = torch.randn(100)\n",
        "tensor2 = torch.randn(100)\n",
        "\n",
        "mae = torch.mean(torch.abs(tensor1 - tensor2))\n",
        "\n",
        "mae.item()"
      ],
      "metadata": {
        "id": "HybhfrBT9wT5",
        "outputId": "619425a3-bca2-456a-d288-bd8b94cb5343",
        "colab": {
          "base_uri": "https://localhost:8080/"
        }
      },
      "execution_count": 5,
      "outputs": [
        {
          "output_type": "execute_result",
          "data": {
            "text/plain": [
              "1.0551221370697021"
            ]
          },
          "metadata": {},
          "execution_count": 5
        }
      ]
    },
    {
      "cell_type": "markdown",
      "source": [
        "# Завдання 5\n",
        "\n",
        "Створіть 3 випадкових тензора з розмірами:\n",
        "* 32х28х28\n",
        "* 16х28х28\n",
        "* 64х28х28\n",
        "\n",
        "Об'єднайте їх по першій розмірності. Результат має мати розмір 112х28х28"
      ],
      "metadata": {
        "id": "JoU54G199w5-"
      }
    },
    {
      "cell_type": "code",
      "source": [
        "tensor1 = torch.randn(32, 28, 28)\n",
        "tensor2 = torch.randn(16, 28, 28)\n",
        "tensor3 = torch.randn(64, 28, 28)\n",
        "\n",
        "tensor = torch.cat((tensor1, tensor2, tensor3), dim=0)\n",
        "\n",
        "tensor.shape"
      ],
      "metadata": {
        "id": "Ar7NOowB-NBn",
        "outputId": "8a5d25cd-0a5e-4937-ba3a-528f329b0391",
        "colab": {
          "base_uri": "https://localhost:8080/"
        }
      },
      "execution_count": 6,
      "outputs": [
        {
          "output_type": "execute_result",
          "data": {
            "text/plain": [
              "torch.Size([112, 28, 28])"
            ]
          },
          "metadata": {},
          "execution_count": 6
        }
      ]
    },
    {
      "cell_type": "markdown",
      "source": [
        "# Завдання 6\n",
        "Застосуйте метод градієнтного спуску для функції"
      ],
      "metadata": {
        "id": "8v4erUf8-Tnn"
      }
    },
    {
      "cell_type": "code",
      "source": [
        "def f(x):\n",
        "  return x**2/3 + torch.sin(torch.pi*x)\n",
        "\n",
        "device = \"cuda\" if torch.cuda.is_available() else \"cpu\"\n",
        "torch.set_default_device(device)\n",
        "\n",
        "x = torch.tensor(-2.0, requires_grad=True)\n",
        "learning_rate = 1e-1\n",
        "\n",
        "moment = torch.tensor(0.0)\n",
        "beta = 0.99\n",
        "\n",
        "for t in range(2000):\n",
        "    loss = f(x)\n",
        "\n",
        "    loss.backward()\n",
        "\n",
        "    if t % 100 == 0:\n",
        "      print(f'{loss.item()=}')\n",
        "\n",
        "    with torch.no_grad():\n",
        "      moment = beta*moment + learning_rate*x.grad\n",
        "      x -= moment\n",
        "\n",
        "      x.grad = None"
      ],
      "metadata": {
        "id": "c89FE7vc-aWy",
        "outputId": "d73e81e7-1368-41ba-c1b9-8001520e1d09",
        "colab": {
          "base_uri": "https://localhost:8080/"
        }
      },
      "execution_count": 11,
      "outputs": [
        {
          "output_type": "stream",
          "name": "stdout",
          "text": [
            "loss.item()=1.3333332538604736\n",
            "loss.item()=1.0998730659484863\n",
            "loss.item()=0.9519035816192627\n",
            "loss.item()=0.9664893746376038\n",
            "loss.item()=0.956887423992157\n",
            "loss.item()=0.9518420696258545\n",
            "loss.item()=0.9499042630195618\n",
            "loss.item()=0.9491894245147705\n",
            "loss.item()=0.9489275217056274\n",
            "loss.item()=0.9488318562507629\n",
            "loss.item()=0.948796808719635\n",
            "loss.item()=0.9487839341163635\n",
            "loss.item()=0.9487794041633606\n",
            "loss.item()=0.9487776160240173\n",
            "loss.item()=0.9487770795822144\n",
            "loss.item()=0.9487767815589905\n",
            "loss.item()=0.9487767219543457\n",
            "loss.item()=0.9487767219543457\n",
            "loss.item()=0.9487768411636353\n",
            "loss.item()=0.9487767219543457\n"
          ]
        }
      ]
    },
    {
      "cell_type": "code",
      "source": [
        "import matplotlib.pyplot as plt\n",
        "\n",
        "xs = torch.linspace(-3, 5, 100)\n",
        "plt.plot(xs.cpu(), f(xs).cpu(), label='f(x)')\n",
        "plt.scatter(x.item(), f(x).item(), c='red', label='min')\n",
        "plt.legend()"
      ],
      "metadata": {
        "id": "FcSSCQoSNLX0",
        "outputId": "2bbc67de-e76b-45f9-d900-78626f4a08e1",
        "colab": {
          "base_uri": "https://localhost:8080/",
          "height": 447
        }
      },
      "execution_count": 12,
      "outputs": [
        {
          "output_type": "execute_result",
          "data": {
            "text/plain": [
              "<matplotlib.legend.Legend at 0x7fba3bc2ae30>"
            ]
          },
          "metadata": {},
          "execution_count": 12
        },
        {
          "output_type": "display_data",
          "data": {
            "text/plain": [
              "<Figure size 640x480 with 1 Axes>"
            ],
            "image/png": "[encoded data removed]"
          },
          "metadata": {}
        }
      ]
    },
    {
      "cell_type": "markdown",
      "source": [
        "# Завдання 7\n",
        "Застосуйте метод градієнтного спуску для функції. Мінімум функції рівний 0"
      ],
      "metadata": {
        "id": "UjHK74ES-iuO"
      }
    },
    {
      "cell_type": "code",
      "source": [
        "def f1(x, y):\n",
        "  # функція Швефеля\n",
        "  return  418.9829*2 - x*torch.sin(x.abs().sqrt()) - y*torch.sin(y.abs().sqrt())\n",
        "\n",
        "def f2(x, y):\n",
        "  # трьохгорбна функція\n",
        "  return 2*x**2  - 1.05*x**4 + 1/6*x**6 + x*y  + y**2\n",
        "\n",
        "def f3(x, y):\n",
        "  # функція птах\n",
        "  return 106.7645 + torch.sin(x)*torch.exp((1-torch.cos(y))**2) + \\\n",
        "  torch.cos(y)*torch.exp((1-torch.sin(x))**2) + \\\n",
        "  (x-y)**2"
      ],
      "metadata": {
        "id": "vRD515Ik_xM-"
      },
      "execution_count": 13,
      "outputs": []
    },
    {
      "cell_type": "code",
      "source": [
        "from torch.optim import SGD\n",
        "\n",
        "learning_rate = 1e-2\n",
        "epochs = 500\n",
        "\n",
        "x = torch.tensor(2.0, requires_grad=True)\n",
        "y = torch.tensor(1.0, requires_grad=True)\n",
        "\n",
        "optimizer = SGD([x, y],\n",
        "                lr=learning_rate)\n",
        "\n",
        "for i in range(epochs):\n",
        "    loss = f1(x, y)\n",
        "    loss.backward()\n",
        "\n",
        "    if i % 5 == 0:\n",
        "        print(f\"Loss on {i} iteration for f1: {loss.item()}\")\n",
        "\n",
        "    optimizer.step()\n",
        "    optimizer.zero_grad()\n",
        "\n",
        "print(\"Мінімум функції f1 досягнуто при x =\", x.item(), \"і y =\", y.item())"
      ],
      "metadata": {
        "id": "j2RaZh9E-oyK",
        "outputId": "228921ad-258e-414a-e8f3-b50b3baa4d94",
        "colab": {
          "base_uri": "https://localhost:8080/"
        }
      },
      "execution_count": 15,
      "outputs": [
        {
          "output_type": "stream",
          "name": "stdout",
          "text": [
            "Loss on 0 iteration for f1: 835.1488037109375\n",
            "Loss on 5 iteration for f1: 835.0267333984375\n",
            "Loss on 10 iteration for f1: 834.904541015625\n",
            "Loss on 15 iteration for f1: 834.7826538085938\n",
            "Loss on 20 iteration for f1: 834.6611938476562\n",
            "Loss on 25 iteration for f1: 834.5403442382812\n",
            "Loss on 30 iteration for f1: 834.4203491210938\n",
            "Loss on 35 iteration for f1: 834.3013305664062\n",
            "Loss on 40 iteration for f1: 834.1835327148438\n",
            "Loss on 45 iteration for f1: 834.0669555664062\n",
            "Loss on 50 iteration for f1: 833.951904296875\n",
            "Loss on 55 iteration for f1: 833.8384399414062\n",
            "Loss on 60 iteration for f1: 833.7266235351562\n",
            "Loss on 65 iteration for f1: 833.6165771484375\n",
            "Loss on 70 iteration for f1: 833.5084838867188\n",
            "Loss on 75 iteration for f1: 833.40234375\n",
            "Loss on 80 iteration for f1: 833.2982177734375\n",
            "Loss on 85 iteration for f1: 833.1962890625\n",
            "Loss on 90 iteration for f1: 833.0963745117188\n",
            "Loss on 95 iteration for f1: 832.998779296875\n",
            "Loss on 100 iteration for f1: 832.9033203125\n",
            "Loss on 105 iteration for f1: 832.8101806640625\n",
            "Loss on 110 iteration for f1: 832.7192993164062\n",
            "Loss on 115 iteration for f1: 832.6306762695312\n",
            "Loss on 120 iteration for f1: 832.5443115234375\n",
            "Loss on 125 iteration for f1: 832.460205078125\n",
            "Loss on 130 iteration for f1: 832.37841796875\n",
            "Loss on 135 iteration for f1: 832.2988891601562\n",
            "Loss on 140 iteration for f1: 832.2216186523438\n",
            "Loss on 145 iteration for f1: 832.146484375\n",
            "Loss on 150 iteration for f1: 832.0736083984375\n",
            "Loss on 155 iteration for f1: 832.0028686523438\n",
            "Loss on 160 iteration for f1: 831.934326171875\n",
            "Loss on 165 iteration for f1: 831.8678588867188\n",
            "Loss on 170 iteration for f1: 831.8034057617188\n",
            "Loss on 175 iteration for f1: 831.740966796875\n",
            "Loss on 180 iteration for f1: 831.6806030273438\n",
            "Loss on 185 iteration for f1: 831.6221313476562\n",
            "Loss on 190 iteration for f1: 831.5655517578125\n",
            "Loss on 195 iteration for f1: 831.5108642578125\n",
            "Loss on 200 iteration for f1: 831.4579467773438\n",
            "Loss on 205 iteration for f1: 831.4067993164062\n",
            "Loss on 210 iteration for f1: 831.357421875\n",
            "Loss on 215 iteration for f1: 831.3097534179688\n",
            "Loss on 220 iteration for f1: 831.263671875\n",
            "Loss on 225 iteration for f1: 831.2191772460938\n",
            "Loss on 230 iteration for f1: 831.17626953125\n",
            "Loss on 235 iteration for f1: 831.1348266601562\n",
            "Loss on 240 iteration for f1: 831.0948486328125\n",
            "Loss on 245 iteration for f1: 831.0563354492188\n",
            "Loss on 250 iteration for f1: 831.0191040039062\n",
            "Loss on 255 iteration for f1: 830.9832763671875\n",
            "Loss on 260 iteration for f1: 830.94873046875\n",
            "Loss on 265 iteration for f1: 830.9154052734375\n",
            "Loss on 270 iteration for f1: 830.88330078125\n",
            "Loss on 275 iteration for f1: 830.8523559570312\n",
            "Loss on 280 iteration for f1: 830.8226318359375\n",
            "Loss on 285 iteration for f1: 830.7939453125\n",
            "Loss on 290 iteration for f1: 830.7662963867188\n",
            "Loss on 295 iteration for f1: 830.7396850585938\n",
            "Loss on 300 iteration for f1: 830.7140502929688\n",
            "Loss on 305 iteration for f1: 830.6893920898438\n",
            "Loss on 310 iteration for f1: 830.6655883789062\n",
            "Loss on 315 iteration for f1: 830.6427612304688\n",
            "Loss on 320 iteration for f1: 830.6207885742188\n",
            "Loss on 325 iteration for f1: 830.599609375\n",
            "Loss on 330 iteration for f1: 830.5792236328125\n",
            "Loss on 335 iteration for f1: 830.5596313476562\n",
            "Loss on 340 iteration for f1: 830.5408325195312\n",
            "Loss on 345 iteration for f1: 830.5226440429688\n",
            "Loss on 350 iteration for f1: 830.5051879882812\n",
            "Loss on 355 iteration for f1: 830.4884033203125\n",
            "Loss on 360 iteration for f1: 830.4722900390625\n",
            "Loss on 365 iteration for f1: 830.456787109375\n",
            "Loss on 370 iteration for f1: 830.4418334960938\n",
            "Loss on 375 iteration for f1: 830.4275512695312\n",
            "Loss on 380 iteration for f1: 830.4137573242188\n",
            "Loss on 385 iteration for f1: 830.4004516601562\n",
            "Loss on 390 iteration for f1: 830.3876953125\n",
            "Loss on 395 iteration for f1: 830.3754272460938\n",
            "Loss on 400 iteration for f1: 830.3636474609375\n",
            "Loss on 405 iteration for f1: 830.3523559570312\n",
            "Loss on 410 iteration for f1: 830.3414916992188\n",
            "Loss on 415 iteration for f1: 830.3309936523438\n",
            "Loss on 420 iteration for f1: 830.3209228515625\n",
            "Loss on 425 iteration for f1: 830.311279296875\n",
            "Loss on 430 iteration for f1: 830.3019409179688\n",
            "Loss on 435 iteration for f1: 830.2930297851562\n",
            "Loss on 440 iteration for f1: 830.284423828125\n",
            "Loss on 445 iteration for f1: 830.2762451171875\n",
            "Loss on 450 iteration for f1: 830.268310546875\n",
            "Loss on 455 iteration for f1: 830.2606811523438\n",
            "Loss on 460 iteration for f1: 830.2533569335938\n",
            "Loss on 465 iteration for f1: 830.246337890625\n",
            "Loss on 470 iteration for f1: 830.2395629882812\n",
            "Loss on 475 iteration for f1: 830.2330932617188\n",
            "Loss on 480 iteration for f1: 830.2268676757812\n",
            "Loss on 485 iteration for f1: 830.2208862304688\n",
            "Loss on 490 iteration for f1: 830.2151489257812\n",
            "Loss on 495 iteration for f1: 830.2095947265625\n",
            "Мінімум функції f1 досягнуто при x = 4.78043794631958 і y = 4.58408784866333\n"
          ]
        }
      ]
    },
    {
      "cell_type": "code",
      "source": [
        "x = torch.tensor(2.0, requires_grad=True)\n",
        "y = torch.tensor(1.0, requires_grad=True)\n",
        "\n",
        "optimizer = SGD([x, y], lr=learning_rate)\n",
        "\n",
        "for i in range(epochs):\n",
        "    loss = f2(x, y)\n",
        "    loss.backward()\n",
        "\n",
        "    if i % 5 == 0:\n",
        "        print(f\"Loss on {i} iteration for f2: {loss.item()}\")\n",
        "\n",
        "    optimizer.step()\n",
        "    optimizer.zero_grad()\n",
        "\n",
        "print(\"Мінімум функції f2 досягнуто при x =\", x.item(), \"і y =\", y.item())"
      ],
      "metadata": {
        "id": "uxIOlrKiRp9L",
        "outputId": "7f5f73bb-b3a8-445e-e572-51c17123473a",
        "colab": {
          "base_uri": "https://localhost:8080/"
        }
      },
      "execution_count": 16,
      "outputs": [
        {
          "output_type": "stream",
          "name": "stdout",
          "text": [
            "Loss on 0 iteration for f2: 4.866667747497559\n",
            "Loss on 5 iteration for f2: 3.205026149749756\n",
            "Loss on 10 iteration for f2: 2.5653061866760254\n",
            "Loss on 15 iteration for f2: 2.127171754837036\n",
            "Loss on 20 iteration for f2: 1.7935703992843628\n",
            "Loss on 25 iteration for f2: 1.5296543836593628\n",
            "Loss on 30 iteration for f2: 1.316636323928833\n",
            "Loss on 35 iteration for f2: 1.142491102218628\n",
            "Loss on 40 iteration for f2: 0.9989026188850403\n",
            "Loss on 45 iteration for f2: 0.8798709511756897\n",
            "Loss on 50 iteration for f2: 0.7809152603149414\n",
            "Loss on 55 iteration for f2: 0.6985721588134766\n",
            "Loss on 60 iteration for f2: 0.6300683617591858\n",
            "Loss on 65 iteration for f2: 0.5731307864189148\n",
            "Loss on 70 iteration for f2: 0.5258541107177734\n",
            "Loss on 75 iteration for f2: 0.4866386651992798\n",
            "Loss on 80 iteration for f2: 0.45413780212402344\n",
            "Loss on 85 iteration for f2: 0.4272187054157257\n",
            "Loss on 90 iteration for f2: 0.4049335718154907\n",
            "Loss on 95 iteration for f2: 0.3864932954311371\n",
            "Loss on 100 iteration for f2: 0.3712412714958191\n",
            "Loss on 105 iteration for f2: 0.3586266040802002\n",
            "Loss on 110 iteration for f2: 0.3481977880001068\n",
            "Loss on 115 iteration for f2: 0.3395770490169525\n",
            "Loss on 120 iteration for f2: 0.33245232701301575\n",
            "Loss on 125 iteration for f2: 0.326566219329834\n",
            "Loss on 130 iteration for f2: 0.3217015862464905\n",
            "Loss on 135 iteration for f2: 0.31768274307250977\n",
            "Loss on 140 iteration for f2: 0.31436461210250854\n",
            "Loss on 145 iteration for f2: 0.3116227388381958\n",
            "Loss on 150 iteration for f2: 0.3093595504760742\n",
            "Loss on 155 iteration for f2: 0.30749011039733887\n",
            "Loss on 160 iteration for f2: 0.30594557523727417\n",
            "Loss on 165 iteration for f2: 0.3046707510948181\n",
            "Loss on 170 iteration for f2: 0.3036184310913086\n",
            "Loss on 175 iteration for f2: 0.30274832248687744\n",
            "Loss on 180 iteration for f2: 0.3020312786102295\n",
            "Loss on 185 iteration for f2: 0.3014398217201233\n",
            "Loss on 190 iteration for f2: 0.3009515404701233\n",
            "Loss on 195 iteration for f2: 0.3005468249320984\n",
            "Loss on 200 iteration for f2: 0.3002135753631592\n",
            "Loss on 205 iteration for f2: 0.29993873834609985\n",
            "Loss on 210 iteration for f2: 0.2997114658355713\n",
            "Loss on 215 iteration for f2: 0.29952436685562134\n",
            "Loss on 220 iteration for f2: 0.2993704080581665\n",
            "Loss on 225 iteration for f2: 0.29924243688583374\n",
            "Loss on 230 iteration for f2: 0.2991372346878052\n",
            "Loss on 235 iteration for f2: 0.2990500330924988\n",
            "Loss on 240 iteration for f2: 0.29897820949554443\n",
            "Loss on 245 iteration for f2: 0.2989189028739929\n",
            "Loss on 250 iteration for f2: 0.2988707423210144\n",
            "Loss on 255 iteration for f2: 0.2988293170928955\n",
            "Loss on 260 iteration for f2: 0.2987966537475586\n",
            "Loss on 265 iteration for f2: 0.29876917600631714\n",
            "Loss on 270 iteration for f2: 0.29874658584594727\n",
            "Loss on 275 iteration for f2: 0.2987280488014221\n",
            "Loss on 280 iteration for f2: 0.29871153831481934\n",
            "Loss on 285 iteration for f2: 0.2986997961997986\n",
            "Loss on 290 iteration for f2: 0.29868894815444946\n",
            "Loss on 295 iteration for f2: 0.29868006706237793\n",
            "Loss on 300 iteration for f2: 0.29867255687713623\n",
            "Loss on 305 iteration for f2: 0.29866719245910645\n",
            "Loss on 310 iteration for f2: 0.298661470413208\n",
            "Loss on 315 iteration for f2: 0.29865795373916626\n",
            "Loss on 320 iteration for f2: 0.2986552119255066\n",
            "Loss on 325 iteration for f2: 0.29865139722824097\n",
            "Loss on 330 iteration for f2: 0.29864972829818726\n",
            "Loss on 335 iteration for f2: 0.2986472249031067\n",
            "Loss on 340 iteration for f2: 0.29864585399627686\n",
            "Loss on 345 iteration for f2: 0.2986445426940918\n",
            "Loss on 350 iteration for f2: 0.2986431121826172\n",
            "Loss on 355 iteration for f2: 0.2986430525779724\n",
            "Loss on 360 iteration for f2: 0.2986423969268799\n",
            "Loss on 365 iteration for f2: 0.29864197969436646\n",
            "Loss on 370 iteration for f2: 0.29864102602005005\n",
            "Loss on 375 iteration for f2: 0.2986414432525635\n",
            "Loss on 380 iteration for f2: 0.29864174127578735\n",
            "Loss on 385 iteration for f2: 0.29864007234573364\n",
            "Loss on 390 iteration for f2: 0.29863983392715454\n",
            "Loss on 395 iteration for f2: 0.29864007234573364\n",
            "Loss on 400 iteration for f2: 0.29863911867141724\n",
            "Loss on 405 iteration for f2: 0.29863929748535156\n",
            "Loss on 410 iteration for f2: 0.298639714717865\n",
            "Loss on 415 iteration for f2: 0.29863977432250977\n",
            "Loss on 420 iteration for f2: 0.29863977432250977\n",
            "Loss on 425 iteration for f2: 0.2986389994621277\n",
            "Loss on 430 iteration for f2: 0.2986404299736023\n",
            "Loss on 435 iteration for f2: 0.2986394762992859\n",
            "Loss on 440 iteration for f2: 0.298639178276062\n",
            "Loss on 445 iteration for f2: 0.29863888025283813\n",
            "Loss on 450 iteration for f2: 0.2986385226249695\n",
            "Loss on 455 iteration for f2: 0.2986387014389038\n",
            "Loss on 460 iteration for f2: 0.29863882064819336\n",
            "Loss on 465 iteration for f2: 0.29863816499710083\n",
            "Loss on 470 iteration for f2: 0.2986394166946411\n",
            "Loss on 475 iteration for f2: 0.29863953590393066\n",
            "Loss on 480 iteration for f2: 0.2986398935317993\n",
            "Loss on 485 iteration for f2: 0.29863977432250977\n",
            "Loss on 490 iteration for f2: 0.2986394166946411\n",
            "Loss on 495 iteration for f2: 0.2986382246017456\n",
            "Мінімум функції f2 досягнуто при x = 1.7475396394729614 і y = -0.873648464679718\n"
          ]
        }
      ]
    },
    {
      "cell_type": "code",
      "source": [
        "x = torch.tensor(2.0, requires_grad=True)\n",
        "y = torch.tensor(1.0, requires_grad=True)\n",
        "\n",
        "optimizer = SGD([x, y], lr=learning_rate)\n",
        "\n",
        "for i in range(epochs):\n",
        "    loss = f3(x, y)\n",
        "    loss.backward()\n",
        "\n",
        "    if i % 5 == 0:\n",
        "        print(f\"Loss on {i} iteration for f3: {loss.item()}\")\n",
        "\n",
        "    optimizer.step()\n",
        "    optimizer.zero_grad()\n",
        "\n",
        "print(\"Мінімум функції f3 досягнуто при x =\", x.item(), \"і y =\", y.item())"
      ],
      "metadata": {
        "id": "Pcu9vQAPRq6j",
        "outputId": "377cc390-a76a-4358-8bbc-d12e3cfebe71",
        "colab": {
          "base_uri": "https://localhost:8080/"
        }
      },
      "execution_count": 17,
      "outputs": [
        {
          "output_type": "stream",
          "name": "stdout",
          "text": [
            "Loss on 0 iteration for f3: 109.43253326416016\n",
            "Loss on 5 iteration for f3: 109.1883316040039\n",
            "Loss on 10 iteration for f3: 109.0533218383789\n",
            "Loss on 15 iteration for f3: 108.97702026367188\n",
            "Loss on 20 iteration for f3: 108.92918395996094\n",
            "Loss on 25 iteration for f3: 108.8939437866211\n",
            "Loss on 30 iteration for f3: 108.86380004882812\n",
            "Loss on 35 iteration for f3: 108.83550262451172\n",
            "Loss on 40 iteration for f3: 108.8077392578125\n",
            "Loss on 45 iteration for f3: 108.780029296875\n",
            "Loss on 50 iteration for f3: 108.75222778320312\n",
            "Loss on 55 iteration for f3: 108.72434997558594\n",
            "Loss on 60 iteration for f3: 108.69649505615234\n",
            "Loss on 65 iteration for f3: 108.66873931884766\n",
            "Loss on 70 iteration for f3: 108.6412124633789\n",
            "Loss on 75 iteration for f3: 108.61405181884766\n",
            "Loss on 80 iteration for f3: 108.58737182617188\n",
            "Loss on 85 iteration for f3: 108.56130981445312\n",
            "Loss on 90 iteration for f3: 108.53599548339844\n",
            "Loss on 95 iteration for f3: 108.51155853271484\n",
            "Loss on 100 iteration for f3: 108.48811340332031\n",
            "Loss on 105 iteration for f3: 108.46573638916016\n",
            "Loss on 110 iteration for f3: 108.4445571899414\n",
            "Loss on 115 iteration for f3: 108.42460632324219\n",
            "Loss on 120 iteration for f3: 108.40596771240234\n",
            "Loss on 125 iteration for f3: 108.38866424560547\n",
            "Loss on 130 iteration for f3: 108.3727035522461\n",
            "Loss on 135 iteration for f3: 108.35809326171875\n",
            "Loss on 140 iteration for f3: 108.34480285644531\n",
            "Loss on 145 iteration for f3: 108.33279418945312\n",
            "Loss on 150 iteration for f3: 108.322021484375\n",
            "Loss on 155 iteration for f3: 108.31240844726562\n",
            "Loss on 160 iteration for f3: 108.30390167236328\n",
            "Loss on 165 iteration for f3: 108.29640197753906\n",
            "Loss on 170 iteration for f3: 108.28984069824219\n",
            "Loss on 175 iteration for f3: 108.28411865234375\n",
            "Loss on 180 iteration for f3: 108.27916717529297\n",
            "Loss on 185 iteration for f3: 108.27489471435547\n",
            "Loss on 190 iteration for f3: 108.27123260498047\n",
            "Loss on 195 iteration for f3: 108.26810455322266\n",
            "Loss on 200 iteration for f3: 108.26543426513672\n",
            "Loss on 205 iteration for f3: 108.26317596435547\n",
            "Loss on 210 iteration for f3: 108.26126861572266\n",
            "Loss on 215 iteration for f3: 108.25965881347656\n",
            "Loss on 220 iteration for f3: 108.25830841064453\n",
            "Loss on 225 iteration for f3: 108.25717163085938\n",
            "Loss on 230 iteration for f3: 108.25621795654297\n",
            "Loss on 235 iteration for f3: 108.25542449951172\n",
            "Loss on 240 iteration for f3: 108.25476837158203\n",
            "Loss on 245 iteration for f3: 108.25421905517578\n",
            "Loss on 250 iteration for f3: 108.25375366210938\n",
            "Loss on 255 iteration for f3: 108.25337982177734\n",
            "Loss on 260 iteration for f3: 108.25305938720703\n",
            "Loss on 265 iteration for f3: 108.25279235839844\n",
            "Loss on 270 iteration for f3: 108.25257873535156\n",
            "Loss on 275 iteration for f3: 108.25239562988281\n",
            "Loss on 280 iteration for f3: 108.25225067138672\n",
            "Loss on 285 iteration for f3: 108.25212097167969\n",
            "Loss on 290 iteration for f3: 108.25202178955078\n",
            "Loss on 295 iteration for f3: 108.2519302368164\n",
            "Loss on 300 iteration for f3: 108.25186157226562\n",
            "Loss on 305 iteration for f3: 108.2518081665039\n",
            "Loss on 310 iteration for f3: 108.25175476074219\n",
            "Loss on 315 iteration for f3: 108.25171661376953\n",
            "Loss on 320 iteration for f3: 108.2516860961914\n",
            "Loss on 325 iteration for f3: 108.25165557861328\n",
            "Loss on 330 iteration for f3: 108.25163269042969\n",
            "Loss on 335 iteration for f3: 108.2516098022461\n",
            "Loss on 340 iteration for f3: 108.25159454345703\n",
            "Loss on 345 iteration for f3: 108.25157928466797\n",
            "Loss on 350 iteration for f3: 108.25157928466797\n",
            "Loss on 355 iteration for f3: 108.2515640258789\n",
            "Loss on 360 iteration for f3: 108.25155639648438\n",
            "Loss on 365 iteration for f3: 108.25155639648438\n",
            "Loss on 370 iteration for f3: 108.25154113769531\n",
            "Loss on 375 iteration for f3: 108.25154113769531\n",
            "Loss on 380 iteration for f3: 108.25154113769531\n",
            "Loss on 385 iteration for f3: 108.25154113769531\n",
            "Loss on 390 iteration for f3: 108.25153350830078\n",
            "Loss on 395 iteration for f3: 108.25152587890625\n",
            "Loss on 400 iteration for f3: 108.25152587890625\n",
            "Loss on 405 iteration for f3: 108.25152587890625\n",
            "Loss on 410 iteration for f3: 108.25152587890625\n",
            "Loss on 415 iteration for f3: 108.25153350830078\n",
            "Loss on 420 iteration for f3: 108.25152587890625\n",
            "Loss on 425 iteration for f3: 108.25153350830078\n",
            "Loss on 430 iteration for f3: 108.25152587890625\n",
            "Loss on 435 iteration for f3: 108.25152587890625\n",
            "Loss on 440 iteration for f3: 108.25153350830078\n",
            "Loss on 445 iteration for f3: 108.25152587890625\n",
            "Loss on 450 iteration for f3: 108.25152587890625\n",
            "Loss on 455 iteration for f3: 108.25152587890625\n",
            "Loss on 460 iteration for f3: 108.25151824951172\n",
            "Loss on 465 iteration for f3: 108.25151824951172\n",
            "Loss on 470 iteration for f3: 108.25151824951172\n",
            "Loss on 475 iteration for f3: 108.25152587890625\n",
            "Loss on 480 iteration for f3: 108.25152587890625\n",
            "Loss on 485 iteration for f3: 108.25152587890625\n",
            "Loss on 490 iteration for f3: 108.25152587890625\n",
            "Loss on 495 iteration for f3: 108.25152587890625\n",
            "Мінімум функції f3 досягнуто при x = 0.6655918955802917 і y = 0.9058300256729126\n"
          ]
        }
      ]
    }
  ]
}